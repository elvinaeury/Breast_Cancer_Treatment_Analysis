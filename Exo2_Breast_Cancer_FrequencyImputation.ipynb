{
 "cells": [
  {
   "cell_type": "code",
   "execution_count": 68,
   "metadata": {},
   "outputs": [],
   "source": [
    "import pandas as pd\n",
    "import numpy as np\n",
    "import seaborn as sns\n",
    "import matplotlib.pyplot as plt\n",
    "from sklearn.model_selection import KFold\n",
    "from sklearn.preprocessing import OneHotEncoder\n",
    "from sklearn.preprocessing import LabelEncoder\n",
    "import category_encoders as ce\n",
    "from sklearn.compose import make_column_transformer\n",
    "from sklearn.preprocessing import StandardScaler\n",
    "from sklearn.multiclass import OneVsRestClassifier\n",
    "from sklearn.svm import SVC\n",
    "from sklearn.model_selection import GridSearchCV\n",
    "from sklearn.multiclass import OneVsRestClassifier\n",
    "from sklearn.metrics import classification_report\n",
    "from sklearn.metrics import accuracy_score\n",
    "from sklearn.metrics import confusion_matrix\n",
    "from sklearn.metrics import f1_score\n",
    "from sklearn.decomposition import PCA\n",
    "from sklearn.model_selection import RandomizedSearchCV, train_test_split \n",
    "from sklearn.model_selection import cross_val_score\n",
    "from sklearn.linear_model import LogisticRegression\n",
    "from sklearn.linear_model import LassoLarsCV\n",
    "from sklearn.ensemble import RandomForestClassifier\n",
    "from xgboost import XGBClassifier\n",
    "from sklearn.metrics import plot_roc_curve\n",
    "import itertools\n",
    "from pandas_profiling import ProfileReport\n",
    "#import pandas_profiling\n",
    "from sklearn.model_selection import RandomizedSearchCV\n",
    "from sklearn.model_selection import GridSearchCV\n",
    "from pprint import pprint\n",
    "\n",
    "\n",
    "plt.style.use('bmh')\n",
    "from scipy.stats import iqr\n",
    "import warnings\n",
    "warnings.filterwarnings('ignore')"
   ]
  },
  {
   "cell_type": "code",
   "execution_count": 69,
   "metadata": {},
   "outputs": [],
   "source": [
    "cs=pd.read_csv('~/Projet_ML/BreastCancers.csv').T\n"
   ]
  },
  {
   "cell_type": "markdown",
   "metadata": {},
   "source": [
    "## Data Pre Processing"
   ]
  },
  {
   "cell_type": "code",
   "execution_count": 70,
   "metadata": {},
   "outputs": [
    {
     "data": {
      "text/html": [
       "<div>\n",
       "<style scoped>\n",
       "    .dataframe tbody tr th:only-of-type {\n",
       "        vertical-align: middle;\n",
       "    }\n",
       "\n",
       "    .dataframe tbody tr th {\n",
       "        vertical-align: top;\n",
       "    }\n",
       "\n",
       "    .dataframe thead th {\n",
       "        text-align: right;\n",
       "    }\n",
       "</style>\n",
       "<table border=\"1\" class=\"dataframe\">\n",
       "  <thead>\n",
       "    <tr style=\"text-align: right;\">\n",
       "      <th>Sample_geo_accession</th>\n",
       "      <th>Sample_title</th>\n",
       "      <th>tissue</th>\n",
       "      <th>age</th>\n",
       "      <th>ethnicity</th>\n",
       "      <th>treatment_response</th>\n",
       "      <th>T (tumor)</th>\n",
       "      <th>N (Node)</th>\n",
       "      <th>bmn_grade</th>\n",
       "      <th>PR_status:</th>\n",
       "      <th>ER_status:</th>\n",
       "      <th>...</th>\n",
       "      <th>AFFX-r2-Hs28SrRNA-5_at</th>\n",
       "      <th>AFFX-r2-Hs28SrRNA-M_at</th>\n",
       "      <th>AFFX-r2-P1-cre-3_at</th>\n",
       "      <th>AFFX-r2-P1-cre-5_at</th>\n",
       "      <th>AFFX-ThrX-3_at</th>\n",
       "      <th>AFFX-ThrX-5_at</th>\n",
       "      <th>AFFX-ThrX-M_at</th>\n",
       "      <th>AFFX-TrpnX-3_at</th>\n",
       "      <th>AFFX-TrpnX-5_at</th>\n",
       "      <th>AFFX-TrpnX-M_at</th>\n",
       "    </tr>\n",
       "  </thead>\n",
       "  <tbody>\n",
       "    <tr>\n",
       "      <th>GSM505327</th>\n",
       "      <td>BR_FNA_M157</td>\n",
       "      <td>breast cancer cells</td>\n",
       "      <td>57</td>\n",
       "      <td>white</td>\n",
       "      <td>RD</td>\n",
       "      <td>2</td>\n",
       "      <td>0</td>\n",
       "      <td>2</td>\n",
       "      <td>P</td>\n",
       "      <td>P</td>\n",
       "      <td>...</td>\n",
       "      <td>7.4678</td>\n",
       "      <td>9.3738</td>\n",
       "      <td>15.6236</td>\n",
       "      <td>15.2785</td>\n",
       "      <td>3.2915</td>\n",
       "      <td>3.6526</td>\n",
       "      <td>2.6412</td>\n",
       "      <td>1.2652</td>\n",
       "      <td>3.069</td>\n",
       "      <td>2.0271</td>\n",
       "    </tr>\n",
       "    <tr>\n",
       "      <th>GSM505328</th>\n",
       "      <td>BR_FNA_M196</td>\n",
       "      <td>breast cancer cells</td>\n",
       "      <td>69</td>\n",
       "      <td>asian</td>\n",
       "      <td>RD</td>\n",
       "      <td>2</td>\n",
       "      <td>1</td>\n",
       "      <td>2</td>\n",
       "      <td>P</td>\n",
       "      <td>P</td>\n",
       "      <td>...</td>\n",
       "      <td>9.6656</td>\n",
       "      <td>8.85</td>\n",
       "      <td>15.3234</td>\n",
       "      <td>15.1286</td>\n",
       "      <td>3.3811</td>\n",
       "      <td>2.588</td>\n",
       "      <td>4.4798</td>\n",
       "      <td>4.8098</td>\n",
       "      <td>3.1637</td>\n",
       "      <td>2.4758</td>\n",
       "    </tr>\n",
       "    <tr>\n",
       "      <th>GSM505329</th>\n",
       "      <td>BR_FNA_M176</td>\n",
       "      <td>breast cancer cells</td>\n",
       "      <td>77</td>\n",
       "      <td>mixed</td>\n",
       "      <td>RD</td>\n",
       "      <td>4</td>\n",
       "      <td>1</td>\n",
       "      <td>2</td>\n",
       "      <td>N</td>\n",
       "      <td>P</td>\n",
       "      <td>...</td>\n",
       "      <td>7.6012</td>\n",
       "      <td>8.2567</td>\n",
       "      <td>15.4604</td>\n",
       "      <td>15.2674</td>\n",
       "      <td>3.1665</td>\n",
       "      <td>3.9743</td>\n",
       "      <td>5.2597</td>\n",
       "      <td>4.3815</td>\n",
       "      <td>2.8034</td>\n",
       "      <td>2.4669</td>\n",
       "    </tr>\n",
       "    <tr>\n",
       "      <th>GSM505330</th>\n",
       "      <td>BR_FNA_M214</td>\n",
       "      <td>breast cancer cells</td>\n",
       "      <td>54</td>\n",
       "      <td>white</td>\n",
       "      <td>RD</td>\n",
       "      <td>2</td>\n",
       "      <td>1</td>\n",
       "      <td>2</td>\n",
       "      <td>N</td>\n",
       "      <td>P</td>\n",
       "      <td>...</td>\n",
       "      <td>7.6331</td>\n",
       "      <td>9.0089</td>\n",
       "      <td>15.5185</td>\n",
       "      <td>15.1655</td>\n",
       "      <td>4.0045</td>\n",
       "      <td>3.8503</td>\n",
       "      <td>5.9114</td>\n",
       "      <td>0.7882</td>\n",
       "      <td>3.1831</td>\n",
       "      <td>3.482</td>\n",
       "    </tr>\n",
       "    <tr>\n",
       "      <th>GSM505331</th>\n",
       "      <td>BR_FNA_M113</td>\n",
       "      <td>breast cancer cells</td>\n",
       "      <td>75</td>\n",
       "      <td>black</td>\n",
       "      <td>RD</td>\n",
       "      <td>2</td>\n",
       "      <td>0</td>\n",
       "      <td>3</td>\n",
       "      <td>N</td>\n",
       "      <td>N</td>\n",
       "      <td>...</td>\n",
       "      <td>8.0249</td>\n",
       "      <td>9.2004</td>\n",
       "      <td>15.3143</td>\n",
       "      <td>14.9506</td>\n",
       "      <td>3.0514</td>\n",
       "      <td>3.2946</td>\n",
       "      <td>5.1537</td>\n",
       "      <td>3.9179</td>\n",
       "      <td>3.1881</td>\n",
       "      <td>2.9769</td>\n",
       "    </tr>\n",
       "  </tbody>\n",
       "</table>\n",
       "<p>5 rows × 22298 columns</p>\n",
       "</div>"
      ],
      "text/plain": [
       "Sample_geo_accession Sample_title               tissue age ethnicity  \\\n",
       "GSM505327             BR_FNA_M157  breast cancer cells  57     white   \n",
       "GSM505328             BR_FNA_M196  breast cancer cells  69     asian   \n",
       "GSM505329             BR_FNA_M176  breast cancer cells  77     mixed   \n",
       "GSM505330             BR_FNA_M214  breast cancer cells  54     white   \n",
       "GSM505331             BR_FNA_M113  breast cancer cells  75     black   \n",
       "\n",
       "Sample_geo_accession treatment_response T (tumor) N (Node) bmn_grade  \\\n",
       "GSM505327                            RD         2        0         2   \n",
       "GSM505328                            RD         2        1         2   \n",
       "GSM505329                            RD         4        1         2   \n",
       "GSM505330                            RD         2        1         2   \n",
       "GSM505331                            RD         2        0         3   \n",
       "\n",
       "Sample_geo_accession PR_status:  ER_status:   ... AFFX-r2-Hs28SrRNA-5_at  \\\n",
       "GSM505327                      P           P  ...                 7.4678   \n",
       "GSM505328                      P           P  ...                 9.6656   \n",
       "GSM505329                      N           P  ...                 7.6012   \n",
       "GSM505330                      N           P  ...                 7.6331   \n",
       "GSM505331                      N           N  ...                 8.0249   \n",
       "\n",
       "Sample_geo_accession AFFX-r2-Hs28SrRNA-M_at AFFX-r2-P1-cre-3_at  \\\n",
       "GSM505327                            9.3738             15.6236   \n",
       "GSM505328                              8.85             15.3234   \n",
       "GSM505329                            8.2567             15.4604   \n",
       "GSM505330                            9.0089             15.5185   \n",
       "GSM505331                            9.2004             15.3143   \n",
       "\n",
       "Sample_geo_accession AFFX-r2-P1-cre-5_at AFFX-ThrX-3_at AFFX-ThrX-5_at  \\\n",
       "GSM505327                        15.2785         3.2915         3.6526   \n",
       "GSM505328                        15.1286         3.3811          2.588   \n",
       "GSM505329                        15.2674         3.1665         3.9743   \n",
       "GSM505330                        15.1655         4.0045         3.8503   \n",
       "GSM505331                        14.9506         3.0514         3.2946   \n",
       "\n",
       "Sample_geo_accession AFFX-ThrX-M_at AFFX-TrpnX-3_at AFFX-TrpnX-5_at  \\\n",
       "GSM505327                    2.6412          1.2652           3.069   \n",
       "GSM505328                    4.4798          4.8098          3.1637   \n",
       "GSM505329                    5.2597          4.3815          2.8034   \n",
       "GSM505330                    5.9114          0.7882          3.1831   \n",
       "GSM505331                    5.1537          3.9179          3.1881   \n",
       "\n",
       "Sample_geo_accession AFFX-TrpnX-M_at  \n",
       "GSM505327                     2.0271  \n",
       "GSM505328                     2.4758  \n",
       "GSM505329                     2.4669  \n",
       "GSM505330                      3.482  \n",
       "GSM505331                     2.9769  \n",
       "\n",
       "[5 rows x 22298 columns]"
      ]
     },
     "execution_count": 70,
     "metadata": {},
     "output_type": "execute_result"
    }
   ],
   "source": [
    "new_header = cs.iloc[0]\n",
    "cs = cs[1:] # data sans header\n",
    "cs.columns = new_header\n",
    "cs.head(5)"
   ]
  },
  {
   "cell_type": "markdown",
   "metadata": {},
   "source": [
    "#### Il y a 279 observations et 22298 variables\n",
    "#### Nous sommes dans un cas où le nombre de variables > que le nombre d'observations"
   ]
  },
  {
   "cell_type": "markdown",
   "metadata": {},
   "source": [
    "Commonly Used Strategies for Sparse Modeling\n",
    "\n",
    "Actually it depends on many other factors. SVM reportedly do well in this case.\n",
    "\n",
    "You can also try to apply dimensionality reduction techniques like PCA, Singular Value Decomposition (SVD) or Matrix Factorization , Boltzmann machine etc. to reduce the the feature space and learn latent feature capturing the most the variance present in your data. Then apply to any other Machine Learning technique and check the performances.\n",
    "\n",
    "You can also consider using deep network as it learns higher order representation of the data automatically.\n",
    "\n",
    "1. AllSubsetsRegression\n",
    "• Fit all possible linear models for all levels of sparsity.\n",
    "2. ForwardStepwiseRegression\n",
    "• Greedy approach that chooses each variable in the model sequentially by significance level.\n",
    "3. LASSO(Tibshirani1994),LARS(Efron,Hastie, Johnstone, Tibshirani 2002)\n",
    "• ‘shrinks’ some coefficient estimates to zero.\n",
    "\n",
    "https://web.stanford.edu/~vcs/talks/MicrosoftMay082008.pdf"
   ]
  },
  {
   "cell_type": "markdown",
   "metadata": {},
   "source": [
    "### Analyse des données"
   ]
  },
  {
   "cell_type": "markdown",
   "metadata": {},
   "source": [
    "#### Analyse des variables qualitatives"
   ]
  },
  {
   "cell_type": "raw",
   "metadata": {},
   "source": [
    "cs.describe()"
   ]
  },
  {
   "cell_type": "markdown",
   "metadata": {},
   "source": [
    "#### Analyse de la variable réponse"
   ]
  },
  {
   "cell_type": "markdown",
   "metadata": {},
   "source": [
    "La variable treatment_response est notre variable Y: Elle est de type binaire: RD ou pCR"
   ]
  },
  {
   "cell_type": "code",
   "execution_count": 71,
   "metadata": {},
   "outputs": [
    {
     "data": {
      "text/plain": [
       "{'RD', 'her2 status: N', 'pCR', 'pr_status: N', 'pr_status: P'}"
      ]
     },
     "execution_count": 71,
     "metadata": {},
     "output_type": "execute_result"
    }
   ],
   "source": [
    "set(cs['treatment_response'])"
   ]
  },
  {
   "cell_type": "markdown",
   "metadata": {},
   "source": [
    "La variable réponse a 5 catégories, dont 3 :\n",
    " - 'her2 status: N'\n",
    " - 'pr_status: N'\n",
    " - 'pr_status: P'\n",
    "    \n",
    "semblent être des erreurs. Je vais les enlever de la base de données.\n",
    "Enfin, la variable treatment response n'aura que les 2 modalités: pCR et RD."
   ]
  },
  {
   "cell_type": "code",
   "execution_count": 72,
   "metadata": {},
   "outputs": [],
   "source": [
    "cs=cs[(cs.treatment_response != 'her2 status: N') & (cs.treatment_response != 'pr_status: N')& (cs.treatment_response != 'pr_status: P')]"
   ]
  },
  {
   "cell_type": "code",
   "execution_count": 73,
   "metadata": {},
   "outputs": [
    {
     "data": {
      "text/plain": [
       "{'RD', 'pCR'}"
      ]
     },
     "execution_count": 73,
     "metadata": {},
     "output_type": "execute_result"
    }
   ],
   "source": [
    "set(cs['treatment_response'])"
   ]
  },
  {
   "cell_type": "markdown",
   "metadata": {},
   "source": [
    "La variable réponse, treatment_response a bien 2 modalités"
   ]
  },
  {
   "cell_type": "markdown",
   "metadata": {},
   "source": [
    "#### Outliers "
   ]
  },
  {
   "cell_type": "code",
   "execution_count": 74,
   "metadata": {},
   "outputs": [],
   "source": [
    "# FAIRE UNE TSNE SI POSSIBLE"
   ]
  },
  {
   "cell_type": "code",
   "execution_count": 75,
   "metadata": {
    "scrolled": false
   },
   "outputs": [],
   "source": [
    "numerical_columns = list(cs.columns[15:]) # colonnes génétiques"
   ]
  },
  {
   "cell_type": "code",
   "execution_count": 76,
   "metadata": {},
   "outputs": [],
   "source": [
    "# AJOUT PLOT DES VARIABLES NON GENETIQUES"
   ]
  },
  {
   "cell_type": "code",
   "execution_count": 77,
   "metadata": {},
   "outputs": [
    {
     "data": {
      "text/plain": [
       "<AxesSubplot:xlabel='ethnicity', ylabel='AFFX-ThrX-3_at'>"
      ]
     },
     "execution_count": 77,
     "metadata": {},
     "output_type": "execute_result"
    },
    {
     "data": {
      "image/png": "[encoded data removed]",
      "text/plain": [
       "<Figure size 432x288 with 1 Axes>"
      ]
     },
     "metadata": {
      "needs_background": "light"
     },
     "output_type": "display_data"
    }
   ],
   "source": [
    "sns.boxplot(x='ethnicity', y='AFFX-ThrX-3_at', data=cs)"
   ]
  },
  {
   "cell_type": "code",
   "execution_count": 78,
   "metadata": {},
   "outputs": [
    {
     "data": {
      "text/plain": [
       "<AxesSubplot:xlabel='ethnicity', ylabel='AFFX-r2-Hs28SrRNA-5_at'>"
      ]
     },
     "execution_count": 78,
     "metadata": {},
     "output_type": "execute_result"
    },
    {
     "data": {
      "image/png": "[encoded data removed]",
      "text/plain": [
       "<Figure size 432x288 with 1 Axes>"
      ]
     },
     "metadata": {
      "needs_background": "light"
     },
     "output_type": "display_data"
    }
   ],
   "source": [
    "sns.boxplot(x='ethnicity', y='AFFX-r2-Hs28SrRNA-5_at', data=cs)"
   ]
  },
  {
   "cell_type": "markdown",
   "metadata": {},
   "source": [
    "### Analyse des valeurs manquantes"
   ]
  },
  {
   "cell_type": "code",
   "execution_count": 79,
   "metadata": {},
   "outputs": [
    {
     "data": {
      "text/html": [
       "<div>\n",
       "<style scoped>\n",
       "    .dataframe tbody tr th:only-of-type {\n",
       "        vertical-align: middle;\n",
       "    }\n",
       "\n",
       "    .dataframe tbody tr th {\n",
       "        vertical-align: top;\n",
       "    }\n",
       "\n",
       "    .dataframe thead th {\n",
       "        text-align: right;\n",
       "    }\n",
       "</style>\n",
       "<table border=\"1\" class=\"dataframe\">\n",
       "  <thead>\n",
       "    <tr style=\"text-align: right;\">\n",
       "      <th></th>\n",
       "      <th>total_missing</th>\n",
       "      <th>perc_missing</th>\n",
       "    </tr>\n",
       "    <tr>\n",
       "      <th>Sample_geo_accession</th>\n",
       "      <th></th>\n",
       "      <th></th>\n",
       "    </tr>\n",
       "  </thead>\n",
       "  <tbody>\n",
       "    <tr>\n",
       "      <th>Sample_title</th>\n",
       "      <td>0</td>\n",
       "      <td>0.0</td>\n",
       "    </tr>\n",
       "    <tr>\n",
       "      <th>tissue</th>\n",
       "      <td>0</td>\n",
       "      <td>0.0</td>\n",
       "    </tr>\n",
       "    <tr>\n",
       "      <th>age</th>\n",
       "      <td>0</td>\n",
       "      <td>0.0</td>\n",
       "    </tr>\n",
       "    <tr>\n",
       "      <th>ethnicity</th>\n",
       "      <td>0</td>\n",
       "      <td>0.0</td>\n",
       "    </tr>\n",
       "    <tr>\n",
       "      <th>treatment_response</th>\n",
       "      <td>0</td>\n",
       "      <td>0.0</td>\n",
       "    </tr>\n",
       "    <tr>\n",
       "      <th>...</th>\n",
       "      <td>...</td>\n",
       "      <td>...</td>\n",
       "    </tr>\n",
       "    <tr>\n",
       "      <th>AFFX-ThrX-5_at</th>\n",
       "      <td>0</td>\n",
       "      <td>0.0</td>\n",
       "    </tr>\n",
       "    <tr>\n",
       "      <th>AFFX-ThrX-M_at</th>\n",
       "      <td>0</td>\n",
       "      <td>0.0</td>\n",
       "    </tr>\n",
       "    <tr>\n",
       "      <th>AFFX-TrpnX-3_at</th>\n",
       "      <td>0</td>\n",
       "      <td>0.0</td>\n",
       "    </tr>\n",
       "    <tr>\n",
       "      <th>AFFX-TrpnX-5_at</th>\n",
       "      <td>0</td>\n",
       "      <td>0.0</td>\n",
       "    </tr>\n",
       "    <tr>\n",
       "      <th>AFFX-TrpnX-M_at</th>\n",
       "      <td>0</td>\n",
       "      <td>0.0</td>\n",
       "    </tr>\n",
       "  </tbody>\n",
       "</table>\n",
       "<p>22298 rows × 2 columns</p>\n",
       "</div>"
      ],
      "text/plain": [
       "                      total_missing  perc_missing\n",
       "Sample_geo_accession                             \n",
       "Sample_title                      0           0.0\n",
       "tissue                            0           0.0\n",
       "age                               0           0.0\n",
       "ethnicity                         0           0.0\n",
       "treatment_response                0           0.0\n",
       "...                             ...           ...\n",
       "AFFX-ThrX-5_at                    0           0.0\n",
       "AFFX-ThrX-M_at                    0           0.0\n",
       "AFFX-TrpnX-3_at                   0           0.0\n",
       "AFFX-TrpnX-5_at                   0           0.0\n",
       "AFFX-TrpnX-M_at                   0           0.0\n",
       "\n",
       "[22298 rows x 2 columns]"
      ]
     },
     "execution_count": 79,
     "metadata": {},
     "output_type": "execute_result"
    }
   ],
   "source": [
    "missing_data = pd.DataFrame({'total_missing': cs.isnull().sum(axis = 0), 'perc_missing': (cs.isnull().sum()/len(cs))*100})   \n",
    "\n",
    "missing_data"
   ]
  },
  {
   "cell_type": "code",
   "execution_count": 80,
   "metadata": {},
   "outputs": [
    {
     "data": {
      "text/html": [
       "<div>\n",
       "<style scoped>\n",
       "    .dataframe tbody tr th:only-of-type {\n",
       "        vertical-align: middle;\n",
       "    }\n",
       "\n",
       "    .dataframe tbody tr th {\n",
       "        vertical-align: top;\n",
       "    }\n",
       "\n",
       "    .dataframe thead th {\n",
       "        text-align: right;\n",
       "    }\n",
       "</style>\n",
       "<table border=\"1\" class=\"dataframe\">\n",
       "  <thead>\n",
       "    <tr style=\"text-align: right;\">\n",
       "      <th></th>\n",
       "      <th>total_missing</th>\n",
       "      <th>perc_missing</th>\n",
       "    </tr>\n",
       "    <tr>\n",
       "      <th>Sample_geo_accession</th>\n",
       "      <th></th>\n",
       "      <th></th>\n",
       "    </tr>\n",
       "  </thead>\n",
       "  <tbody>\n",
       "    <tr>\n",
       "      <th>treatment code</th>\n",
       "      <td>11</td>\n",
       "      <td>4.104478</td>\n",
       "    </tr>\n",
       "  </tbody>\n",
       "</table>\n",
       "</div>"
      ],
      "text/plain": [
       "                      total_missing  perc_missing\n",
       "Sample_geo_accession                             \n",
       "treatment code                   11      4.104478"
      ]
     },
     "execution_count": 80,
     "metadata": {},
     "output_type": "execute_result"
    }
   ],
   "source": [
    "columns_with_missing_values = missing_data.loc[missing_data['perc_missing']>0]\n",
    "columns_with_missing_values"
   ]
  },
  {
   "cell_type": "markdown",
   "metadata": {},
   "source": [
    "Les 10 observations manquantes dans la variable 11, her2_status, sont également manquantes dans la variable 12,histology. Cette dernière \n",
    "Comme nous n'avons pas beaucoup d'observations comparés aux variables nous n'allons pas enlever les observations de notre base de données.\n",
    "De plus, comme il y a beaucoup de valeurs manquantes surtout pour les variables 11 et 12, nous allons utiliser une technique d'imputation, soit nous allons assigner à chacune des valeurs manquantes, une valeur calculée.\n",
    "Il existe différentes techniques d'imputation ou d'assignation des valeurs manquantes. Voici les plus communes:\n",
    "- l'utilisation de la valeur moyenne d'une variable, aussi appelé 'mean imputation'.\n",
    "- l'utilisation de la valeur moyenne des k plus proches voisins associés à des données entrainés, aussi appelé knn imputation\n",
    "- l'utilisation de la fréquence, une technique généralement utilisée lorsque les variables sont qualitatives.\n",
    "\n",
    "Comme la variable 11, her2_status et la variable histology sont de type qualitatives, nous utiliserons la fréquence comme technique d'assignation. \n"
   ]
  },
  {
   "cell_type": "code",
   "execution_count": 81,
   "metadata": {},
   "outputs": [
    {
     "data": {
      "text/plain": [
       "['treatment code']"
      ]
     },
     "execution_count": 81,
     "metadata": {},
     "output_type": "execute_result"
    }
   ],
   "source": [
    "# Je crée une liste des variables ayant des données manquantes\n",
    "missing_variables=(columns_with_missing_values.index).tolist()\n",
    "missing_variables"
   ]
  },
  {
   "cell_type": "code",
   "execution_count": 82,
   "metadata": {},
   "outputs": [],
   "source": [
    "# Je remplace les valeurs manquantes par les valeurs les plus communes des variables.\n",
    "quali = cs.loc[:,missing_variables].apply(lambda x: x.fillna(x.value_counts().index[0]))\n",
    "# Je crée un dataframe SANS les variables de la liste missing_variables\n",
    "cs_without_quali = cs.drop(missing_variables, axis=1) # ok, il manque bien les 5 colonnes manquantes"
   ]
  },
  {
   "cell_type": "code",
   "execution_count": 83,
   "metadata": {},
   "outputs": [
    {
     "data": {
      "text/html": [
       "<div>\n",
       "<style scoped>\n",
       "    .dataframe tbody tr th:only-of-type {\n",
       "        vertical-align: middle;\n",
       "    }\n",
       "\n",
       "    .dataframe tbody tr th {\n",
       "        vertical-align: top;\n",
       "    }\n",
       "\n",
       "    .dataframe thead th {\n",
       "        text-align: right;\n",
       "    }\n",
       "</style>\n",
       "<table border=\"1\" class=\"dataframe\">\n",
       "  <thead>\n",
       "    <tr style=\"text-align: right;\">\n",
       "      <th>Sample_geo_accession</th>\n",
       "      <th>treatment code</th>\n",
       "      <th>Sample_title</th>\n",
       "      <th>tissue</th>\n",
       "      <th>age</th>\n",
       "      <th>ethnicity</th>\n",
       "      <th>treatment_response</th>\n",
       "      <th>T (tumor)</th>\n",
       "      <th>N (Node)</th>\n",
       "      <th>bmn_grade</th>\n",
       "      <th>PR_status:</th>\n",
       "      <th>...</th>\n",
       "      <th>AFFX-r2-Hs28SrRNA-5_at</th>\n",
       "      <th>AFFX-r2-Hs28SrRNA-M_at</th>\n",
       "      <th>AFFX-r2-P1-cre-3_at</th>\n",
       "      <th>AFFX-r2-P1-cre-5_at</th>\n",
       "      <th>AFFX-ThrX-3_at</th>\n",
       "      <th>AFFX-ThrX-5_at</th>\n",
       "      <th>AFFX-ThrX-M_at</th>\n",
       "      <th>AFFX-TrpnX-3_at</th>\n",
       "      <th>AFFX-TrpnX-5_at</th>\n",
       "      <th>AFFX-TrpnX-M_at</th>\n",
       "    </tr>\n",
       "  </thead>\n",
       "  <tbody>\n",
       "    <tr>\n",
       "      <th>GSM505327</th>\n",
       "      <td>TFAC</td>\n",
       "      <td>BR_FNA_M157</td>\n",
       "      <td>breast cancer cells</td>\n",
       "      <td>57</td>\n",
       "      <td>white</td>\n",
       "      <td>RD</td>\n",
       "      <td>2</td>\n",
       "      <td>0</td>\n",
       "      <td>2</td>\n",
       "      <td>P</td>\n",
       "      <td>...</td>\n",
       "      <td>7.4678</td>\n",
       "      <td>9.3738</td>\n",
       "      <td>15.6236</td>\n",
       "      <td>15.2785</td>\n",
       "      <td>3.2915</td>\n",
       "      <td>3.6526</td>\n",
       "      <td>2.6412</td>\n",
       "      <td>1.2652</td>\n",
       "      <td>3.069</td>\n",
       "      <td>2.0271</td>\n",
       "    </tr>\n",
       "    <tr>\n",
       "      <th>GSM505328</th>\n",
       "      <td>TFAC</td>\n",
       "      <td>BR_FNA_M196</td>\n",
       "      <td>breast cancer cells</td>\n",
       "      <td>69</td>\n",
       "      <td>asian</td>\n",
       "      <td>RD</td>\n",
       "      <td>2</td>\n",
       "      <td>1</td>\n",
       "      <td>2</td>\n",
       "      <td>P</td>\n",
       "      <td>...</td>\n",
       "      <td>9.6656</td>\n",
       "      <td>8.85</td>\n",
       "      <td>15.3234</td>\n",
       "      <td>15.1286</td>\n",
       "      <td>3.3811</td>\n",
       "      <td>2.588</td>\n",
       "      <td>4.4798</td>\n",
       "      <td>4.8098</td>\n",
       "      <td>3.1637</td>\n",
       "      <td>2.4758</td>\n",
       "    </tr>\n",
       "    <tr>\n",
       "      <th>GSM505329</th>\n",
       "      <td>TFAC</td>\n",
       "      <td>BR_FNA_M176</td>\n",
       "      <td>breast cancer cells</td>\n",
       "      <td>77</td>\n",
       "      <td>mixed</td>\n",
       "      <td>RD</td>\n",
       "      <td>4</td>\n",
       "      <td>1</td>\n",
       "      <td>2</td>\n",
       "      <td>N</td>\n",
       "      <td>...</td>\n",
       "      <td>7.6012</td>\n",
       "      <td>8.2567</td>\n",
       "      <td>15.4604</td>\n",
       "      <td>15.2674</td>\n",
       "      <td>3.1665</td>\n",
       "      <td>3.9743</td>\n",
       "      <td>5.2597</td>\n",
       "      <td>4.3815</td>\n",
       "      <td>2.8034</td>\n",
       "      <td>2.4669</td>\n",
       "    </tr>\n",
       "    <tr>\n",
       "      <th>GSM505330</th>\n",
       "      <td>TFAC</td>\n",
       "      <td>BR_FNA_M214</td>\n",
       "      <td>breast cancer cells</td>\n",
       "      <td>54</td>\n",
       "      <td>white</td>\n",
       "      <td>RD</td>\n",
       "      <td>2</td>\n",
       "      <td>1</td>\n",
       "      <td>2</td>\n",
       "      <td>N</td>\n",
       "      <td>...</td>\n",
       "      <td>7.6331</td>\n",
       "      <td>9.0089</td>\n",
       "      <td>15.5185</td>\n",
       "      <td>15.1655</td>\n",
       "      <td>4.0045</td>\n",
       "      <td>3.8503</td>\n",
       "      <td>5.9114</td>\n",
       "      <td>0.7882</td>\n",
       "      <td>3.1831</td>\n",
       "      <td>3.482</td>\n",
       "    </tr>\n",
       "    <tr>\n",
       "      <th>GSM505331</th>\n",
       "      <td>TFAC</td>\n",
       "      <td>BR_FNA_M113</td>\n",
       "      <td>breast cancer cells</td>\n",
       "      <td>75</td>\n",
       "      <td>black</td>\n",
       "      <td>RD</td>\n",
       "      <td>2</td>\n",
       "      <td>0</td>\n",
       "      <td>3</td>\n",
       "      <td>N</td>\n",
       "      <td>...</td>\n",
       "      <td>8.0249</td>\n",
       "      <td>9.2004</td>\n",
       "      <td>15.3143</td>\n",
       "      <td>14.9506</td>\n",
       "      <td>3.0514</td>\n",
       "      <td>3.2946</td>\n",
       "      <td>5.1537</td>\n",
       "      <td>3.9179</td>\n",
       "      <td>3.1881</td>\n",
       "      <td>2.9769</td>\n",
       "    </tr>\n",
       "  </tbody>\n",
       "</table>\n",
       "<p>5 rows × 22298 columns</p>\n",
       "</div>"
      ],
      "text/plain": [
       "Sample_geo_accession treatment code Sample_title               tissue age  \\\n",
       "GSM505327                      TFAC  BR_FNA_M157  breast cancer cells  57   \n",
       "GSM505328                      TFAC  BR_FNA_M196  breast cancer cells  69   \n",
       "GSM505329                      TFAC  BR_FNA_M176  breast cancer cells  77   \n",
       "GSM505330                      TFAC  BR_FNA_M214  breast cancer cells  54   \n",
       "GSM505331                      TFAC  BR_FNA_M113  breast cancer cells  75   \n",
       "\n",
       "Sample_geo_accession ethnicity treatment_response T (tumor) N (Node)  \\\n",
       "GSM505327                white                 RD         2        0   \n",
       "GSM505328                asian                 RD         2        1   \n",
       "GSM505329                mixed                 RD         4        1   \n",
       "GSM505330                white                 RD         2        1   \n",
       "GSM505331                black                 RD         2        0   \n",
       "\n",
       "Sample_geo_accession bmn_grade PR_status:   ... AFFX-r2-Hs28SrRNA-5_at  \\\n",
       "GSM505327                    2           P  ...                 7.4678   \n",
       "GSM505328                    2           P  ...                 9.6656   \n",
       "GSM505329                    2           N  ...                 7.6012   \n",
       "GSM505330                    2           N  ...                 7.6331   \n",
       "GSM505331                    3           N  ...                 8.0249   \n",
       "\n",
       "Sample_geo_accession AFFX-r2-Hs28SrRNA-M_at AFFX-r2-P1-cre-3_at  \\\n",
       "GSM505327                            9.3738             15.6236   \n",
       "GSM505328                              8.85             15.3234   \n",
       "GSM505329                            8.2567             15.4604   \n",
       "GSM505330                            9.0089             15.5185   \n",
       "GSM505331                            9.2004             15.3143   \n",
       "\n",
       "Sample_geo_accession AFFX-r2-P1-cre-5_at AFFX-ThrX-3_at AFFX-ThrX-5_at  \\\n",
       "GSM505327                        15.2785         3.2915         3.6526   \n",
       "GSM505328                        15.1286         3.3811          2.588   \n",
       "GSM505329                        15.2674         3.1665         3.9743   \n",
       "GSM505330                        15.1655         4.0045         3.8503   \n",
       "GSM505331                        14.9506         3.0514         3.2946   \n",
       "\n",
       "Sample_geo_accession AFFX-ThrX-M_at AFFX-TrpnX-3_at AFFX-TrpnX-5_at  \\\n",
       "GSM505327                    2.6412          1.2652           3.069   \n",
       "GSM505328                    4.4798          4.8098          3.1637   \n",
       "GSM505329                    5.2597          4.3815          2.8034   \n",
       "GSM505330                    5.9114          0.7882          3.1831   \n",
       "GSM505331                    5.1537          3.9179          3.1881   \n",
       "\n",
       "Sample_geo_accession AFFX-TrpnX-M_at  \n",
       "GSM505327                     2.0271  \n",
       "GSM505328                     2.4758  \n",
       "GSM505329                     2.4669  \n",
       "GSM505330                      3.482  \n",
       "GSM505331                     2.9769  \n",
       "\n",
       "[5 rows x 22298 columns]"
      ]
     },
     "execution_count": 83,
     "metadata": {},
     "output_type": "execute_result"
    }
   ],
   "source": [
    "# Je crée un nouveau dataframe joignant toutes les variables.\n",
    "cs_imputed=pd.concat([quali,cs_without_quali],axis=1)\n",
    "cs_imputed.head(5) # il y a bien toutes les colonnes et lignes (278 x 22298)"
   ]
  },
  {
   "cell_type": "code",
   "execution_count": 84,
   "metadata": {},
   "outputs": [],
   "source": [
    "# Attention"
   ]
  },
  {
   "cell_type": "code",
   "execution_count": 85,
   "metadata": {},
   "outputs": [],
   "source": [
    "#profile=pandas_profiling.ProfileReport(cs_imputed)"
   ]
  },
  {
   "cell_type": "markdown",
   "metadata": {},
   "source": [
    "#### Nous procédons maintenant au encoding\n",
    "There are many ways to do so:\n",
    "\n",
    "Label encoding where you choose an arbitrary number for each category\n",
    "One-hot encoding where you create one binary column per category\n",
    "Vector representation a.k.a. word2vec where you find a low dimensional subspace that fits your data\n",
    "Optimal binning where you rely on tree-learners such as LightGBM or CatBoost\n",
    "Target encoding where you average the target value by category"
   ]
  },
  {
   "cell_type": "markdown",
   "metadata": {},
   "source": [
    "Je choisi d'utiliser LabelEncoding"
   ]
  },
  {
   "cell_type": "code",
   "execution_count": 86,
   "metadata": {},
   "outputs": [
    {
     "data": {
      "text/html": [
       "<div>\n",
       "<style scoped>\n",
       "    .dataframe tbody tr th:only-of-type {\n",
       "        vertical-align: middle;\n",
       "    }\n",
       "\n",
       "    .dataframe tbody tr th {\n",
       "        vertical-align: top;\n",
       "    }\n",
       "\n",
       "    .dataframe thead th {\n",
       "        text-align: right;\n",
       "    }\n",
       "</style>\n",
       "<table border=\"1\" class=\"dataframe\">\n",
       "  <thead>\n",
       "    <tr style=\"text-align: right;\">\n",
       "      <th>Sample_geo_accession</th>\n",
       "      <th>treatment code</th>\n",
       "      <th>Sample_title</th>\n",
       "      <th>tissue</th>\n",
       "      <th>age</th>\n",
       "      <th>ethnicity</th>\n",
       "      <th>treatment_response</th>\n",
       "      <th>T (tumor)</th>\n",
       "      <th>N (Node)</th>\n",
       "      <th>bmn_grade</th>\n",
       "      <th>PR_status:</th>\n",
       "      <th>...</th>\n",
       "      <th>AFFX-r2-Hs28SrRNA-5_at</th>\n",
       "      <th>AFFX-r2-Hs28SrRNA-M_at</th>\n",
       "      <th>AFFX-r2-P1-cre-3_at</th>\n",
       "      <th>AFFX-r2-P1-cre-5_at</th>\n",
       "      <th>AFFX-ThrX-3_at</th>\n",
       "      <th>AFFX-ThrX-5_at</th>\n",
       "      <th>AFFX-ThrX-M_at</th>\n",
       "      <th>AFFX-TrpnX-3_at</th>\n",
       "      <th>AFFX-TrpnX-5_at</th>\n",
       "      <th>AFFX-TrpnX-M_at</th>\n",
       "    </tr>\n",
       "  </thead>\n",
       "  <tbody>\n",
       "    <tr>\n",
       "      <th>GSM505327</th>\n",
       "      <td>TFAC</td>\n",
       "      <td>BR_FNA_M157</td>\n",
       "      <td>breast cancer cells</td>\n",
       "      <td>57</td>\n",
       "      <td>white</td>\n",
       "      <td>RD</td>\n",
       "      <td>2</td>\n",
       "      <td>0</td>\n",
       "      <td>2</td>\n",
       "      <td>P</td>\n",
       "      <td>...</td>\n",
       "      <td>7.4678</td>\n",
       "      <td>9.3738</td>\n",
       "      <td>15.6236</td>\n",
       "      <td>15.2785</td>\n",
       "      <td>3.2915</td>\n",
       "      <td>3.6526</td>\n",
       "      <td>2.6412</td>\n",
       "      <td>1.2652</td>\n",
       "      <td>3.069</td>\n",
       "      <td>2.0271</td>\n",
       "    </tr>\n",
       "    <tr>\n",
       "      <th>GSM505328</th>\n",
       "      <td>TFAC</td>\n",
       "      <td>BR_FNA_M196</td>\n",
       "      <td>breast cancer cells</td>\n",
       "      <td>69</td>\n",
       "      <td>asian</td>\n",
       "      <td>RD</td>\n",
       "      <td>2</td>\n",
       "      <td>1</td>\n",
       "      <td>2</td>\n",
       "      <td>P</td>\n",
       "      <td>...</td>\n",
       "      <td>9.6656</td>\n",
       "      <td>8.85</td>\n",
       "      <td>15.3234</td>\n",
       "      <td>15.1286</td>\n",
       "      <td>3.3811</td>\n",
       "      <td>2.588</td>\n",
       "      <td>4.4798</td>\n",
       "      <td>4.8098</td>\n",
       "      <td>3.1637</td>\n",
       "      <td>2.4758</td>\n",
       "    </tr>\n",
       "    <tr>\n",
       "      <th>GSM505329</th>\n",
       "      <td>TFAC</td>\n",
       "      <td>BR_FNA_M176</td>\n",
       "      <td>breast cancer cells</td>\n",
       "      <td>77</td>\n",
       "      <td>mixed</td>\n",
       "      <td>RD</td>\n",
       "      <td>4</td>\n",
       "      <td>1</td>\n",
       "      <td>2</td>\n",
       "      <td>N</td>\n",
       "      <td>...</td>\n",
       "      <td>7.6012</td>\n",
       "      <td>8.2567</td>\n",
       "      <td>15.4604</td>\n",
       "      <td>15.2674</td>\n",
       "      <td>3.1665</td>\n",
       "      <td>3.9743</td>\n",
       "      <td>5.2597</td>\n",
       "      <td>4.3815</td>\n",
       "      <td>2.8034</td>\n",
       "      <td>2.4669</td>\n",
       "    </tr>\n",
       "    <tr>\n",
       "      <th>GSM505330</th>\n",
       "      <td>TFAC</td>\n",
       "      <td>BR_FNA_M214</td>\n",
       "      <td>breast cancer cells</td>\n",
       "      <td>54</td>\n",
       "      <td>white</td>\n",
       "      <td>RD</td>\n",
       "      <td>2</td>\n",
       "      <td>1</td>\n",
       "      <td>2</td>\n",
       "      <td>N</td>\n",
       "      <td>...</td>\n",
       "      <td>7.6331</td>\n",
       "      <td>9.0089</td>\n",
       "      <td>15.5185</td>\n",
       "      <td>15.1655</td>\n",
       "      <td>4.0045</td>\n",
       "      <td>3.8503</td>\n",
       "      <td>5.9114</td>\n",
       "      <td>0.7882</td>\n",
       "      <td>3.1831</td>\n",
       "      <td>3.482</td>\n",
       "    </tr>\n",
       "    <tr>\n",
       "      <th>GSM505331</th>\n",
       "      <td>TFAC</td>\n",
       "      <td>BR_FNA_M113</td>\n",
       "      <td>breast cancer cells</td>\n",
       "      <td>75</td>\n",
       "      <td>black</td>\n",
       "      <td>RD</td>\n",
       "      <td>2</td>\n",
       "      <td>0</td>\n",
       "      <td>3</td>\n",
       "      <td>N</td>\n",
       "      <td>...</td>\n",
       "      <td>8.0249</td>\n",
       "      <td>9.2004</td>\n",
       "      <td>15.3143</td>\n",
       "      <td>14.9506</td>\n",
       "      <td>3.0514</td>\n",
       "      <td>3.2946</td>\n",
       "      <td>5.1537</td>\n",
       "      <td>3.9179</td>\n",
       "      <td>3.1881</td>\n",
       "      <td>2.9769</td>\n",
       "    </tr>\n",
       "  </tbody>\n",
       "</table>\n",
       "<p>5 rows × 22297 columns</p>\n",
       "</div>"
      ],
      "text/plain": [
       "Sample_geo_accession treatment code Sample_title               tissue age  \\\n",
       "GSM505327                      TFAC  BR_FNA_M157  breast cancer cells  57   \n",
       "GSM505328                      TFAC  BR_FNA_M196  breast cancer cells  69   \n",
       "GSM505329                      TFAC  BR_FNA_M176  breast cancer cells  77   \n",
       "GSM505330                      TFAC  BR_FNA_M214  breast cancer cells  54   \n",
       "GSM505331                      TFAC  BR_FNA_M113  breast cancer cells  75   \n",
       "\n",
       "Sample_geo_accession ethnicity treatment_response T (tumor) N (Node)  \\\n",
       "GSM505327                white                 RD         2        0   \n",
       "GSM505328                asian                 RD         2        1   \n",
       "GSM505329                mixed                 RD         4        1   \n",
       "GSM505330                white                 RD         2        1   \n",
       "GSM505331                black                 RD         2        0   \n",
       "\n",
       "Sample_geo_accession bmn_grade PR_status:   ... AFFX-r2-Hs28SrRNA-5_at  \\\n",
       "GSM505327                    2           P  ...                 7.4678   \n",
       "GSM505328                    2           P  ...                 9.6656   \n",
       "GSM505329                    2           N  ...                 7.6012   \n",
       "GSM505330                    2           N  ...                 7.6331   \n",
       "GSM505331                    3           N  ...                 8.0249   \n",
       "\n",
       "Sample_geo_accession AFFX-r2-Hs28SrRNA-M_at AFFX-r2-P1-cre-3_at  \\\n",
       "GSM505327                            9.3738             15.6236   \n",
       "GSM505328                              8.85             15.3234   \n",
       "GSM505329                            8.2567             15.4604   \n",
       "GSM505330                            9.0089             15.5185   \n",
       "GSM505331                            9.2004             15.3143   \n",
       "\n",
       "Sample_geo_accession AFFX-r2-P1-cre-5_at AFFX-ThrX-3_at AFFX-ThrX-5_at  \\\n",
       "GSM505327                        15.2785         3.2915         3.6526   \n",
       "GSM505328                        15.1286         3.3811          2.588   \n",
       "GSM505329                        15.2674         3.1665         3.9743   \n",
       "GSM505330                        15.1655         4.0045         3.8503   \n",
       "GSM505331                        14.9506         3.0514         3.2946   \n",
       "\n",
       "Sample_geo_accession AFFX-ThrX-M_at AFFX-TrpnX-3_at AFFX-TrpnX-5_at  \\\n",
       "GSM505327                    2.6412          1.2652           3.069   \n",
       "GSM505328                    4.4798          4.8098          3.1637   \n",
       "GSM505329                    5.2597          4.3815          2.8034   \n",
       "GSM505330                    5.9114          0.7882          3.1831   \n",
       "GSM505331                    5.1537          3.9179          3.1881   \n",
       "\n",
       "Sample_geo_accession AFFX-TrpnX-M_at  \n",
       "GSM505327                     2.0271  \n",
       "GSM505328                     2.4758  \n",
       "GSM505329                     2.4669  \n",
       "GSM505330                      3.482  \n",
       "GSM505331                     2.9769  \n",
       "\n",
       "[5 rows x 22297 columns]"
      ]
     },
     "execution_count": 86,
     "metadata": {},
     "output_type": "execute_result"
    }
   ],
   "source": [
    "# Je commence par enlever la colonne ID_Ref qui est une répétition de l'indice\n",
    "cs_imputed=cs_imputed.drop('ID_REF', 1)\n",
    "cs_imputed.head(5)"
   ]
  },
  {
   "cell_type": "code",
   "execution_count": 87,
   "metadata": {},
   "outputs": [
    {
     "data": {
      "text/plain": [
       "GSM505327    RD\n",
       "GSM505328    RD\n",
       "GSM505329    RD\n",
       "GSM505330    RD\n",
       "GSM505331    RD\n",
       "             ..\n",
       "GSM505601    RD\n",
       "GSM505602    RD\n",
       "GSM505603    RD\n",
       "GSM505604    RD\n",
       "GSM505605    RD\n",
       "Name: treatment_response, Length: 268, dtype: object"
      ]
     },
     "execution_count": 87,
     "metadata": {},
     "output_type": "execute_result"
    }
   ],
   "source": [
    "Y=cs_imputed['treatment_response']\n",
    "X=cs_imputed.drop('treatment_response',1)\n",
    "Y"
   ]
  },
  {
   "cell_type": "code",
   "execution_count": 88,
   "metadata": {},
   "outputs": [
    {
     "data": {
      "text/plain": [
       "['treatment code',\n",
       " 'Sample_title',\n",
       " 'tissue',\n",
       " 'age',\n",
       " 'ethnicity',\n",
       " 'treatment_response',\n",
       " 'T (tumor)',\n",
       " 'N (Node)',\n",
       " 'bmn_grade',\n",
       " 'PR_status: ',\n",
       " 'ER_status: ',\n",
       " 'her2_status',\n",
       " 'histology',\n",
       " 'MAQC_Distribution_Status']"
      ]
     },
     "execution_count": 88,
     "metadata": {},
     "output_type": "execute_result"
    }
   ],
   "source": [
    "# Listes des variables qualitatives et quantititaves\n",
    "categorical_columns = list(cs_imputed.columns[:14]) # colonnes catégorielles\n",
    "categorical_columns"
   ]
  },
  {
   "cell_type": "markdown",
   "metadata": {},
   "source": [
    "#### Nous standardisons les données quantitatives"
   ]
  },
  {
   "cell_type": "markdown",
   "metadata": {},
   "source": [
    "StandardScaler follows Standard Normal Distribution (SND). Therefore, it makes mean = 0 and scales the data to unit variance.\n",
    "MinMaxScaler scales all the data features in the range [0, 1] or else in the range [-1, 1] if there are negative values in the dataset. This scaling compresses all the inliers in the narrow range [0, 0.005].\n",
    "In the presence of outliers, StandardScaler does not guarantee balanced feature scales, due to the influence of the outliers while computing the empirical mean and standard deviation. This leads to the shrinkage in the range of the feature values.\n",
    "\n",
    "By using RobustScaler(), we can remove the outliers and then use either StandardScaler or MinMaxScaler for preprocessing the dataset."
   ]
  },
  {
   "cell_type": "markdown",
   "metadata": {},
   "source": [
    "Je n'ai pas détecté d'outliers flagrant: Je choisi Standard Scaler"
   ]
  },
  {
   "cell_type": "code",
   "execution_count": 89,
   "metadata": {},
   "outputs": [
    {
     "data": {
      "text/plain": [
       "array([[ 0.93465939,  0.3463953 , -1.14600441, ..., -1.43328322,\n",
       "        -1.03473567, -1.05792573],\n",
       "       [ 0.56078945, -0.32232983,  0.30009164, ...,  1.02318208,\n",
       "        -0.96192125, -0.55005759],\n",
       "       [ 1.28304169,  0.73198979, -0.3790667 , ...,  0.72636323,\n",
       "        -1.23895437, -0.56013119],\n",
       "       ...,\n",
       "       [ 0.12719244, -0.92911206,  0.52114106, ...,  0.76579586,\n",
       "        -1.60994655, -0.40540515],\n",
       "       [-0.20583586, -0.47938087,  0.85481307, ..., -0.43208269,\n",
       "         0.30383488,  0.6476827 ],\n",
       "       [ 0.22146601, -0.15289021, -0.43427385, ...,  1.3998364 ,\n",
       "         0.43377826,  0.97909297]])"
      ]
     },
     "execution_count": 89,
     "metadata": {},
     "output_type": "execute_result"
    }
   ],
   "source": [
    "scaler = StandardScaler()\n",
    "scaler.fit_transform(cs_imputed.iloc[:,14:].values)\n",
    "#scaler.fit_transform(numerical_columns)"
   ]
  },
  {
   "cell_type": "code",
   "execution_count": 90,
   "metadata": {
    "scrolled": true
   },
   "outputs": [
    {
     "data": {
      "text/html": [
       "<div>\n",
       "<style scoped>\n",
       "    .dataframe tbody tr th:only-of-type {\n",
       "        vertical-align: middle;\n",
       "    }\n",
       "\n",
       "    .dataframe tbody tr th {\n",
       "        vertical-align: top;\n",
       "    }\n",
       "\n",
       "    .dataframe thead th {\n",
       "        text-align: right;\n",
       "    }\n",
       "</style>\n",
       "<table border=\"1\" class=\"dataframe\">\n",
       "  <thead>\n",
       "    <tr style=\"text-align: right;\">\n",
       "      <th>Sample_geo_accession</th>\n",
       "      <th>treatment code</th>\n",
       "      <th>Sample_title</th>\n",
       "      <th>tissue</th>\n",
       "      <th>age</th>\n",
       "      <th>ethnicity</th>\n",
       "      <th>treatment_response</th>\n",
       "      <th>T (tumor)</th>\n",
       "      <th>N (Node)</th>\n",
       "      <th>bmn_grade</th>\n",
       "      <th>PR_status:</th>\n",
       "      <th>...</th>\n",
       "      <th>AFFX-r2-Hs28SrRNA-5_at</th>\n",
       "      <th>AFFX-r2-Hs28SrRNA-M_at</th>\n",
       "      <th>AFFX-r2-P1-cre-3_at</th>\n",
       "      <th>AFFX-r2-P1-cre-5_at</th>\n",
       "      <th>AFFX-ThrX-3_at</th>\n",
       "      <th>AFFX-ThrX-5_at</th>\n",
       "      <th>AFFX-ThrX-M_at</th>\n",
       "      <th>AFFX-TrpnX-3_at</th>\n",
       "      <th>AFFX-TrpnX-5_at</th>\n",
       "      <th>AFFX-TrpnX-M_at</th>\n",
       "    </tr>\n",
       "  </thead>\n",
       "  <tbody>\n",
       "    <tr>\n",
       "      <th>GSM505327</th>\n",
       "      <td>TFAC</td>\n",
       "      <td>BR_FNA_M157</td>\n",
       "      <td>breast cancer cells</td>\n",
       "      <td>57</td>\n",
       "      <td>white</td>\n",
       "      <td>RD</td>\n",
       "      <td>2</td>\n",
       "      <td>0</td>\n",
       "      <td>2</td>\n",
       "      <td>P</td>\n",
       "      <td>...</td>\n",
       "      <td>7.4678</td>\n",
       "      <td>9.3738</td>\n",
       "      <td>15.6236</td>\n",
       "      <td>15.2785</td>\n",
       "      <td>3.2915</td>\n",
       "      <td>3.6526</td>\n",
       "      <td>2.6412</td>\n",
       "      <td>1.2652</td>\n",
       "      <td>3.069</td>\n",
       "      <td>2.0271</td>\n",
       "    </tr>\n",
       "    <tr>\n",
       "      <th>GSM505328</th>\n",
       "      <td>TFAC</td>\n",
       "      <td>BR_FNA_M196</td>\n",
       "      <td>breast cancer cells</td>\n",
       "      <td>69</td>\n",
       "      <td>asian</td>\n",
       "      <td>RD</td>\n",
       "      <td>2</td>\n",
       "      <td>1</td>\n",
       "      <td>2</td>\n",
       "      <td>P</td>\n",
       "      <td>...</td>\n",
       "      <td>9.6656</td>\n",
       "      <td>8.85</td>\n",
       "      <td>15.3234</td>\n",
       "      <td>15.1286</td>\n",
       "      <td>3.3811</td>\n",
       "      <td>2.588</td>\n",
       "      <td>4.4798</td>\n",
       "      <td>4.8098</td>\n",
       "      <td>3.1637</td>\n",
       "      <td>2.4758</td>\n",
       "    </tr>\n",
       "    <tr>\n",
       "      <th>GSM505329</th>\n",
       "      <td>TFAC</td>\n",
       "      <td>BR_FNA_M176</td>\n",
       "      <td>breast cancer cells</td>\n",
       "      <td>77</td>\n",
       "      <td>mixed</td>\n",
       "      <td>RD</td>\n",
       "      <td>4</td>\n",
       "      <td>1</td>\n",
       "      <td>2</td>\n",
       "      <td>N</td>\n",
       "      <td>...</td>\n",
       "      <td>7.6012</td>\n",
       "      <td>8.2567</td>\n",
       "      <td>15.4604</td>\n",
       "      <td>15.2674</td>\n",
       "      <td>3.1665</td>\n",
       "      <td>3.9743</td>\n",
       "      <td>5.2597</td>\n",
       "      <td>4.3815</td>\n",
       "      <td>2.8034</td>\n",
       "      <td>2.4669</td>\n",
       "    </tr>\n",
       "    <tr>\n",
       "      <th>GSM505330</th>\n",
       "      <td>TFAC</td>\n",
       "      <td>BR_FNA_M214</td>\n",
       "      <td>breast cancer cells</td>\n",
       "      <td>54</td>\n",
       "      <td>white</td>\n",
       "      <td>RD</td>\n",
       "      <td>2</td>\n",
       "      <td>1</td>\n",
       "      <td>2</td>\n",
       "      <td>N</td>\n",
       "      <td>...</td>\n",
       "      <td>7.6331</td>\n",
       "      <td>9.0089</td>\n",
       "      <td>15.5185</td>\n",
       "      <td>15.1655</td>\n",
       "      <td>4.0045</td>\n",
       "      <td>3.8503</td>\n",
       "      <td>5.9114</td>\n",
       "      <td>0.7882</td>\n",
       "      <td>3.1831</td>\n",
       "      <td>3.482</td>\n",
       "    </tr>\n",
       "    <tr>\n",
       "      <th>GSM505331</th>\n",
       "      <td>TFAC</td>\n",
       "      <td>BR_FNA_M113</td>\n",
       "      <td>breast cancer cells</td>\n",
       "      <td>75</td>\n",
       "      <td>black</td>\n",
       "      <td>RD</td>\n",
       "      <td>2</td>\n",
       "      <td>0</td>\n",
       "      <td>3</td>\n",
       "      <td>N</td>\n",
       "      <td>...</td>\n",
       "      <td>8.0249</td>\n",
       "      <td>9.2004</td>\n",
       "      <td>15.3143</td>\n",
       "      <td>14.9506</td>\n",
       "      <td>3.0514</td>\n",
       "      <td>3.2946</td>\n",
       "      <td>5.1537</td>\n",
       "      <td>3.9179</td>\n",
       "      <td>3.1881</td>\n",
       "      <td>2.9769</td>\n",
       "    </tr>\n",
       "  </tbody>\n",
       "</table>\n",
       "<p>5 rows × 22297 columns</p>\n",
       "</div>"
      ],
      "text/plain": [
       "Sample_geo_accession treatment code Sample_title               tissue age  \\\n",
       "GSM505327                      TFAC  BR_FNA_M157  breast cancer cells  57   \n",
       "GSM505328                      TFAC  BR_FNA_M196  breast cancer cells  69   \n",
       "GSM505329                      TFAC  BR_FNA_M176  breast cancer cells  77   \n",
       "GSM505330                      TFAC  BR_FNA_M214  breast cancer cells  54   \n",
       "GSM505331                      TFAC  BR_FNA_M113  breast cancer cells  75   \n",
       "\n",
       "Sample_geo_accession ethnicity treatment_response T (tumor) N (Node)  \\\n",
       "GSM505327                white                 RD         2        0   \n",
       "GSM505328                asian                 RD         2        1   \n",
       "GSM505329                mixed                 RD         4        1   \n",
       "GSM505330                white                 RD         2        1   \n",
       "GSM505331                black                 RD         2        0   \n",
       "\n",
       "Sample_geo_accession bmn_grade PR_status:   ... AFFX-r2-Hs28SrRNA-5_at  \\\n",
       "GSM505327                    2           P  ...                 7.4678   \n",
       "GSM505328                    2           P  ...                 9.6656   \n",
       "GSM505329                    2           N  ...                 7.6012   \n",
       "GSM505330                    2           N  ...                 7.6331   \n",
       "GSM505331                    3           N  ...                 8.0249   \n",
       "\n",
       "Sample_geo_accession AFFX-r2-Hs28SrRNA-M_at AFFX-r2-P1-cre-3_at  \\\n",
       "GSM505327                            9.3738             15.6236   \n",
       "GSM505328                              8.85             15.3234   \n",
       "GSM505329                            8.2567             15.4604   \n",
       "GSM505330                            9.0089             15.5185   \n",
       "GSM505331                            9.2004             15.3143   \n",
       "\n",
       "Sample_geo_accession AFFX-r2-P1-cre-5_at AFFX-ThrX-3_at AFFX-ThrX-5_at  \\\n",
       "GSM505327                        15.2785         3.2915         3.6526   \n",
       "GSM505328                        15.1286         3.3811          2.588   \n",
       "GSM505329                        15.2674         3.1665         3.9743   \n",
       "GSM505330                        15.1655         4.0045         3.8503   \n",
       "GSM505331                        14.9506         3.0514         3.2946   \n",
       "\n",
       "Sample_geo_accession AFFX-ThrX-M_at AFFX-TrpnX-3_at AFFX-TrpnX-5_at  \\\n",
       "GSM505327                    2.6412          1.2652           3.069   \n",
       "GSM505328                    4.4798          4.8098          3.1637   \n",
       "GSM505329                    5.2597          4.3815          2.8034   \n",
       "GSM505330                    5.9114          0.7882          3.1831   \n",
       "GSM505331                    5.1537          3.9179          3.1881   \n",
       "\n",
       "Sample_geo_accession AFFX-TrpnX-M_at  \n",
       "GSM505327                     2.0271  \n",
       "GSM505328                     2.4758  \n",
       "GSM505329                     2.4669  \n",
       "GSM505330                      3.482  \n",
       "GSM505331                     2.9769  \n",
       "\n",
       "[5 rows x 22297 columns]"
      ]
     },
     "execution_count": 90,
     "metadata": {},
     "output_type": "execute_result"
    }
   ],
   "source": [
    "cs_imputed.head(5)"
   ]
  },
  {
   "cell_type": "markdown",
   "metadata": {},
   "source": [
    "#### Treating outliers"
   ]
  },
  {
   "cell_type": "code",
   "execution_count": 91,
   "metadata": {},
   "outputs": [],
   "source": [
    "# J'enleve des outliers si présent - j'utilise cette méthode uniquement pour les variables quantitatives"
   ]
  },
  {
   "cell_type": "code",
   "execution_count": 92,
   "metadata": {},
   "outputs": [
    {
     "name": "stdout",
     "output_type": "stream",
     "text": [
      "Series([], dtype: float64)\n"
     ]
    },
    {
     "data": {
      "text/plain": [
       "(268, 22297)"
      ]
     },
     "execution_count": 92,
     "metadata": {},
     "output_type": "execute_result"
    }
   ],
   "source": [
    "Q1 = cs_imputed.iloc[:,14:].quantile(0.25)\n",
    "Q3 = cs_imputed.iloc[:,14:].quantile(0.75)\n",
    "IQR = Q3 - Q1\n",
    "print(IQR)\n",
    "cs_imputed.iloc[:,14:] = cs_imputed[~((cs_imputed.iloc[:,14:] < (Q1 - 1.5 * IQR)) |(cs_imputed.iloc[:,14:] > (Q3 + 1.5 * IQR))).any(axis=1)]\n",
    "cs_imputed.shape\n"
   ]
  },
  {
   "cell_type": "markdown",
   "metadata": {},
   "source": [
    "Comme le shape n'a pas changé on voit qu'il n'y a pas eu de outliers parmi les variables quantitatives (génétiques)"
   ]
  },
  {
   "cell_type": "markdown",
   "metadata": {},
   "source": [
    "#### LabelEncoding"
   ]
  },
  {
   "cell_type": "code",
   "execution_count": 93,
   "metadata": {},
   "outputs": [],
   "source": [
    "# On converti les strings en nombres - on commence donc par faire le label encoding\n",
    "le = LabelEncoder() \n",
    "for catvar in categorical_columns: \n",
    "    cs_imputed[catvar]= le.fit_transform(cs_imputed[catvar]) \n"
   ]
  },
  {
   "cell_type": "code",
   "execution_count": 94,
   "metadata": {},
   "outputs": [],
   "source": [
    "# Puis je procède avec one hot encoding\n",
    "# Cette étape est importante pour permettre l'utilisation du PCA en autre"
   ]
  },
  {
   "cell_type": "code",
   "execution_count": 95,
   "metadata": {},
   "outputs": [
    {
     "data": {
      "text/html": [
       "<div>\n",
       "<style scoped>\n",
       "    .dataframe tbody tr th:only-of-type {\n",
       "        vertical-align: middle;\n",
       "    }\n",
       "\n",
       "    .dataframe tbody tr th {\n",
       "        vertical-align: top;\n",
       "    }\n",
       "\n",
       "    .dataframe thead th {\n",
       "        text-align: right;\n",
       "    }\n",
       "</style>\n",
       "<table border=\"1\" class=\"dataframe\">\n",
       "  <thead>\n",
       "    <tr style=\"text-align: right;\">\n",
       "      <th></th>\n",
       "      <th>1007_s_at</th>\n",
       "      <th>1053_at</th>\n",
       "      <th>117_at</th>\n",
       "      <th>121_at</th>\n",
       "      <th>1255_g_at</th>\n",
       "      <th>1294_at</th>\n",
       "      <th>1316_at</th>\n",
       "      <th>1320_at</th>\n",
       "      <th>1405_i_at</th>\n",
       "      <th>1431_at</th>\n",
       "      <th>...</th>\n",
       "      <th>histology_19</th>\n",
       "      <th>histology_20</th>\n",
       "      <th>histology_21</th>\n",
       "      <th>histology_22</th>\n",
       "      <th>histology_23</th>\n",
       "      <th>histology_24</th>\n",
       "      <th>histology_25</th>\n",
       "      <th>MAQC_Distribution_Status_1</th>\n",
       "      <th>MAQC_Distribution_Status_2</th>\n",
       "      <th>MAQC_Distribution_Status_3</th>\n",
       "    </tr>\n",
       "  </thead>\n",
       "  <tbody>\n",
       "    <tr>\n",
       "      <th>GSM505327</th>\n",
       "      <td>12.444</td>\n",
       "      <td>8.3774</td>\n",
       "      <td>6.7866</td>\n",
       "      <td>10.2851</td>\n",
       "      <td>5.9064</td>\n",
       "      <td>8.3767</td>\n",
       "      <td>8.0356</td>\n",
       "      <td>6.6745</td>\n",
       "      <td>6.2325</td>\n",
       "      <td>6.845</td>\n",
       "      <td>...</td>\n",
       "      <td>0</td>\n",
       "      <td>0</td>\n",
       "      <td>0</td>\n",
       "      <td>0</td>\n",
       "      <td>0</td>\n",
       "      <td>0</td>\n",
       "      <td>0</td>\n",
       "      <td>1</td>\n",
       "      <td>0</td>\n",
       "      <td>0</td>\n",
       "    </tr>\n",
       "    <tr>\n",
       "      <th>GSM505328</th>\n",
       "      <td>12.2005</td>\n",
       "      <td>7.8592</td>\n",
       "      <td>8.0963</td>\n",
       "      <td>10.4624</td>\n",
       "      <td>4.9582</td>\n",
       "      <td>9.2973</td>\n",
       "      <td>7.0581</td>\n",
       "      <td>6.4607</td>\n",
       "      <td>6.9047</td>\n",
       "      <td>5.8878</td>\n",
       "      <td>...</td>\n",
       "      <td>0</td>\n",
       "      <td>0</td>\n",
       "      <td>0</td>\n",
       "      <td>0</td>\n",
       "      <td>0</td>\n",
       "      <td>0</td>\n",
       "      <td>0</td>\n",
       "      <td>1</td>\n",
       "      <td>0</td>\n",
       "      <td>0</td>\n",
       "    </tr>\n",
       "    <tr>\n",
       "      <th>GSM505329</th>\n",
       "      <td>12.6709</td>\n",
       "      <td>8.6762</td>\n",
       "      <td>7.4812</td>\n",
       "      <td>10.1887</td>\n",
       "      <td>5.2332</td>\n",
       "      <td>9.1721</td>\n",
       "      <td>8.6061</td>\n",
       "      <td>7.0932</td>\n",
       "      <td>6.594</td>\n",
       "      <td>5.6843</td>\n",
       "      <td>...</td>\n",
       "      <td>0</td>\n",
       "      <td>0</td>\n",
       "      <td>0</td>\n",
       "      <td>0</td>\n",
       "      <td>0</td>\n",
       "      <td>0</td>\n",
       "      <td>0</td>\n",
       "      <td>1</td>\n",
       "      <td>0</td>\n",
       "      <td>0</td>\n",
       "    </tr>\n",
       "    <tr>\n",
       "      <th>GSM505330</th>\n",
       "      <td>11.6619</td>\n",
       "      <td>8.2557</td>\n",
       "      <td>7.9923</td>\n",
       "      <td>10.7705</td>\n",
       "      <td>6.3296</td>\n",
       "      <td>9.3777</td>\n",
       "      <td>8.4776</td>\n",
       "      <td>6.5878</td>\n",
       "      <td>6.0877</td>\n",
       "      <td>6.5169</td>\n",
       "      <td>...</td>\n",
       "      <td>0</td>\n",
       "      <td>0</td>\n",
       "      <td>0</td>\n",
       "      <td>0</td>\n",
       "      <td>0</td>\n",
       "      <td>0</td>\n",
       "      <td>0</td>\n",
       "      <td>1</td>\n",
       "      <td>0</td>\n",
       "      <td>0</td>\n",
       "    </tr>\n",
       "    <tr>\n",
       "      <th>GSM505331</th>\n",
       "      <td>11.8397</td>\n",
       "      <td>8.7971</td>\n",
       "      <td>7.8321</td>\n",
       "      <td>10.2869</td>\n",
       "      <td>5.8389</td>\n",
       "      <td>7.0841</td>\n",
       "      <td>7.3419</td>\n",
       "      <td>7.3167</td>\n",
       "      <td>6.3456</td>\n",
       "      <td>6.1708</td>\n",
       "      <td>...</td>\n",
       "      <td>0</td>\n",
       "      <td>0</td>\n",
       "      <td>0</td>\n",
       "      <td>0</td>\n",
       "      <td>0</td>\n",
       "      <td>0</td>\n",
       "      <td>0</td>\n",
       "      <td>1</td>\n",
       "      <td>0</td>\n",
       "      <td>0</td>\n",
       "    </tr>\n",
       "    <tr>\n",
       "      <th>...</th>\n",
       "      <td>...</td>\n",
       "      <td>...</td>\n",
       "      <td>...</td>\n",
       "      <td>...</td>\n",
       "      <td>...</td>\n",
       "      <td>...</td>\n",
       "      <td>...</td>\n",
       "      <td>...</td>\n",
       "      <td>...</td>\n",
       "      <td>...</td>\n",
       "      <td>...</td>\n",
       "      <td>...</td>\n",
       "      <td>...</td>\n",
       "      <td>...</td>\n",
       "      <td>...</td>\n",
       "      <td>...</td>\n",
       "      <td>...</td>\n",
       "      <td>...</td>\n",
       "      <td>...</td>\n",
       "      <td>...</td>\n",
       "      <td>...</td>\n",
       "    </tr>\n",
       "    <tr>\n",
       "      <th>GSM505601</th>\n",
       "      <td>11.8023</td>\n",
       "      <td>7.8182</td>\n",
       "      <td>8.0532</td>\n",
       "      <td>11.2096</td>\n",
       "      <td>6.7603</td>\n",
       "      <td>10.0453</td>\n",
       "      <td>8.3714</td>\n",
       "      <td>4.8747</td>\n",
       "      <td>10.312</td>\n",
       "      <td>7.1426</td>\n",
       "      <td>...</td>\n",
       "      <td>0</td>\n",
       "      <td>0</td>\n",
       "      <td>0</td>\n",
       "      <td>0</td>\n",
       "      <td>0</td>\n",
       "      <td>0</td>\n",
       "      <td>0</td>\n",
       "      <td>0</td>\n",
       "      <td>1</td>\n",
       "      <td>0</td>\n",
       "    </tr>\n",
       "    <tr>\n",
       "      <th>GSM505602</th>\n",
       "      <td>11.4574</td>\n",
       "      <td>8.0488</td>\n",
       "      <td>8.2875</td>\n",
       "      <td>11.0754</td>\n",
       "      <td>6.8105</td>\n",
       "      <td>9.0332</td>\n",
       "      <td>8.4071</td>\n",
       "      <td>5.3538</td>\n",
       "      <td>11.2255</td>\n",
       "      <td>6.3486</td>\n",
       "      <td>...</td>\n",
       "      <td>1</td>\n",
       "      <td>0</td>\n",
       "      <td>0</td>\n",
       "      <td>0</td>\n",
       "      <td>0</td>\n",
       "      <td>0</td>\n",
       "      <td>0</td>\n",
       "      <td>0</td>\n",
       "      <td>1</td>\n",
       "      <td>0</td>\n",
       "    </tr>\n",
       "    <tr>\n",
       "      <th>GSM505603</th>\n",
       "      <td>11.9181</td>\n",
       "      <td>7.389</td>\n",
       "      <td>8.2965</td>\n",
       "      <td>10.8386</td>\n",
       "      <td>6.735</td>\n",
       "      <td>8.939</td>\n",
       "      <td>8.2275</td>\n",
       "      <td>5.9537</td>\n",
       "      <td>11.9945</td>\n",
       "      <td>6.14</td>\n",
       "      <td>...</td>\n",
       "      <td>1</td>\n",
       "      <td>0</td>\n",
       "      <td>0</td>\n",
       "      <td>0</td>\n",
       "      <td>0</td>\n",
       "      <td>0</td>\n",
       "      <td>0</td>\n",
       "      <td>0</td>\n",
       "      <td>1</td>\n",
       "      <td>0</td>\n",
       "    </tr>\n",
       "    <tr>\n",
       "      <th>GSM505604</th>\n",
       "      <td>11.7012</td>\n",
       "      <td>7.7375</td>\n",
       "      <td>8.5987</td>\n",
       "      <td>11.3588</td>\n",
       "      <td>7.5786</td>\n",
       "      <td>9.5624</td>\n",
       "      <td>8.5748</td>\n",
       "      <td>8.1305</td>\n",
       "      <td>6.7621</td>\n",
       "      <td>6.8786</td>\n",
       "      <td>...</td>\n",
       "      <td>0</td>\n",
       "      <td>1</td>\n",
       "      <td>0</td>\n",
       "      <td>0</td>\n",
       "      <td>0</td>\n",
       "      <td>0</td>\n",
       "      <td>0</td>\n",
       "      <td>0</td>\n",
       "      <td>1</td>\n",
       "      <td>0</td>\n",
       "    </tr>\n",
       "    <tr>\n",
       "      <th>GSM505605</th>\n",
       "      <td>11.9795</td>\n",
       "      <td>7.9905</td>\n",
       "      <td>7.4312</td>\n",
       "      <td>10.9263</td>\n",
       "      <td>7.2528</td>\n",
       "      <td>9.4436</td>\n",
       "      <td>8.1317</td>\n",
       "      <td>5.569</td>\n",
       "      <td>8.896</td>\n",
       "      <td>7.1017</td>\n",
       "      <td>...</td>\n",
       "      <td>0</td>\n",
       "      <td>0</td>\n",
       "      <td>0</td>\n",
       "      <td>0</td>\n",
       "      <td>0</td>\n",
       "      <td>0</td>\n",
       "      <td>0</td>\n",
       "      <td>0</td>\n",
       "      <td>1</td>\n",
       "      <td>0</td>\n",
       "    </tr>\n",
       "  </tbody>\n",
       "</table>\n",
       "<p>268 rows × 22702 columns</p>\n",
       "</div>"
      ],
      "text/plain": [
       "          1007_s_at 1053_at  117_at   121_at 1255_g_at  1294_at 1316_at  \\\n",
       "GSM505327    12.444  8.3774  6.7866  10.2851    5.9064   8.3767  8.0356   \n",
       "GSM505328   12.2005  7.8592  8.0963  10.4624    4.9582   9.2973  7.0581   \n",
       "GSM505329   12.6709  8.6762  7.4812  10.1887    5.2332   9.1721  8.6061   \n",
       "GSM505330   11.6619  8.2557  7.9923  10.7705    6.3296   9.3777  8.4776   \n",
       "GSM505331   11.8397  8.7971  7.8321  10.2869    5.8389   7.0841  7.3419   \n",
       "...             ...     ...     ...      ...       ...      ...     ...   \n",
       "GSM505601   11.8023  7.8182  8.0532  11.2096    6.7603  10.0453  8.3714   \n",
       "GSM505602   11.4574  8.0488  8.2875  11.0754    6.8105   9.0332  8.4071   \n",
       "GSM505603   11.9181   7.389  8.2965  10.8386     6.735    8.939  8.2275   \n",
       "GSM505604   11.7012  7.7375  8.5987  11.3588    7.5786   9.5624  8.5748   \n",
       "GSM505605   11.9795  7.9905  7.4312  10.9263    7.2528   9.4436  8.1317   \n",
       "\n",
       "          1320_at 1405_i_at 1431_at  ... histology_19 histology_20  \\\n",
       "GSM505327  6.6745    6.2325   6.845  ...            0            0   \n",
       "GSM505328  6.4607    6.9047  5.8878  ...            0            0   \n",
       "GSM505329  7.0932     6.594  5.6843  ...            0            0   \n",
       "GSM505330  6.5878    6.0877  6.5169  ...            0            0   \n",
       "GSM505331  7.3167    6.3456  6.1708  ...            0            0   \n",
       "...           ...       ...     ...  ...          ...          ...   \n",
       "GSM505601  4.8747    10.312  7.1426  ...            0            0   \n",
       "GSM505602  5.3538   11.2255  6.3486  ...            1            0   \n",
       "GSM505603  5.9537   11.9945    6.14  ...            1            0   \n",
       "GSM505604  8.1305    6.7621  6.8786  ...            0            1   \n",
       "GSM505605   5.569     8.896  7.1017  ...            0            0   \n",
       "\n",
       "          histology_21 histology_22 histology_23 histology_24 histology_25  \\\n",
       "GSM505327            0            0            0            0            0   \n",
       "GSM505328            0            0            0            0            0   \n",
       "GSM505329            0            0            0            0            0   \n",
       "GSM505330            0            0            0            0            0   \n",
       "GSM505331            0            0            0            0            0   \n",
       "...                ...          ...          ...          ...          ...   \n",
       "GSM505601            0            0            0            0            0   \n",
       "GSM505602            0            0            0            0            0   \n",
       "GSM505603            0            0            0            0            0   \n",
       "GSM505604            0            0            0            0            0   \n",
       "GSM505605            0            0            0            0            0   \n",
       "\n",
       "          MAQC_Distribution_Status_1 MAQC_Distribution_Status_2  \\\n",
       "GSM505327                          1                          0   \n",
       "GSM505328                          1                          0   \n",
       "GSM505329                          1                          0   \n",
       "GSM505330                          1                          0   \n",
       "GSM505331                          1                          0   \n",
       "...                              ...                        ...   \n",
       "GSM505601                          0                          1   \n",
       "GSM505602                          0                          1   \n",
       "GSM505603                          0                          1   \n",
       "GSM505604                          0                          1   \n",
       "GSM505605                          0                          1   \n",
       "\n",
       "          MAQC_Distribution_Status_3  \n",
       "GSM505327                          0  \n",
       "GSM505328                          0  \n",
       "GSM505329                          0  \n",
       "GSM505330                          0  \n",
       "GSM505331                          0  \n",
       "...                              ...  \n",
       "GSM505601                          0  \n",
       "GSM505602                          0  \n",
       "GSM505603                          0  \n",
       "GSM505604                          0  \n",
       "GSM505605                          0  \n",
       "\n",
       "[268 rows x 22702 columns]"
      ]
     },
     "execution_count": 95,
     "metadata": {},
     "output_type": "execute_result"
    }
   ],
   "source": [
    "cs_imputed_encoded = pd.get_dummies(cs_imputed, columns=categorical_columns, drop_first=True)\n",
    "cs_imputed_encoded"
   ]
  },
  {
   "cell_type": "code",
   "execution_count": 96,
   "metadata": {},
   "outputs": [
    {
     "data": {
      "text/html": [
       "<div>\n",
       "<style scoped>\n",
       "    .dataframe tbody tr th:only-of-type {\n",
       "        vertical-align: middle;\n",
       "    }\n",
       "\n",
       "    .dataframe tbody tr th {\n",
       "        vertical-align: top;\n",
       "    }\n",
       "\n",
       "    .dataframe thead th {\n",
       "        text-align: right;\n",
       "    }\n",
       "</style>\n",
       "<table border=\"1\" class=\"dataframe\">\n",
       "  <thead>\n",
       "    <tr style=\"text-align: right;\">\n",
       "      <th></th>\n",
       "      <th>1007_s_at</th>\n",
       "      <th>1053_at</th>\n",
       "      <th>117_at</th>\n",
       "      <th>121_at</th>\n",
       "      <th>1255_g_at</th>\n",
       "      <th>1294_at</th>\n",
       "      <th>1316_at</th>\n",
       "      <th>1320_at</th>\n",
       "      <th>1405_i_at</th>\n",
       "      <th>1431_at</th>\n",
       "      <th>...</th>\n",
       "      <th>histology_19</th>\n",
       "      <th>histology_20</th>\n",
       "      <th>histology_21</th>\n",
       "      <th>histology_22</th>\n",
       "      <th>histology_23</th>\n",
       "      <th>histology_24</th>\n",
       "      <th>histology_25</th>\n",
       "      <th>MAQC_Distribution_Status_1</th>\n",
       "      <th>MAQC_Distribution_Status_2</th>\n",
       "      <th>MAQC_Distribution_Status_3</th>\n",
       "    </tr>\n",
       "  </thead>\n",
       "  <tbody>\n",
       "    <tr>\n",
       "      <th>GSM505327</th>\n",
       "      <td>12.444</td>\n",
       "      <td>8.3774</td>\n",
       "      <td>6.7866</td>\n",
       "      <td>10.2851</td>\n",
       "      <td>5.9064</td>\n",
       "      <td>8.3767</td>\n",
       "      <td>8.0356</td>\n",
       "      <td>6.6745</td>\n",
       "      <td>6.2325</td>\n",
       "      <td>6.845</td>\n",
       "      <td>...</td>\n",
       "      <td>0</td>\n",
       "      <td>0</td>\n",
       "      <td>0</td>\n",
       "      <td>0</td>\n",
       "      <td>0</td>\n",
       "      <td>0</td>\n",
       "      <td>0</td>\n",
       "      <td>1</td>\n",
       "      <td>0</td>\n",
       "      <td>0</td>\n",
       "    </tr>\n",
       "    <tr>\n",
       "      <th>GSM505328</th>\n",
       "      <td>12.2005</td>\n",
       "      <td>7.8592</td>\n",
       "      <td>8.0963</td>\n",
       "      <td>10.4624</td>\n",
       "      <td>4.9582</td>\n",
       "      <td>9.2973</td>\n",
       "      <td>7.0581</td>\n",
       "      <td>6.4607</td>\n",
       "      <td>6.9047</td>\n",
       "      <td>5.8878</td>\n",
       "      <td>...</td>\n",
       "      <td>0</td>\n",
       "      <td>0</td>\n",
       "      <td>0</td>\n",
       "      <td>0</td>\n",
       "      <td>0</td>\n",
       "      <td>0</td>\n",
       "      <td>0</td>\n",
       "      <td>1</td>\n",
       "      <td>0</td>\n",
       "      <td>0</td>\n",
       "    </tr>\n",
       "    <tr>\n",
       "      <th>GSM505329</th>\n",
       "      <td>12.6709</td>\n",
       "      <td>8.6762</td>\n",
       "      <td>7.4812</td>\n",
       "      <td>10.1887</td>\n",
       "      <td>5.2332</td>\n",
       "      <td>9.1721</td>\n",
       "      <td>8.6061</td>\n",
       "      <td>7.0932</td>\n",
       "      <td>6.594</td>\n",
       "      <td>5.6843</td>\n",
       "      <td>...</td>\n",
       "      <td>0</td>\n",
       "      <td>0</td>\n",
       "      <td>0</td>\n",
       "      <td>0</td>\n",
       "      <td>0</td>\n",
       "      <td>0</td>\n",
       "      <td>0</td>\n",
       "      <td>1</td>\n",
       "      <td>0</td>\n",
       "      <td>0</td>\n",
       "    </tr>\n",
       "    <tr>\n",
       "      <th>GSM505330</th>\n",
       "      <td>11.6619</td>\n",
       "      <td>8.2557</td>\n",
       "      <td>7.9923</td>\n",
       "      <td>10.7705</td>\n",
       "      <td>6.3296</td>\n",
       "      <td>9.3777</td>\n",
       "      <td>8.4776</td>\n",
       "      <td>6.5878</td>\n",
       "      <td>6.0877</td>\n",
       "      <td>6.5169</td>\n",
       "      <td>...</td>\n",
       "      <td>0</td>\n",
       "      <td>0</td>\n",
       "      <td>0</td>\n",
       "      <td>0</td>\n",
       "      <td>0</td>\n",
       "      <td>0</td>\n",
       "      <td>0</td>\n",
       "      <td>1</td>\n",
       "      <td>0</td>\n",
       "      <td>0</td>\n",
       "    </tr>\n",
       "    <tr>\n",
       "      <th>GSM505331</th>\n",
       "      <td>11.8397</td>\n",
       "      <td>8.7971</td>\n",
       "      <td>7.8321</td>\n",
       "      <td>10.2869</td>\n",
       "      <td>5.8389</td>\n",
       "      <td>7.0841</td>\n",
       "      <td>7.3419</td>\n",
       "      <td>7.3167</td>\n",
       "      <td>6.3456</td>\n",
       "      <td>6.1708</td>\n",
       "      <td>...</td>\n",
       "      <td>0</td>\n",
       "      <td>0</td>\n",
       "      <td>0</td>\n",
       "      <td>0</td>\n",
       "      <td>0</td>\n",
       "      <td>0</td>\n",
       "      <td>0</td>\n",
       "      <td>1</td>\n",
       "      <td>0</td>\n",
       "      <td>0</td>\n",
       "    </tr>\n",
       "    <tr>\n",
       "      <th>...</th>\n",
       "      <td>...</td>\n",
       "      <td>...</td>\n",
       "      <td>...</td>\n",
       "      <td>...</td>\n",
       "      <td>...</td>\n",
       "      <td>...</td>\n",
       "      <td>...</td>\n",
       "      <td>...</td>\n",
       "      <td>...</td>\n",
       "      <td>...</td>\n",
       "      <td>...</td>\n",
       "      <td>...</td>\n",
       "      <td>...</td>\n",
       "      <td>...</td>\n",
       "      <td>...</td>\n",
       "      <td>...</td>\n",
       "      <td>...</td>\n",
       "      <td>...</td>\n",
       "      <td>...</td>\n",
       "      <td>...</td>\n",
       "      <td>...</td>\n",
       "    </tr>\n",
       "    <tr>\n",
       "      <th>GSM505601</th>\n",
       "      <td>11.8023</td>\n",
       "      <td>7.8182</td>\n",
       "      <td>8.0532</td>\n",
       "      <td>11.2096</td>\n",
       "      <td>6.7603</td>\n",
       "      <td>10.0453</td>\n",
       "      <td>8.3714</td>\n",
       "      <td>4.8747</td>\n",
       "      <td>10.312</td>\n",
       "      <td>7.1426</td>\n",
       "      <td>...</td>\n",
       "      <td>0</td>\n",
       "      <td>0</td>\n",
       "      <td>0</td>\n",
       "      <td>0</td>\n",
       "      <td>0</td>\n",
       "      <td>0</td>\n",
       "      <td>0</td>\n",
       "      <td>0</td>\n",
       "      <td>1</td>\n",
       "      <td>0</td>\n",
       "    </tr>\n",
       "    <tr>\n",
       "      <th>GSM505602</th>\n",
       "      <td>11.4574</td>\n",
       "      <td>8.0488</td>\n",
       "      <td>8.2875</td>\n",
       "      <td>11.0754</td>\n",
       "      <td>6.8105</td>\n",
       "      <td>9.0332</td>\n",
       "      <td>8.4071</td>\n",
       "      <td>5.3538</td>\n",
       "      <td>11.2255</td>\n",
       "      <td>6.3486</td>\n",
       "      <td>...</td>\n",
       "      <td>1</td>\n",
       "      <td>0</td>\n",
       "      <td>0</td>\n",
       "      <td>0</td>\n",
       "      <td>0</td>\n",
       "      <td>0</td>\n",
       "      <td>0</td>\n",
       "      <td>0</td>\n",
       "      <td>1</td>\n",
       "      <td>0</td>\n",
       "    </tr>\n",
       "    <tr>\n",
       "      <th>GSM505603</th>\n",
       "      <td>11.9181</td>\n",
       "      <td>7.389</td>\n",
       "      <td>8.2965</td>\n",
       "      <td>10.8386</td>\n",
       "      <td>6.735</td>\n",
       "      <td>8.939</td>\n",
       "      <td>8.2275</td>\n",
       "      <td>5.9537</td>\n",
       "      <td>11.9945</td>\n",
       "      <td>6.14</td>\n",
       "      <td>...</td>\n",
       "      <td>1</td>\n",
       "      <td>0</td>\n",
       "      <td>0</td>\n",
       "      <td>0</td>\n",
       "      <td>0</td>\n",
       "      <td>0</td>\n",
       "      <td>0</td>\n",
       "      <td>0</td>\n",
       "      <td>1</td>\n",
       "      <td>0</td>\n",
       "    </tr>\n",
       "    <tr>\n",
       "      <th>GSM505604</th>\n",
       "      <td>11.7012</td>\n",
       "      <td>7.7375</td>\n",
       "      <td>8.5987</td>\n",
       "      <td>11.3588</td>\n",
       "      <td>7.5786</td>\n",
       "      <td>9.5624</td>\n",
       "      <td>8.5748</td>\n",
       "      <td>8.1305</td>\n",
       "      <td>6.7621</td>\n",
       "      <td>6.8786</td>\n",
       "      <td>...</td>\n",
       "      <td>0</td>\n",
       "      <td>1</td>\n",
       "      <td>0</td>\n",
       "      <td>0</td>\n",
       "      <td>0</td>\n",
       "      <td>0</td>\n",
       "      <td>0</td>\n",
       "      <td>0</td>\n",
       "      <td>1</td>\n",
       "      <td>0</td>\n",
       "    </tr>\n",
       "    <tr>\n",
       "      <th>GSM505605</th>\n",
       "      <td>11.9795</td>\n",
       "      <td>7.9905</td>\n",
       "      <td>7.4312</td>\n",
       "      <td>10.9263</td>\n",
       "      <td>7.2528</td>\n",
       "      <td>9.4436</td>\n",
       "      <td>8.1317</td>\n",
       "      <td>5.569</td>\n",
       "      <td>8.896</td>\n",
       "      <td>7.1017</td>\n",
       "      <td>...</td>\n",
       "      <td>0</td>\n",
       "      <td>0</td>\n",
       "      <td>0</td>\n",
       "      <td>0</td>\n",
       "      <td>0</td>\n",
       "      <td>0</td>\n",
       "      <td>0</td>\n",
       "      <td>0</td>\n",
       "      <td>1</td>\n",
       "      <td>0</td>\n",
       "    </tr>\n",
       "  </tbody>\n",
       "</table>\n",
       "<p>268 rows × 22702 columns</p>\n",
       "</div>"
      ],
      "text/plain": [
       "          1007_s_at 1053_at  117_at   121_at 1255_g_at  1294_at 1316_at  \\\n",
       "GSM505327    12.444  8.3774  6.7866  10.2851    5.9064   8.3767  8.0356   \n",
       "GSM505328   12.2005  7.8592  8.0963  10.4624    4.9582   9.2973  7.0581   \n",
       "GSM505329   12.6709  8.6762  7.4812  10.1887    5.2332   9.1721  8.6061   \n",
       "GSM505330   11.6619  8.2557  7.9923  10.7705    6.3296   9.3777  8.4776   \n",
       "GSM505331   11.8397  8.7971  7.8321  10.2869    5.8389   7.0841  7.3419   \n",
       "...             ...     ...     ...      ...       ...      ...     ...   \n",
       "GSM505601   11.8023  7.8182  8.0532  11.2096    6.7603  10.0453  8.3714   \n",
       "GSM505602   11.4574  8.0488  8.2875  11.0754    6.8105   9.0332  8.4071   \n",
       "GSM505603   11.9181   7.389  8.2965  10.8386     6.735    8.939  8.2275   \n",
       "GSM505604   11.7012  7.7375  8.5987  11.3588    7.5786   9.5624  8.5748   \n",
       "GSM505605   11.9795  7.9905  7.4312  10.9263    7.2528   9.4436  8.1317   \n",
       "\n",
       "          1320_at 1405_i_at 1431_at  ... histology_19 histology_20  \\\n",
       "GSM505327  6.6745    6.2325   6.845  ...            0            0   \n",
       "GSM505328  6.4607    6.9047  5.8878  ...            0            0   \n",
       "GSM505329  7.0932     6.594  5.6843  ...            0            0   \n",
       "GSM505330  6.5878    6.0877  6.5169  ...            0            0   \n",
       "GSM505331  7.3167    6.3456  6.1708  ...            0            0   \n",
       "...           ...       ...     ...  ...          ...          ...   \n",
       "GSM505601  4.8747    10.312  7.1426  ...            0            0   \n",
       "GSM505602  5.3538   11.2255  6.3486  ...            1            0   \n",
       "GSM505603  5.9537   11.9945    6.14  ...            1            0   \n",
       "GSM505604  8.1305    6.7621  6.8786  ...            0            1   \n",
       "GSM505605   5.569     8.896  7.1017  ...            0            0   \n",
       "\n",
       "          histology_21 histology_22 histology_23 histology_24 histology_25  \\\n",
       "GSM505327            0            0            0            0            0   \n",
       "GSM505328            0            0            0            0            0   \n",
       "GSM505329            0            0            0            0            0   \n",
       "GSM505330            0            0            0            0            0   \n",
       "GSM505331            0            0            0            0            0   \n",
       "...                ...          ...          ...          ...          ...   \n",
       "GSM505601            0            0            0            0            0   \n",
       "GSM505602            0            0            0            0            0   \n",
       "GSM505603            0            0            0            0            0   \n",
       "GSM505604            0            0            0            0            0   \n",
       "GSM505605            0            0            0            0            0   \n",
       "\n",
       "          MAQC_Distribution_Status_1 MAQC_Distribution_Status_2  \\\n",
       "GSM505327                          1                          0   \n",
       "GSM505328                          1                          0   \n",
       "GSM505329                          1                          0   \n",
       "GSM505330                          1                          0   \n",
       "GSM505331                          1                          0   \n",
       "...                              ...                        ...   \n",
       "GSM505601                          0                          1   \n",
       "GSM505602                          0                          1   \n",
       "GSM505603                          0                          1   \n",
       "GSM505604                          0                          1   \n",
       "GSM505605                          0                          1   \n",
       "\n",
       "          MAQC_Distribution_Status_3  \n",
       "GSM505327                          0  \n",
       "GSM505328                          0  \n",
       "GSM505329                          0  \n",
       "GSM505330                          0  \n",
       "GSM505331                          0  \n",
       "...                              ...  \n",
       "GSM505601                          0  \n",
       "GSM505602                          0  \n",
       "GSM505603                          0  \n",
       "GSM505604                          0  \n",
       "GSM505605                          0  \n",
       "\n",
       "[268 rows x 22702 columns]"
      ]
     },
     "execution_count": 96,
     "metadata": {},
     "output_type": "execute_result"
    }
   ],
   "source": [
    "cs_imputed_encoded"
   ]
  },
  {
   "cell_type": "code",
   "execution_count": 97,
   "metadata": {},
   "outputs": [
    {
     "data": {
      "text/html": [
       "<div>\n",
       "<style scoped>\n",
       "    .dataframe tbody tr th:only-of-type {\n",
       "        vertical-align: middle;\n",
       "    }\n",
       "\n",
       "    .dataframe tbody tr th {\n",
       "        vertical-align: top;\n",
       "    }\n",
       "\n",
       "    .dataframe thead th {\n",
       "        text-align: right;\n",
       "    }\n",
       "</style>\n",
       "<table border=\"1\" class=\"dataframe\">\n",
       "  <thead>\n",
       "    <tr style=\"text-align: right;\">\n",
       "      <th></th>\n",
       "      <th>treatment_response_1</th>\n",
       "    </tr>\n",
       "  </thead>\n",
       "  <tbody>\n",
       "    <tr>\n",
       "      <th>GSM505327</th>\n",
       "      <td>0</td>\n",
       "    </tr>\n",
       "    <tr>\n",
       "      <th>GSM505328</th>\n",
       "      <td>0</td>\n",
       "    </tr>\n",
       "    <tr>\n",
       "      <th>GSM505329</th>\n",
       "      <td>0</td>\n",
       "    </tr>\n",
       "    <tr>\n",
       "      <th>GSM505330</th>\n",
       "      <td>0</td>\n",
       "    </tr>\n",
       "    <tr>\n",
       "      <th>GSM505331</th>\n",
       "      <td>0</td>\n",
       "    </tr>\n",
       "    <tr>\n",
       "      <th>...</th>\n",
       "      <td>...</td>\n",
       "    </tr>\n",
       "    <tr>\n",
       "      <th>GSM505601</th>\n",
       "      <td>0</td>\n",
       "    </tr>\n",
       "    <tr>\n",
       "      <th>GSM505602</th>\n",
       "      <td>0</td>\n",
       "    </tr>\n",
       "    <tr>\n",
       "      <th>GSM505603</th>\n",
       "      <td>0</td>\n",
       "    </tr>\n",
       "    <tr>\n",
       "      <th>GSM505604</th>\n",
       "      <td>0</td>\n",
       "    </tr>\n",
       "    <tr>\n",
       "      <th>GSM505605</th>\n",
       "      <td>0</td>\n",
       "    </tr>\n",
       "  </tbody>\n",
       "</table>\n",
       "<p>268 rows × 1 columns</p>\n",
       "</div>"
      ],
      "text/plain": [
       "           treatment_response_1\n",
       "GSM505327                     0\n",
       "GSM505328                     0\n",
       "GSM505329                     0\n",
       "GSM505330                     0\n",
       "GSM505331                     0\n",
       "...                         ...\n",
       "GSM505601                     0\n",
       "GSM505602                     0\n",
       "GSM505603                     0\n",
       "GSM505604                     0\n",
       "GSM505605                     0\n",
       "\n",
       "[268 rows x 1 columns]"
      ]
     },
     "execution_count": 97,
     "metadata": {},
     "output_type": "execute_result"
    }
   ],
   "source": [
    "# Je retrouve la variable réponse\n",
    "cs_imputed_encoded.filter(regex='treatment_response')"
   ]
  },
  {
   "cell_type": "markdown",
   "metadata": {},
   "source": [
    "## Model selection"
   ]
  },
  {
   "cell_type": "code",
   "execution_count": 98,
   "metadata": {},
   "outputs": [],
   "source": [
    "X=cs_imputed_encoded.iloc[:, cs_imputed_encoded.columns != 'treatment_response_1']\n",
    "y=cs_imputed_encoded.treatment_response_1"
   ]
  },
  {
   "cell_type": "code",
   "execution_count": 99,
   "metadata": {},
   "outputs": [],
   "source": [
    "# Ici on fait un simple split aléatoire à 35% test, le reste étant train."
   ]
  },
  {
   "cell_type": "code",
   "execution_count": 100,
   "metadata": {},
   "outputs": [],
   "source": [
    "Xf_train, Xf_test, yf_train, yf_test = train_test_split(X, y, test_size=0.35,random_state=42)"
   ]
  },
  {
   "cell_type": "markdown",
   "metadata": {},
   "source": [
    "#### Reduction de dimension"
   ]
  },
  {
   "cell_type": "raw",
   "metadata": {},
   "source": [
    "Nous cherchons maintenant à réduire le nombre de dimensions. Tel que vu précédemment nous avons plus de 22000 variables.\n",
    "Il existe plusieurs techniques de réduction de dimension, tel que l'utilisation du Lasso (qui élimine les variables moins significatives) ou le Ridge (qui réduit ces dites variables), ou encore l'Elastic-Net qui lui combine à la fois le Lasso et le Ridge.\n",
    "\n",
    "Nous choisissons ici d'utiliser une autre technique, soit l'ACP, afin de réduire les dimensions. \n",
    "\n"
   ]
  },
  {
   "cell_type": "code",
   "execution_count": 101,
   "metadata": {},
   "outputs": [
    {
     "data": {
      "text/plain": [
       "[<matplotlib.lines.Line2D at 0x7f8d85cddf90>]"
      ]
     },
     "execution_count": 101,
     "metadata": {},
     "output_type": "execute_result"
    },
    {
     "data": {
      "image/png": "[encoded data removed]",
      "text/plain": [
       "<Figure size 432x288 with 1 Axes>"
      ]
     },
     "metadata": {
      "needs_background": "light"
     },
     "output_type": "display_data"
    }
   ],
   "source": [
    "pca1=PCA()\n",
    "pca1.fit(Xf_train)\n",
    "cum_sum=np.cumsum(pca1.explained_variance_ratio_)\n",
    "plt.plot(cum_sum)"
   ]
  },
  {
   "cell_type": "code",
   "execution_count": 102,
   "metadata": {},
   "outputs": [
    {
     "data": {
      "text/plain": [
       "22701"
      ]
     },
     "execution_count": 102,
     "metadata": {},
     "output_type": "execute_result"
    }
   ],
   "source": [
    "Xf_train.shape[1]"
   ]
  },
  {
   "cell_type": "code",
   "execution_count": 103,
   "metadata": {},
   "outputs": [
    {
     "data": {
      "text/plain": [
       "149"
      ]
     },
     "execution_count": 103,
     "metadata": {},
     "output_type": "execute_result"
    }
   ],
   "source": [
    "d=np.argmax(cum_sum>=0.95)+1\n",
    "d"
   ]
  },
  {
   "cell_type": "code",
   "execution_count": 104,
   "metadata": {},
   "outputs": [],
   "source": [
    "pca = PCA(0.95) #ici on dit qu'on veut garder 60% de la variance expliquée\n",
    "Xf_train = pca.fit_transform(Xf_train)\n",
    "Xf_test = pca.transform(Xf_test)"
   ]
  },
  {
   "cell_type": "code",
   "execution_count": 105,
   "metadata": {},
   "outputs": [
    {
     "data": {
      "text/plain": [
       "149"
      ]
     },
     "execution_count": 105,
     "metadata": {},
     "output_type": "execute_result"
    }
   ],
   "source": [
    "Xf_train.shape[1]"
   ]
  },
  {
   "cell_type": "code",
   "execution_count": 106,
   "metadata": {},
   "outputs": [],
   "source": [
    "# Alors bous"
   ]
  },
  {
   "cell_type": "markdown",
   "metadata": {},
   "source": [
    "### Plot confusion matrix"
   ]
  },
  {
   "cell_type": "code",
   "execution_count": 107,
   "metadata": {},
   "outputs": [],
   "source": [
    "#Plotting the confusion matrix\n",
    "class_names=['RD','pCR']\n",
    "\n",
    "def plot_confusion_matrix(cm, classes,\n",
    "                          normalize=False,\n",
    "                          title='Confusion matrix',\n",
    "                          cmap=plt.cm.Blues):\n",
    "    \n",
    "   \n",
    "    plt.imshow(cm, interpolation='nearest', cmap=cmap)\n",
    "    plt.title(title)\n",
    "    plt.colorbar()\n",
    "    tick_marks = np.arange(len(classes))\n",
    "    plt.xticks(tick_marks, classes, rotation=45)\n",
    "    plt.yticks(tick_marks, classes)\n",
    "    \n",
    "\n",
    "\n",
    "    thresh = cm.max() / 2.\n",
    "    for i, j in itertools.product(range(cm.shape[0]), range(cm.shape[1])):\n",
    "        plt.text(j, i, cm[i, j],\n",
    "                 horizontalalignment=\"center\",\n",
    "                 color=\"white\" if cm[i, j] > thresh else \"black\")\n",
    "        \n",
    "        \n",
    "    plt.tight_layout()\n",
    "    plt.ylabel('True label')\n",
    "    plt.xlabel('Predicted label')"
   ]
  },
  {
   "cell_type": "markdown",
   "metadata": {},
   "source": [
    "### SVM"
   ]
  },
  {
   "cell_type": "code",
   "execution_count": 108,
   "metadata": {},
   "outputs": [],
   "source": [
    "# On utilise le gridsearchCV avec une validation croisée de 4."
   ]
  },
  {
   "cell_type": "code",
   "execution_count": 109,
   "metadata": {},
   "outputs": [],
   "source": [
    "parameters = [{'C':[0.0001,0.001,0.005,0.01,0.1,1,10,50,100,500,1000], 'kernel':['rbf'], 'gamma': [0.0001,0.01,0.1,0.125,0.15,0.17,0.2]}]\n",
    "grid_search = GridSearchCV(estimator=SVC(), param_grid=parameters, scoring ='accuracy',cv=4,n_jobs=4)"
   ]
  },
  {
   "cell_type": "markdown",
   "metadata": {},
   "source": [
    "C régle le taux de souplesse. Plus il est grand, moins les erreurs de classification sont 'tolérées'. Le biais est plus grand dans ce cas. À l'inverse plus C est petit plus il y a un risque d'apprentissage, la variance est plus.\n",
    "Gamma est utilisé lorsqu'on utilise des noyaux tel que le gaussien, rbf. C'est un paramètre qui décide du degré de courbure de la 'zone de séparation'. \n",
    "\n",
    "À l'aide de la fonction gridsearchCV nous testons une gamme de C et de gamma, afin d'obtenir le bon équilibre de biais-variance et afin d'éviter le surapprentissage."
   ]
  },
  {
   "cell_type": "code",
   "execution_count": 38,
   "metadata": {},
   "outputs": [],
   "source": [
    "model_svm = grid_search.fit(Xf_train,yf_train)"
   ]
  },
  {
   "cell_type": "code",
   "execution_count": 39,
   "metadata": {},
   "outputs": [
    {
     "data": {
      "text/plain": [
       "0.8336416490486258"
      ]
     },
     "execution_count": 39,
     "metadata": {},
     "output_type": "execute_result"
    }
   ],
   "source": [
    "best_accuracy_svm = model_svm.best_score_\n",
    "best_accuracy_svm"
   ]
  },
  {
   "cell_type": "code",
   "execution_count": 40,
   "metadata": {},
   "outputs": [
    {
     "data": {
      "text/plain": [
       "{'C': 10, 'gamma': 0.0001, 'kernel': 'rbf'}"
      ]
     },
     "execution_count": 40,
     "metadata": {},
     "output_type": "execute_result"
    }
   ],
   "source": [
    "opt_param = model_svm.best_params_\n",
    "opt_param"
   ]
  },
  {
   "cell_type": "code",
   "execution_count": 41,
   "metadata": {},
   "outputs": [
    {
     "data": {
      "text/plain": [
       "array([0.81818182, 0.79545455, 0.8372093 , 0.81395349])"
      ]
     },
     "execution_count": 41,
     "metadata": {},
     "output_type": "execute_result"
    }
   ],
   "source": [
    "n_scores_svm = cross_val_score(model_svm, Xf_train, yf_train, scoring='accuracy', cv=4, n_jobs=4)\n",
    "n_scores_svm"
   ]
  },
  {
   "cell_type": "code",
   "execution_count": 42,
   "metadata": {},
   "outputs": [
    {
     "data": {
      "text/plain": [
       "0.18380021141649047"
      ]
     },
     "execution_count": 42,
     "metadata": {},
     "output_type": "execute_result"
    }
   ],
   "source": [
    "Erreur_validation_croisee_moyen_SVM=np.mean(1-n_scores_svm)\n",
    "Erreur_validation_croisee_moyen_SVM"
   ]
  },
  {
   "cell_type": "markdown",
   "metadata": {},
   "source": [
    "L'erreur de validation croisée des données d'entrainement n'est pas très élevé, soit, 22.4%."
   ]
  },
  {
   "cell_type": "code",
   "execution_count": 43,
   "metadata": {},
   "outputs": [
    {
     "name": "stdout",
     "output_type": "stream",
     "text": [
      "Accuracy_score_test:  0.8297872340425532\n",
      "Erreur_test:  0.17021276595744683\n"
     ]
    }
   ],
   "source": [
    "print('Accuracy_score_test: ',model_svm.best_estimator_.score(Xf_test,yf_test))\n",
    "print('Erreur_test: ',1-model_svm.best_estimator_.score(Xf_test,yf_test))"
   ]
  },
  {
   "cell_type": "markdown",
   "metadata": {},
   "source": [
    "L'erreur_test est de 17.02% Elle est légèrement plus basse que l'erreur d'apprentissage. "
   ]
  },
  {
   "cell_type": "code",
   "execution_count": 44,
   "metadata": {},
   "outputs": [
    {
     "data": {
      "text/plain": [
       "<sklearn.metrics._plot.roc_curve.RocCurveDisplay at 0x7f7fe0ca0390>"
      ]
     },
     "execution_count": 44,
     "metadata": {},
     "output_type": "execute_result"
    },
    {
     "data": {
      "image/png": "[encoded data removed]",
      "text/plain": [
       "<Figure size 432x288 with 1 Axes>"
      ]
     },
     "metadata": {
      "needs_background": "light"
     },
     "output_type": "display_data"
    }
   ],
   "source": [
    "svm_disp_svm = plot_roc_curve(model_svm, Xf_test, yf_test)\n",
    "svm_disp_svm"
   ]
  },
  {
   "cell_type": "markdown",
   "metadata": {},
   "source": [
    "Nous cherchons maintenant à regarder les résultats dans un peu plus de détails."
   ]
  },
  {
   "cell_type": "code",
   "execution_count": 45,
   "metadata": {},
   "outputs": [
    {
     "data": {
      "text/plain": [
       "array([0, 0, 0, 0, 1, 0, 0, 0, 1, 1, 0, 0, 0, 0, 0, 0, 0, 0, 0, 0, 1, 0,\n",
       "       1, 0, 0, 1, 0, 0, 0, 0, 1, 0, 0, 0, 0, 0, 0, 0, 0, 0, 0, 1, 0, 0,\n",
       "       1, 0, 0, 0, 0, 0, 0, 0, 0, 0, 0, 1, 0, 1, 0, 0, 0, 0, 0, 1, 1, 0,\n",
       "       0, 0, 1, 0, 0, 0, 0, 0, 0, 0, 0, 0, 0, 0, 1, 1, 0, 0, 1, 0, 0, 0,\n",
       "       1, 0, 1, 0, 1, 0], dtype=uint8)"
      ]
     },
     "execution_count": 45,
     "metadata": {},
     "output_type": "execute_result"
    }
   ],
   "source": [
    "y_predicted_svm=model_svm.predict(Xf_test)\n",
    "y_predicted_svm"
   ]
  },
  {
   "cell_type": "code",
   "execution_count": 46,
   "metadata": {},
   "outputs": [
    {
     "data": {
      "image/png": "[encoded data removed]",
      "text/plain": [
       "<Figure size 432x288 with 2 Axes>"
      ]
     },
     "metadata": {
      "needs_background": "light"
     },
     "output_type": "display_data"
    }
   ],
   "source": [
    "cm_svm=confusion_matrix(yf_test,y_predicted_svm)\n",
    "plot_confusion_matrix(cm_svm, classes=class_names, title='Confusion matrix')"
   ]
  },
  {
   "cell_type": "markdown",
   "metadata": {},
   "source": [
    "Nous voyons que le modèle SVM classe toutes les données test dans la classe RD. Ainsi bien que l'erreur de test est relativement bas, le modèle SVM ne semble pas bien adapté à notre jeu de données car il classe toutes les données dans une seule classe. "
   ]
  },
  {
   "cell_type": "markdown",
   "metadata": {},
   "source": [
    "### Gradient Boosting"
   ]
  },
  {
   "cell_type": "code",
   "execution_count": 47,
   "metadata": {},
   "outputs": [
    {
     "data": {
      "text/plain": [
       "array([0.86363636, 0.81818182, 0.8372093 , 0.81395349])"
      ]
     },
     "execution_count": 47,
     "metadata": {},
     "output_type": "execute_result"
    }
   ],
   "source": [
    "model_xgb = XGBClassifier()\n",
    "n_scores_xgb = cross_val_score(model_xgb, Xf_train, yf_train, scoring='accuracy', cv=4, n_jobs=4)\n",
    "n_scores_xgb"
   ]
  },
  {
   "cell_type": "code",
   "execution_count": 48,
   "metadata": {},
   "outputs": [
    {
     "data": {
      "text/plain": [
       "0.16675475687103591"
      ]
     },
     "execution_count": 48,
     "metadata": {},
     "output_type": "execute_result"
    }
   ],
   "source": [
    "Erreur_CV_xgb=np.mean(1-n_scores_xgb)\n",
    "Erreur_CV_xgb"
   ]
  },
  {
   "cell_type": "markdown",
   "metadata": {},
   "source": [
    "L'erreur de validation croisée sur les données train est de 16.67%."
   ]
  },
  {
   "cell_type": "code",
   "execution_count": 49,
   "metadata": {},
   "outputs": [],
   "source": [
    "model_xgb.fit(Xf_train, yf_train)\n",
    "y_predicted = model_xgb.predict(Xf_test)"
   ]
  },
  {
   "cell_type": "code",
   "execution_count": 50,
   "metadata": {},
   "outputs": [
    {
     "name": "stdout",
     "output_type": "stream",
     "text": [
      "Accuracy_score_test_xgb:  0.8617021276595744\n",
      "Erreur_test_xgb:  0.13829787234042556\n"
     ]
    }
   ],
   "source": [
    "print('Accuracy_score_test_xgb: ',model_xgb.score(Xf_test,yf_test))\n",
    "print('Erreur_test_xgb: ',1-model_xgb.score(Xf_test,yf_test))"
   ]
  },
  {
   "cell_type": "markdown",
   "metadata": {},
   "source": [
    "L'erreur de test est plus bas que l'erreur d'apprentissage, soit 13.8% au lieu de 16.67%"
   ]
  },
  {
   "cell_type": "code",
   "execution_count": 51,
   "metadata": {},
   "outputs": [
    {
     "data": {
      "text/plain": [
       "array([[76,  2],\n",
       "       [11,  5]])"
      ]
     },
     "execution_count": 51,
     "metadata": {},
     "output_type": "execute_result"
    }
   ],
   "source": [
    "cm_xgb=confusion_matrix(yf_test,y_predicted)\n",
    "cm_xgb"
   ]
  },
  {
   "cell_type": "code",
   "execution_count": 52,
   "metadata": {
    "scrolled": true
   },
   "outputs": [
    {
     "data": {
      "image/png": "[encoded data removed]",
      "text/plain": [
       "<Figure size 432x288 with 2 Axes>"
      ]
     },
     "metadata": {
      "needs_background": "light"
     },
     "output_type": "display_data"
    }
   ],
   "source": [
    "plot_confusion_matrix(cm_xgb, classes=class_names, title='Confusion matrix')"
   ]
  },
  {
   "cell_type": "code",
   "execution_count": 53,
   "metadata": {},
   "outputs": [
    {
     "name": "stdout",
     "output_type": "stream",
     "text": [
      "              precision    recall  f1-score   support\n",
      "\n",
      "           0       0.87      0.97      0.92        78\n",
      "           1       0.71      0.31      0.43        16\n",
      "\n",
      "    accuracy                           0.86        94\n",
      "   macro avg       0.79      0.64      0.68        94\n",
      "weighted avg       0.85      0.86      0.84        94\n",
      "\n"
     ]
    }
   ],
   "source": [
    "print(classification_report(yf_test,y_predicted))"
   ]
  },
  {
   "cell_type": "markdown",
   "metadata": {},
   "source": [
    "Le modèle XGBoost donne de meilleur résultat que le modèle SVM. Nous avons un taux d'accuracy en 86%."
   ]
  },
  {
   "cell_type": "code",
   "execution_count": 54,
   "metadata": {},
   "outputs": [
    {
     "data": {
      "text/plain": [
       "<sklearn.metrics._plot.roc_curve.RocCurveDisplay at 0x7f7fcaecef90>"
      ]
     },
     "execution_count": 54,
     "metadata": {},
     "output_type": "execute_result"
    },
    {
     "data": {
      "image/png": "[encoded data removed]",
      "text/plain": [
       "<Figure size 432x288 with 1 Axes>"
      ]
     },
     "metadata": {
      "needs_background": "light"
     },
     "output_type": "display_data"
    }
   ],
   "source": [
    "xgb_disp_xgb = plot_roc_curve(model_xgb, Xf_test, yf_test)\n",
    "xgb_disp_xgb"
   ]
  },
  {
   "cell_type": "markdown",
   "metadata": {},
   "source": [
    "### Random Forest"
   ]
  },
  {
   "cell_type": "code",
   "execution_count": 177,
   "metadata": {},
   "outputs": [],
   "source": [
    "param_grid_RF = {\n",
    "    'bootstrap': [True,False],\n",
    "    'max_depth': [300,400,500,550,600,650,670],\n",
    "    'max_features': [10,12,14,16,18,20,30,40],\n",
    "    'min_samples_leaf': [5,6,8,10,15],\n",
    "    'min_samples_split': [2,3,4,5,8,9,10],\n",
    "    'n_estimators': [10,15,18,20,22,23,25,30]\n",
    "}\n",
    "\n",
    "RF=RandomForestClassifier()\n",
    "\n",
    "grid_search_RF = GridSearchCV(estimator = RF, param_grid = param_grid_RF, \n",
    "                          cv = 3, n_jobs = -1, verbose = 2)"
   ]
  },
  {
   "cell_type": "code",
   "execution_count": 178,
   "metadata": {},
   "outputs": [
    {
     "name": "stdout",
     "output_type": "stream",
     "text": [
      "Fitting 3 folds for each of 31360 candidates, totalling 94080 fits\n"
     ]
    },
    {
     "name": "stderr",
     "output_type": "stream",
     "text": [
      "[Parallel(n_jobs=-1)]: Using backend LokyBackend with 8 concurrent workers.\n",
      "[Parallel(n_jobs=-1)]: Done  34 tasks      | elapsed:    0.4s\n",
      "[Parallel(n_jobs=-1)]: Done 276 tasks      | elapsed:    2.6s\n",
      "[Parallel(n_jobs=-1)]: Done 682 tasks      | elapsed:    6.1s\n",
      "[Parallel(n_jobs=-1)]: Done 1248 tasks      | elapsed:   11.2s\n",
      "[Parallel(n_jobs=-1)]: Done 1978 tasks      | elapsed:   18.0s\n",
      "[Parallel(n_jobs=-1)]: Done 2868 tasks      | elapsed:   26.7s\n",
      "[Parallel(n_jobs=-1)]: Done 3922 tasks      | elapsed:   37.2s\n",
      "[Parallel(n_jobs=-1)]: Done 5136 tasks      | elapsed:   49.6s\n",
      "[Parallel(n_jobs=-1)]: Done 6514 tasks      | elapsed:  1.1min\n",
      "[Parallel(n_jobs=-1)]: Done 8052 tasks      | elapsed:  1.3min\n",
      "[Parallel(n_jobs=-1)]: Done 9754 tasks      | elapsed:  1.6min\n",
      "[Parallel(n_jobs=-1)]: Done 11616 tasks      | elapsed:  1.9min\n",
      "[Parallel(n_jobs=-1)]: Done 13642 tasks      | elapsed:  2.4min\n",
      "[Parallel(n_jobs=-1)]: Done 15828 tasks      | elapsed:  2.7min\n",
      "[Parallel(n_jobs=-1)]: Done 18178 tasks      | elapsed:  3.1min\n",
      "[Parallel(n_jobs=-1)]: Done 20688 tasks      | elapsed:  3.6min\n",
      "[Parallel(n_jobs=-1)]: Done 23362 tasks      | elapsed:  4.0min\n",
      "[Parallel(n_jobs=-1)]: Done 26196 tasks      | elapsed:  4.5min\n",
      "[Parallel(n_jobs=-1)]: Done 29194 tasks      | elapsed:  5.0min\n",
      "[Parallel(n_jobs=-1)]: Done 32352 tasks      | elapsed:  5.6min\n",
      "[Parallel(n_jobs=-1)]: Done 35674 tasks      | elapsed:  6.6min\n",
      "[Parallel(n_jobs=-1)]: Done 39156 tasks      | elapsed:  7.5min\n",
      "[Parallel(n_jobs=-1)]: Done 42802 tasks      | elapsed:  8.4min\n",
      "[Parallel(n_jobs=-1)]: Done 46608 tasks      | elapsed:  9.4min\n",
      "[Parallel(n_jobs=-1)]: Done 50578 tasks      | elapsed: 10.3min\n",
      "[Parallel(n_jobs=-1)]: Done 54708 tasks      | elapsed: 11.3min\n",
      "[Parallel(n_jobs=-1)]: Done 59002 tasks      | elapsed: 12.2min\n",
      "[Parallel(n_jobs=-1)]: Done 63456 tasks      | elapsed: 13.3min\n",
      "[Parallel(n_jobs=-1)]: Done 68074 tasks      | elapsed: 14.4min\n",
      "[Parallel(n_jobs=-1)]: Done 72852 tasks      | elapsed: 15.5min\n",
      "[Parallel(n_jobs=-1)]: Done 77794 tasks      | elapsed: 16.7min\n",
      "[Parallel(n_jobs=-1)]: Done 82896 tasks      | elapsed: 18.0min\n",
      "[Parallel(n_jobs=-1)]: Done 88162 tasks      | elapsed: 19.2min\n",
      "[Parallel(n_jobs=-1)]: Done 93588 tasks      | elapsed: 20.5min\n",
      "[Parallel(n_jobs=-1)]: Done 94080 out of 94080 | elapsed: 20.7min finished\n"
     ]
    },
    {
     "data": {
      "text/plain": [
       "GridSearchCV(cv=3, estimator=RandomForestClassifier(), n_jobs=-1,\n",
       "             param_grid={'bootstrap': [True, False],\n",
       "                         'max_depth': [300, 400, 500, 550, 600, 650, 670],\n",
       "                         'max_features': [10, 12, 14, 16, 18, 20, 30, 40],\n",
       "                         'min_samples_leaf': [5, 6, 8, 10, 15],\n",
       "                         'min_samples_split': [2, 3, 4, 5, 8, 9, 10],\n",
       "                         'n_estimators': [10, 15, 18, 20, 22, 23, 25, 30]},\n",
       "             verbose=2)"
      ]
     },
     "execution_count": 178,
     "metadata": {},
     "output_type": "execute_result"
    }
   ],
   "source": [
    "# ATTENTION DURE A PEU PRES 14-15MIN\n",
    "grid_search_RF.fit(Xf_train, yf_train)\n"
   ]
  },
  {
   "cell_type": "code",
   "execution_count": 179,
   "metadata": {},
   "outputs": [
    {
     "data": {
      "text/plain": [
       "RandomForestClassifier(bootstrap=False, max_depth=600, max_features=40,\n",
       "                       min_samples_leaf=5, n_estimators=22)"
      ]
     },
     "execution_count": 179,
     "metadata": {},
     "output_type": "execute_result"
    }
   ],
   "source": [
    "grid_search_RF.best_estimator_"
   ]
  },
  {
   "cell_type": "code",
   "execution_count": 180,
   "metadata": {},
   "outputs": [
    {
     "name": "stdout",
     "output_type": "stream",
     "text": [
      "              precision    recall  f1-score   support\n",
      "\n",
      "           0       0.84      1.00      0.91        78\n",
      "           1       1.00      0.06      0.12        16\n",
      "\n",
      "    accuracy                           0.84        94\n",
      "   macro avg       0.92      0.53      0.51        94\n",
      "weighted avg       0.87      0.84      0.78        94\n",
      "\n"
     ]
    },
    {
     "data": {
      "image/png": "[encoded data removed]",
      "text/plain": [
       "<Figure size 432x288 with 2 Axes>"
      ]
     },
     "metadata": {
      "needs_background": "light"
     },
     "output_type": "display_data"
    }
   ],
   "source": [
    "y_pred_RF = grid_search_RF.predict(Xf_test)\n",
    "print(classification_report(yf_test, y_pred_RF))\n",
    "cm_RF = confusion_matrix(yf_test,y_pred_RF)\n",
    "plot_confusion_matrix(cm_RF, classes=class_names, title='Confusion matrix')"
   ]
  },
  {
   "cell_type": "code",
   "execution_count": 114,
   "metadata": {},
   "outputs": [],
   "source": [
    "# Résultat robuste pour Random Forest"
   ]
  },
  {
   "cell_type": "markdown",
   "metadata": {},
   "source": [
    "### Régression Logistique"
   ]
  },
  {
   "cell_type": "code",
   "execution_count": 202,
   "metadata": {},
   "outputs": [
    {
     "data": {
      "text/plain": [
       "LogisticRegression(random_state=0)"
      ]
     },
     "execution_count": 202,
     "metadata": {},
     "output_type": "execute_result"
    }
   ],
   "source": [
    "model_logit=LogisticRegression(random_state=0)\n",
    "model_logit.fit(Xf_train,yf_train)"
   ]
  },
  {
   "cell_type": "code",
   "execution_count": 203,
   "metadata": {},
   "outputs": [],
   "source": [
    "y_pred_logit = model_logit.predict(Xf_test)"
   ]
  },
  {
   "cell_type": "code",
   "execution_count": 204,
   "metadata": {},
   "outputs": [
    {
     "data": {
      "text/plain": [
       "array([[73,  5],\n",
       "       [10,  6]])"
      ]
     },
     "execution_count": 204,
     "metadata": {},
     "output_type": "execute_result"
    }
   ],
   "source": [
    "cm_logit = confusion_matrix(yf_test,y_pred_logit)\n",
    "cm_logit"
   ]
  },
  {
   "cell_type": "code",
   "execution_count": 205,
   "metadata": {},
   "outputs": [
    {
     "data": {
      "text/plain": [
       "array([0.79545455, 0.77272727, 0.79069767, 0.74418605])"
      ]
     },
     "execution_count": 205,
     "metadata": {},
     "output_type": "execute_result"
    }
   ],
   "source": [
    "accuracies = cross_val_score(estimator=model_logit,X=Xf_train,y=yf_train,cv=4)\n",
    "accuracies"
   ]
  },
  {
   "cell_type": "markdown",
   "metadata": {},
   "source": [
    "### Régression Pénalisée"
   ]
  },
  {
   "cell_type": "code",
   "execution_count": 206,
   "metadata": {},
   "outputs": [],
   "source": [
    "model_lasso_lars=LassoLarsCV(cv=4, precompute=False).fit(Xf_train,yf_train)"
   ]
  },
  {
   "cell_type": "code",
   "execution_count": 207,
   "metadata": {},
   "outputs": [
    {
     "data": {
      "text/plain": [
       "{0: 0.0,\n",
       " 1: 0.0036832871449937357,\n",
       " 2: -0.0014108984506192072,\n",
       " 3: 0.0007377900715908447,\n",
       " 4: 0.0,\n",
       " 5: 0.0,\n",
       " 6: 0.0,\n",
       " 7: -0.00015451905596221472,\n",
       " 8: 0.0,\n",
       " 9: 0.0,\n",
       " 10: -0.002816646179489525,\n",
       " 11: 0.0,\n",
       " 12: 0.0029116914977718547,\n",
       " 13: -0.001570337173648846,\n",
       " 14: 0.0,\n",
       " 15: 0.0,\n",
       " 16: 0.0,\n",
       " 17: 0.00016607722778696438,\n",
       " 18: 0.0,\n",
       " 19: 0.0,\n",
       " 20: 0.0,\n",
       " 21: 0.0,\n",
       " 22: 0.0,\n",
       " 23: 0.0,\n",
       " 24: 0.0,\n",
       " 25: 0.0,\n",
       " 26: 0.0,\n",
       " 27: 0.0,\n",
       " 28: 0.0,\n",
       " 29: 0.0,\n",
       " 30: 0.0,\n",
       " 31: 0.0,\n",
       " 32: 0.0,\n",
       " 33: 0.0,\n",
       " 34: 0.0,\n",
       " 35: 0.0,\n",
       " 36: 0.0004194016094231094,\n",
       " 37: 0.0,\n",
       " 38: 0.00419463988257328,\n",
       " 39: 0.0,\n",
       " 40: 0.0,\n",
       " 41: 0.0,\n",
       " 42: 0.0002460588909834083}"
      ]
     },
     "execution_count": 207,
     "metadata": {},
     "output_type": "execute_result"
    }
   ],
   "source": [
    "# print variable names and regression coefficients\n",
    "dict(zip(pd.DataFrame(Xf_train).columns, model_lasso_lars.coef_))"
   ]
  },
  {
   "cell_type": "code",
   "execution_count": 208,
   "metadata": {},
   "outputs": [
    {
     "data": {
      "text/plain": [
       "Text(0.5, 1.0, 'Regression Coefficients Progression for Lasso Paths')"
      ]
     },
     "execution_count": 208,
     "metadata": {},
     "output_type": "execute_result"
    },
    {
     "data": {
      "image/png": "[encoded data removed]",
      "text/plain": [
       "<Figure size 432x288 with 1 Axes>"
      ]
     },
     "metadata": {
      "needs_background": "light"
     },
     "output_type": "display_data"
    }
   ],
   "source": [
    "# plot coefficient progression\n",
    "m_log_alphas = -np.log10(model_lasso_lars.alphas_)\n",
    "ax = plt.gca()\n",
    "plt.plot(m_log_alphas, model_lasso_lars.coef_path_.T)\n",
    "plt.axvline(-np.log10(model_lasso_lars.alpha_), linestyle='--', color='k',\n",
    "            label='alpha CV')\n",
    "plt.ylabel('Regression Coefficients')\n",
    "plt.xlabel('-log(alpha)')\n",
    "plt.title('Regression Coefficients Progression for Lasso Paths')"
   ]
  },
  {
   "cell_type": "code",
   "execution_count": 209,
   "metadata": {},
   "outputs": [
    {
     "name": "stdout",
     "output_type": "stream",
     "text": [
      "training data MSE\n",
      "0.1212305507150937\n",
      "test data MSE\n",
      "0.12366197151308685\n"
     ]
    }
   ],
   "source": [
    "# MSE from training and test data\n",
    "from sklearn.metrics import mean_squared_error\n",
    "train_error = mean_squared_error(yf_train, model_lasso_lars.predict(Xf_train))\n",
    "test_error = mean_squared_error(yf_test, model_lasso_lars.predict(Xf_test))\n",
    "print ('training data MSE')\n",
    "print(train_error)\n",
    "print ('test data MSE')\n",
    "print(test_error)"
   ]
  },
  {
   "cell_type": "code",
   "execution_count": 210,
   "metadata": {},
   "outputs": [
    {
     "name": "stdout",
     "output_type": "stream",
     "text": [
      "training data R-square\n",
      "0.3028725254605553\n",
      "test data R-square\n",
      "0.12445738758843339\n"
     ]
    }
   ],
   "source": [
    "# R-square from training and test data\n",
    "rsquared_train=model_lasso_lars.score(Xf_train,yf_train)\n",
    "rsquared_test=model_lasso_lars.score(Xf_test,yf_test)\n",
    "print ('training data R-square')\n",
    "print(rsquared_train)\n",
    "print ('test data R-square')\n",
    "print(rsquared_test)"
   ]
  },
  {
   "cell_type": "code",
   "execution_count": null,
   "metadata": {},
   "outputs": [],
   "source": [
    "# Ridge "
   ]
  },
  {
   "cell_type": "code",
   "execution_count": null,
   "metadata": {},
   "outputs": [],
   "source": []
  },
  {
   "cell_type": "code",
   "execution_count": null,
   "metadata": {},
   "outputs": [],
   "source": []
  },
  {
   "cell_type": "code",
   "execution_count": null,
   "metadata": {},
   "outputs": [],
   "source": [
    "# On refait mais avec uniquement les variables genetiques"
   ]
  },
  {
   "cell_type": "code",
   "execution_count": 241,
   "metadata": {},
   "outputs": [
    {
     "data": {
      "text/html": [
       "<div>\n",
       "<style scoped>\n",
       "    .dataframe tbody tr th:only-of-type {\n",
       "        vertical-align: middle;\n",
       "    }\n",
       "\n",
       "    .dataframe tbody tr th {\n",
       "        vertical-align: top;\n",
       "    }\n",
       "\n",
       "    .dataframe thead th {\n",
       "        text-align: right;\n",
       "    }\n",
       "</style>\n",
       "<table border=\"1\" class=\"dataframe\">\n",
       "  <thead>\n",
       "    <tr style=\"text-align: right;\">\n",
       "      <th>Sample_geo_accession</th>\n",
       "      <th>treatment code</th>\n",
       "      <th>Sample_title</th>\n",
       "      <th>tissue</th>\n",
       "      <th>age</th>\n",
       "      <th>ethnicity</th>\n",
       "      <th>treatment_response</th>\n",
       "      <th>T (tumor)</th>\n",
       "      <th>N (Node)</th>\n",
       "      <th>bmn_grade</th>\n",
       "      <th>PR_status:</th>\n",
       "      <th>...</th>\n",
       "      <th>AFFX-r2-Hs28SrRNA-5_at</th>\n",
       "      <th>AFFX-r2-Hs28SrRNA-M_at</th>\n",
       "      <th>AFFX-r2-P1-cre-3_at</th>\n",
       "      <th>AFFX-r2-P1-cre-5_at</th>\n",
       "      <th>AFFX-ThrX-3_at</th>\n",
       "      <th>AFFX-ThrX-5_at</th>\n",
       "      <th>AFFX-ThrX-M_at</th>\n",
       "      <th>AFFX-TrpnX-3_at</th>\n",
       "      <th>AFFX-TrpnX-5_at</th>\n",
       "      <th>AFFX-TrpnX-M_at</th>\n",
       "    </tr>\n",
       "  </thead>\n",
       "  <tbody>\n",
       "    <tr>\n",
       "      <th>GSM505327</th>\n",
       "      <td>2</td>\n",
       "      <td>25</td>\n",
       "      <td>0</td>\n",
       "      <td>29</td>\n",
       "      <td>4</td>\n",
       "      <td>0</td>\n",
       "      <td>2</td>\n",
       "      <td>0</td>\n",
       "      <td>1</td>\n",
       "      <td>1</td>\n",
       "      <td>...</td>\n",
       "      <td>7.4678</td>\n",
       "      <td>9.3738</td>\n",
       "      <td>15.6236</td>\n",
       "      <td>15.2785</td>\n",
       "      <td>3.2915</td>\n",
       "      <td>3.6526</td>\n",
       "      <td>2.6412</td>\n",
       "      <td>1.2652</td>\n",
       "      <td>3.069</td>\n",
       "      <td>2.0271</td>\n",
       "    </tr>\n",
       "    <tr>\n",
       "      <th>GSM505328</th>\n",
       "      <td>2</td>\n",
       "      <td>40</td>\n",
       "      <td>0</td>\n",
       "      <td>41</td>\n",
       "      <td>0</td>\n",
       "      <td>0</td>\n",
       "      <td>2</td>\n",
       "      <td>1</td>\n",
       "      <td>1</td>\n",
       "      <td>1</td>\n",
       "      <td>...</td>\n",
       "      <td>9.6656</td>\n",
       "      <td>8.85</td>\n",
       "      <td>15.3234</td>\n",
       "      <td>15.1286</td>\n",
       "      <td>3.3811</td>\n",
       "      <td>2.588</td>\n",
       "      <td>4.4798</td>\n",
       "      <td>4.8098</td>\n",
       "      <td>3.1637</td>\n",
       "      <td>2.4758</td>\n",
       "    </tr>\n",
       "    <tr>\n",
       "      <th>GSM505329</th>\n",
       "      <td>2</td>\n",
       "      <td>30</td>\n",
       "      <td>0</td>\n",
       "      <td>47</td>\n",
       "      <td>3</td>\n",
       "      <td>0</td>\n",
       "      <td>4</td>\n",
       "      <td>1</td>\n",
       "      <td>1</td>\n",
       "      <td>0</td>\n",
       "      <td>...</td>\n",
       "      <td>7.6012</td>\n",
       "      <td>8.2567</td>\n",
       "      <td>15.4604</td>\n",
       "      <td>15.2674</td>\n",
       "      <td>3.1665</td>\n",
       "      <td>3.9743</td>\n",
       "      <td>5.2597</td>\n",
       "      <td>4.3815</td>\n",
       "      <td>2.8034</td>\n",
       "      <td>2.4669</td>\n",
       "    </tr>\n",
       "    <tr>\n",
       "      <th>GSM505330</th>\n",
       "      <td>2</td>\n",
       "      <td>47</td>\n",
       "      <td>0</td>\n",
       "      <td>26</td>\n",
       "      <td>4</td>\n",
       "      <td>0</td>\n",
       "      <td>2</td>\n",
       "      <td>1</td>\n",
       "      <td>1</td>\n",
       "      <td>0</td>\n",
       "      <td>...</td>\n",
       "      <td>7.6331</td>\n",
       "      <td>9.0089</td>\n",
       "      <td>15.5185</td>\n",
       "      <td>15.1655</td>\n",
       "      <td>4.0045</td>\n",
       "      <td>3.8503</td>\n",
       "      <td>5.9114</td>\n",
       "      <td>0.7882</td>\n",
       "      <td>3.1831</td>\n",
       "      <td>3.482</td>\n",
       "    </tr>\n",
       "    <tr>\n",
       "      <th>GSM505331</th>\n",
       "      <td>2</td>\n",
       "      <td>4</td>\n",
       "      <td>0</td>\n",
       "      <td>46</td>\n",
       "      <td>1</td>\n",
       "      <td>0</td>\n",
       "      <td>2</td>\n",
       "      <td>0</td>\n",
       "      <td>2</td>\n",
       "      <td>0</td>\n",
       "      <td>...</td>\n",
       "      <td>8.0249</td>\n",
       "      <td>9.2004</td>\n",
       "      <td>15.3143</td>\n",
       "      <td>14.9506</td>\n",
       "      <td>3.0514</td>\n",
       "      <td>3.2946</td>\n",
       "      <td>5.1537</td>\n",
       "      <td>3.9179</td>\n",
       "      <td>3.1881</td>\n",
       "      <td>2.9769</td>\n",
       "    </tr>\n",
       "  </tbody>\n",
       "</table>\n",
       "<p>5 rows × 22297 columns</p>\n",
       "</div>"
      ],
      "text/plain": [
       "Sample_geo_accession  treatment code  Sample_title  tissue  age  ethnicity  \\\n",
       "GSM505327                          2            25       0   29          4   \n",
       "GSM505328                          2            40       0   41          0   \n",
       "GSM505329                          2            30       0   47          3   \n",
       "GSM505330                          2            47       0   26          4   \n",
       "GSM505331                          2             4       0   46          1   \n",
       "\n",
       "Sample_geo_accession  treatment_response  T (tumor)  N (Node)  bmn_grade  \\\n",
       "GSM505327                              0          2         0          1   \n",
       "GSM505328                              0          2         1          1   \n",
       "GSM505329                              0          4         1          1   \n",
       "GSM505330                              0          2         1          1   \n",
       "GSM505331                              0          2         0          2   \n",
       "\n",
       "Sample_geo_accession  PR_status:   ...  AFFX-r2-Hs28SrRNA-5_at  \\\n",
       "GSM505327                       1  ...                  7.4678   \n",
       "GSM505328                       1  ...                  9.6656   \n",
       "GSM505329                       0  ...                  7.6012   \n",
       "GSM505330                       0  ...                  7.6331   \n",
       "GSM505331                       0  ...                  8.0249   \n",
       "\n",
       "Sample_geo_accession  AFFX-r2-Hs28SrRNA-M_at  AFFX-r2-P1-cre-3_at  \\\n",
       "GSM505327                             9.3738              15.6236   \n",
       "GSM505328                               8.85              15.3234   \n",
       "GSM505329                             8.2567              15.4604   \n",
       "GSM505330                             9.0089              15.5185   \n",
       "GSM505331                             9.2004              15.3143   \n",
       "\n",
       "Sample_geo_accession  AFFX-r2-P1-cre-5_at AFFX-ThrX-3_at AFFX-ThrX-5_at  \\\n",
       "GSM505327                         15.2785         3.2915         3.6526   \n",
       "GSM505328                         15.1286         3.3811          2.588   \n",
       "GSM505329                         15.2674         3.1665         3.9743   \n",
       "GSM505330                         15.1655         4.0045         3.8503   \n",
       "GSM505331                         14.9506         3.0514         3.2946   \n",
       "\n",
       "Sample_geo_accession AFFX-ThrX-M_at AFFX-TrpnX-3_at AFFX-TrpnX-5_at  \\\n",
       "GSM505327                    2.6412          1.2652           3.069   \n",
       "GSM505328                    4.4798          4.8098          3.1637   \n",
       "GSM505329                    5.2597          4.3815          2.8034   \n",
       "GSM505330                    5.9114          0.7882          3.1831   \n",
       "GSM505331                    5.1537          3.9179          3.1881   \n",
       "\n",
       "Sample_geo_accession AFFX-TrpnX-M_at  \n",
       "GSM505327                     2.0271  \n",
       "GSM505328                     2.4758  \n",
       "GSM505329                     2.4669  \n",
       "GSM505330                      3.482  \n",
       "GSM505331                     2.9769  \n",
       "\n",
       "[5 rows x 22297 columns]"
      ]
     },
     "execution_count": 241,
     "metadata": {},
     "output_type": "execute_result"
    }
   ],
   "source": [
    "cs_imputed.head(5)"
   ]
  },
  {
   "cell_type": "code",
   "execution_count": 242,
   "metadata": {},
   "outputs": [],
   "source": [
    "categorical_columns.remove('treatment_response')"
   ]
  },
  {
   "cell_type": "code",
   "execution_count": 246,
   "metadata": {},
   "outputs": [],
   "source": [
    "for catvar in categorical_columns:\n",
    "    cs_imputed=cs_imputed.drop(catvar,axis=1)"
   ]
  },
  {
   "cell_type": "code",
   "execution_count": 248,
   "metadata": {},
   "outputs": [
    {
     "data": {
      "text/html": [
       "<div>\n",
       "<style scoped>\n",
       "    .dataframe tbody tr th:only-of-type {\n",
       "        vertical-align: middle;\n",
       "    }\n",
       "\n",
       "    .dataframe tbody tr th {\n",
       "        vertical-align: top;\n",
       "    }\n",
       "\n",
       "    .dataframe thead th {\n",
       "        text-align: right;\n",
       "    }\n",
       "</style>\n",
       "<table border=\"1\" class=\"dataframe\">\n",
       "  <thead>\n",
       "    <tr style=\"text-align: right;\">\n",
       "      <th>Sample_geo_accession</th>\n",
       "      <th>treatment_response</th>\n",
       "      <th>1007_s_at</th>\n",
       "      <th>1053_at</th>\n",
       "      <th>117_at</th>\n",
       "      <th>121_at</th>\n",
       "      <th>1255_g_at</th>\n",
       "      <th>1294_at</th>\n",
       "      <th>1316_at</th>\n",
       "      <th>1320_at</th>\n",
       "      <th>1405_i_at</th>\n",
       "      <th>...</th>\n",
       "      <th>AFFX-r2-Hs28SrRNA-5_at</th>\n",
       "      <th>AFFX-r2-Hs28SrRNA-M_at</th>\n",
       "      <th>AFFX-r2-P1-cre-3_at</th>\n",
       "      <th>AFFX-r2-P1-cre-5_at</th>\n",
       "      <th>AFFX-ThrX-3_at</th>\n",
       "      <th>AFFX-ThrX-5_at</th>\n",
       "      <th>AFFX-ThrX-M_at</th>\n",
       "      <th>AFFX-TrpnX-3_at</th>\n",
       "      <th>AFFX-TrpnX-5_at</th>\n",
       "      <th>AFFX-TrpnX-M_at</th>\n",
       "    </tr>\n",
       "  </thead>\n",
       "  <tbody>\n",
       "    <tr>\n",
       "      <th>GSM505327</th>\n",
       "      <td>0</td>\n",
       "      <td>12.444</td>\n",
       "      <td>8.3774</td>\n",
       "      <td>6.7866</td>\n",
       "      <td>10.2851</td>\n",
       "      <td>5.9064</td>\n",
       "      <td>8.3767</td>\n",
       "      <td>8.0356</td>\n",
       "      <td>6.6745</td>\n",
       "      <td>6.2325</td>\n",
       "      <td>...</td>\n",
       "      <td>7.4678</td>\n",
       "      <td>9.3738</td>\n",
       "      <td>15.6236</td>\n",
       "      <td>15.2785</td>\n",
       "      <td>3.2915</td>\n",
       "      <td>3.6526</td>\n",
       "      <td>2.6412</td>\n",
       "      <td>1.2652</td>\n",
       "      <td>3.069</td>\n",
       "      <td>2.0271</td>\n",
       "    </tr>\n",
       "    <tr>\n",
       "      <th>GSM505328</th>\n",
       "      <td>0</td>\n",
       "      <td>12.2005</td>\n",
       "      <td>7.8592</td>\n",
       "      <td>8.0963</td>\n",
       "      <td>10.4624</td>\n",
       "      <td>4.9582</td>\n",
       "      <td>9.2973</td>\n",
       "      <td>7.0581</td>\n",
       "      <td>6.4607</td>\n",
       "      <td>6.9047</td>\n",
       "      <td>...</td>\n",
       "      <td>9.6656</td>\n",
       "      <td>8.85</td>\n",
       "      <td>15.3234</td>\n",
       "      <td>15.1286</td>\n",
       "      <td>3.3811</td>\n",
       "      <td>2.588</td>\n",
       "      <td>4.4798</td>\n",
       "      <td>4.8098</td>\n",
       "      <td>3.1637</td>\n",
       "      <td>2.4758</td>\n",
       "    </tr>\n",
       "    <tr>\n",
       "      <th>GSM505329</th>\n",
       "      <td>0</td>\n",
       "      <td>12.6709</td>\n",
       "      <td>8.6762</td>\n",
       "      <td>7.4812</td>\n",
       "      <td>10.1887</td>\n",
       "      <td>5.2332</td>\n",
       "      <td>9.1721</td>\n",
       "      <td>8.6061</td>\n",
       "      <td>7.0932</td>\n",
       "      <td>6.594</td>\n",
       "      <td>...</td>\n",
       "      <td>7.6012</td>\n",
       "      <td>8.2567</td>\n",
       "      <td>15.4604</td>\n",
       "      <td>15.2674</td>\n",
       "      <td>3.1665</td>\n",
       "      <td>3.9743</td>\n",
       "      <td>5.2597</td>\n",
       "      <td>4.3815</td>\n",
       "      <td>2.8034</td>\n",
       "      <td>2.4669</td>\n",
       "    </tr>\n",
       "    <tr>\n",
       "      <th>GSM505330</th>\n",
       "      <td>0</td>\n",
       "      <td>11.6619</td>\n",
       "      <td>8.2557</td>\n",
       "      <td>7.9923</td>\n",
       "      <td>10.7705</td>\n",
       "      <td>6.3296</td>\n",
       "      <td>9.3777</td>\n",
       "      <td>8.4776</td>\n",
       "      <td>6.5878</td>\n",
       "      <td>6.0877</td>\n",
       "      <td>...</td>\n",
       "      <td>7.6331</td>\n",
       "      <td>9.0089</td>\n",
       "      <td>15.5185</td>\n",
       "      <td>15.1655</td>\n",
       "      <td>4.0045</td>\n",
       "      <td>3.8503</td>\n",
       "      <td>5.9114</td>\n",
       "      <td>0.7882</td>\n",
       "      <td>3.1831</td>\n",
       "      <td>3.482</td>\n",
       "    </tr>\n",
       "    <tr>\n",
       "      <th>GSM505331</th>\n",
       "      <td>0</td>\n",
       "      <td>11.8397</td>\n",
       "      <td>8.7971</td>\n",
       "      <td>7.8321</td>\n",
       "      <td>10.2869</td>\n",
       "      <td>5.8389</td>\n",
       "      <td>7.0841</td>\n",
       "      <td>7.3419</td>\n",
       "      <td>7.3167</td>\n",
       "      <td>6.3456</td>\n",
       "      <td>...</td>\n",
       "      <td>8.0249</td>\n",
       "      <td>9.2004</td>\n",
       "      <td>15.3143</td>\n",
       "      <td>14.9506</td>\n",
       "      <td>3.0514</td>\n",
       "      <td>3.2946</td>\n",
       "      <td>5.1537</td>\n",
       "      <td>3.9179</td>\n",
       "      <td>3.1881</td>\n",
       "      <td>2.9769</td>\n",
       "    </tr>\n",
       "    <tr>\n",
       "      <th>...</th>\n",
       "      <td>...</td>\n",
       "      <td>...</td>\n",
       "      <td>...</td>\n",
       "      <td>...</td>\n",
       "      <td>...</td>\n",
       "      <td>...</td>\n",
       "      <td>...</td>\n",
       "      <td>...</td>\n",
       "      <td>...</td>\n",
       "      <td>...</td>\n",
       "      <td>...</td>\n",
       "      <td>...</td>\n",
       "      <td>...</td>\n",
       "      <td>...</td>\n",
       "      <td>...</td>\n",
       "      <td>...</td>\n",
       "      <td>...</td>\n",
       "      <td>...</td>\n",
       "      <td>...</td>\n",
       "      <td>...</td>\n",
       "      <td>...</td>\n",
       "    </tr>\n",
       "    <tr>\n",
       "      <th>GSM505601</th>\n",
       "      <td>0</td>\n",
       "      <td>11.8023</td>\n",
       "      <td>7.8182</td>\n",
       "      <td>8.0532</td>\n",
       "      <td>11.2096</td>\n",
       "      <td>6.7603</td>\n",
       "      <td>10.0453</td>\n",
       "      <td>8.3714</td>\n",
       "      <td>4.8747</td>\n",
       "      <td>10.312</td>\n",
       "      <td>...</td>\n",
       "      <td>9.5479</td>\n",
       "      <td>10.9442</td>\n",
       "      <td>16.0837</td>\n",
       "      <td>15.6543</td>\n",
       "      <td>5.2</td>\n",
       "      <td>4.1865</td>\n",
       "      <td>4.533</td>\n",
       "      <td>3.1679</td>\n",
       "      <td>5.9392</td>\n",
       "      <td>3.5784</td>\n",
       "    </tr>\n",
       "    <tr>\n",
       "      <th>GSM505602</th>\n",
       "      <td>0</td>\n",
       "      <td>11.4574</td>\n",
       "      <td>8.0488</td>\n",
       "      <td>8.2875</td>\n",
       "      <td>11.0754</td>\n",
       "      <td>6.8105</td>\n",
       "      <td>9.0332</td>\n",
       "      <td>8.4071</td>\n",
       "      <td>5.3538</td>\n",
       "      <td>11.2255</td>\n",
       "      <td>...</td>\n",
       "      <td>9.6936</td>\n",
       "      <td>10.9484</td>\n",
       "      <td>16.1763</td>\n",
       "      <td>15.8729</td>\n",
       "      <td>4.303</td>\n",
       "      <td>4.0989</td>\n",
       "      <td>3.8379</td>\n",
       "      <td>5.6705</td>\n",
       "      <td>5.8172</td>\n",
       "      <td>2.1837</td>\n",
       "    </tr>\n",
       "    <tr>\n",
       "      <th>GSM505603</th>\n",
       "      <td>0</td>\n",
       "      <td>11.9181</td>\n",
       "      <td>7.389</td>\n",
       "      <td>8.2965</td>\n",
       "      <td>10.8386</td>\n",
       "      <td>6.735</td>\n",
       "      <td>8.939</td>\n",
       "      <td>8.2275</td>\n",
       "      <td>5.9537</td>\n",
       "      <td>11.9945</td>\n",
       "      <td>...</td>\n",
       "      <td>7.7356</td>\n",
       "      <td>9.9604</td>\n",
       "      <td>15.6575</td>\n",
       "      <td>15.3779</td>\n",
       "      <td>5.2125</td>\n",
       "      <td>3.8788</td>\n",
       "      <td>4.0721</td>\n",
       "      <td>4.4384</td>\n",
       "      <td>2.3209</td>\n",
       "      <td>2.6036</td>\n",
       "    </tr>\n",
       "    <tr>\n",
       "      <th>GSM505604</th>\n",
       "      <td>0</td>\n",
       "      <td>11.7012</td>\n",
       "      <td>7.7375</td>\n",
       "      <td>8.5987</td>\n",
       "      <td>11.3588</td>\n",
       "      <td>7.5786</td>\n",
       "      <td>9.5624</td>\n",
       "      <td>8.5748</td>\n",
       "      <td>8.1305</td>\n",
       "      <td>6.7621</td>\n",
       "      <td>...</td>\n",
       "      <td>8.8167</td>\n",
       "      <td>10.812</td>\n",
       "      <td>16.4401</td>\n",
       "      <td>15.9739</td>\n",
       "      <td>5.379</td>\n",
       "      <td>4.3518</td>\n",
       "      <td>4.825</td>\n",
       "      <td>2.7099</td>\n",
       "      <td>4.8099</td>\n",
       "      <td>3.534</td>\n",
       "    </tr>\n",
       "    <tr>\n",
       "      <th>GSM505605</th>\n",
       "      <td>0</td>\n",
       "      <td>11.9795</td>\n",
       "      <td>7.9905</td>\n",
       "      <td>7.4312</td>\n",
       "      <td>10.9263</td>\n",
       "      <td>7.2528</td>\n",
       "      <td>9.4436</td>\n",
       "      <td>8.1317</td>\n",
       "      <td>5.569</td>\n",
       "      <td>8.896</td>\n",
       "      <td>...</td>\n",
       "      <td>7.871</td>\n",
       "      <td>9.9506</td>\n",
       "      <td>16.1927</td>\n",
       "      <td>15.7175</td>\n",
       "      <td>4.6228</td>\n",
       "      <td>4.1352</td>\n",
       "      <td>6.007</td>\n",
       "      <td>5.3533</td>\n",
       "      <td>4.9789</td>\n",
       "      <td>3.8268</td>\n",
       "    </tr>\n",
       "  </tbody>\n",
       "</table>\n",
       "<p>268 rows × 22284 columns</p>\n",
       "</div>"
      ],
      "text/plain": [
       "Sample_geo_accession  treatment_response 1007_s_at 1053_at  117_at   121_at  \\\n",
       "GSM505327                              0    12.444  8.3774  6.7866  10.2851   \n",
       "GSM505328                              0   12.2005  7.8592  8.0963  10.4624   \n",
       "GSM505329                              0   12.6709  8.6762  7.4812  10.1887   \n",
       "GSM505330                              0   11.6619  8.2557  7.9923  10.7705   \n",
       "GSM505331                              0   11.8397  8.7971  7.8321  10.2869   \n",
       "...                                  ...       ...     ...     ...      ...   \n",
       "GSM505601                              0   11.8023  7.8182  8.0532  11.2096   \n",
       "GSM505602                              0   11.4574  8.0488  8.2875  11.0754   \n",
       "GSM505603                              0   11.9181   7.389  8.2965  10.8386   \n",
       "GSM505604                              0   11.7012  7.7375  8.5987  11.3588   \n",
       "GSM505605                              0   11.9795  7.9905  7.4312  10.9263   \n",
       "\n",
       "Sample_geo_accession 1255_g_at  1294_at 1316_at 1320_at 1405_i_at  ...  \\\n",
       "GSM505327               5.9064   8.3767  8.0356  6.6745    6.2325  ...   \n",
       "GSM505328               4.9582   9.2973  7.0581  6.4607    6.9047  ...   \n",
       "GSM505329               5.2332   9.1721  8.6061  7.0932     6.594  ...   \n",
       "GSM505330               6.3296   9.3777  8.4776  6.5878    6.0877  ...   \n",
       "GSM505331               5.8389   7.0841  7.3419  7.3167    6.3456  ...   \n",
       "...                        ...      ...     ...     ...       ...  ...   \n",
       "GSM505601               6.7603  10.0453  8.3714  4.8747    10.312  ...   \n",
       "GSM505602               6.8105   9.0332  8.4071  5.3538   11.2255  ...   \n",
       "GSM505603                6.735    8.939  8.2275  5.9537   11.9945  ...   \n",
       "GSM505604               7.5786   9.5624  8.5748  8.1305    6.7621  ...   \n",
       "GSM505605               7.2528   9.4436  8.1317   5.569     8.896  ...   \n",
       "\n",
       "Sample_geo_accession AFFX-r2-Hs28SrRNA-5_at AFFX-r2-Hs28SrRNA-M_at  \\\n",
       "GSM505327                            7.4678                 9.3738   \n",
       "GSM505328                            9.6656                   8.85   \n",
       "GSM505329                            7.6012                 8.2567   \n",
       "GSM505330                            7.6331                 9.0089   \n",
       "GSM505331                            8.0249                 9.2004   \n",
       "...                                     ...                    ...   \n",
       "GSM505601                            9.5479                10.9442   \n",
       "GSM505602                            9.6936                10.9484   \n",
       "GSM505603                            7.7356                 9.9604   \n",
       "GSM505604                            8.8167                 10.812   \n",
       "GSM505605                             7.871                 9.9506   \n",
       "\n",
       "Sample_geo_accession AFFX-r2-P1-cre-3_at AFFX-r2-P1-cre-5_at AFFX-ThrX-3_at  \\\n",
       "GSM505327                        15.6236             15.2785         3.2915   \n",
       "GSM505328                        15.3234             15.1286         3.3811   \n",
       "GSM505329                        15.4604             15.2674         3.1665   \n",
       "GSM505330                        15.5185             15.1655         4.0045   \n",
       "GSM505331                        15.3143             14.9506         3.0514   \n",
       "...                                  ...                 ...            ...   \n",
       "GSM505601                        16.0837             15.6543            5.2   \n",
       "GSM505602                        16.1763             15.8729          4.303   \n",
       "GSM505603                        15.6575             15.3779         5.2125   \n",
       "GSM505604                        16.4401             15.9739          5.379   \n",
       "GSM505605                        16.1927             15.7175         4.6228   \n",
       "\n",
       "Sample_geo_accession AFFX-ThrX-5_at AFFX-ThrX-M_at AFFX-TrpnX-3_at  \\\n",
       "GSM505327                    3.6526         2.6412          1.2652   \n",
       "GSM505328                     2.588         4.4798          4.8098   \n",
       "GSM505329                    3.9743         5.2597          4.3815   \n",
       "GSM505330                    3.8503         5.9114          0.7882   \n",
       "GSM505331                    3.2946         5.1537          3.9179   \n",
       "...                             ...            ...             ...   \n",
       "GSM505601                    4.1865          4.533          3.1679   \n",
       "GSM505602                    4.0989         3.8379          5.6705   \n",
       "GSM505603                    3.8788         4.0721          4.4384   \n",
       "GSM505604                    4.3518          4.825          2.7099   \n",
       "GSM505605                    4.1352          6.007          5.3533   \n",
       "\n",
       "Sample_geo_accession AFFX-TrpnX-5_at AFFX-TrpnX-M_at  \n",
       "GSM505327                      3.069          2.0271  \n",
       "GSM505328                     3.1637          2.4758  \n",
       "GSM505329                     2.8034          2.4669  \n",
       "GSM505330                     3.1831           3.482  \n",
       "GSM505331                     3.1881          2.9769  \n",
       "...                              ...             ...  \n",
       "GSM505601                     5.9392          3.5784  \n",
       "GSM505602                     5.8172          2.1837  \n",
       "GSM505603                     2.3209          2.6036  \n",
       "GSM505604                     4.8099           3.534  \n",
       "GSM505605                     4.9789          3.8268  \n",
       "\n",
       "[268 rows x 22284 columns]"
      ]
     },
     "execution_count": 248,
     "metadata": {},
     "output_type": "execute_result"
    }
   ],
   "source": [
    "cs_imputed"
   ]
  },
  {
   "cell_type": "code",
   "execution_count": null,
   "metadata": {},
   "outputs": [],
   "source": []
  }
 ],
 "metadata": {
  "kernelspec": {
   "display_name": "Python 3",
   "language": "python",
   "name": "python3"
  },
  "language_info": {
   "codemirror_mode": {
    "name": "ipython",
    "version": 3
   },
   "file_extension": ".py",
   "mimetype": "text/x-python",
   "name": "python",
   "nbconvert_exporter": "python",
   "pygments_lexer": "ipython3",
   "version": "3.7.9"
  }
 },
 "nbformat": 4,
 "nbformat_minor": 4
}
