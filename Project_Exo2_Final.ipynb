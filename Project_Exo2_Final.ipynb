{
 "cells": [
  {
   "cell_type": "markdown",
   "metadata": {},
   "source": [
    "# Exo 2 - Avec TOUTES les variables - BreastCancer"
   ]
  },
  {
   "cell_type": "markdown",
   "metadata": {},
   "source": [
    "### Elvina Eury"
   ]
  },
  {
   "cell_type": "code",
   "execution_count": 3,
   "metadata": {},
   "outputs": [],
   "source": [
    "import pandas as pd\n",
    "import numpy as np\n",
    "import seaborn as sns\n",
    "import matplotlib.pyplot as plt\n",
    "from sklearn.model_selection import KFold\n",
    "from sklearn.preprocessing import OneHotEncoder\n",
    "from sklearn.preprocessing import LabelEncoder\n",
    "import category_encoders as ce\n",
    "from sklearn.compose import make_column_transformer\n",
    "from sklearn.preprocessing import StandardScaler\n",
    "from sklearn.multiclass import OneVsRestClassifier\n",
    "from sklearn.svm import SVC\n",
    "from sklearn.model_selection import GridSearchCV\n",
    "from sklearn.multiclass import OneVsRestClassifier\n",
    "from sklearn.metrics import classification_report\n",
    "from sklearn.metrics import accuracy_score\n",
    "from sklearn.metrics import confusion_matrix\n",
    "from sklearn.metrics import f1_score\n",
    "from sklearn.decomposition import PCA\n",
    "from sklearn.model_selection import RandomizedSearchCV, train_test_split \n",
    "from sklearn.model_selection import cross_val_score\n",
    "from sklearn.linear_model import LogisticRegression\n",
    "from sklearn.linear_model import LassoLarsCV\n",
    "from sklearn.ensemble import RandomForestClassifier\n",
    "from xgboost import XGBClassifier\n",
    "from sklearn.metrics import plot_roc_curve\n",
    "import itertools\n",
    "from pandas_profiling import ProfileReport\n",
    "#import pandas_profiling\n",
    "from sklearn.model_selection import RandomizedSearchCV\n",
    "from sklearn.model_selection import GridSearchCV\n",
    "from pprint import pprint\n",
    "from sklearn.pipeline import Pipeline\n",
    "from sklearn import linear_model\n",
    "from sklearn.feature_selection import SelectFromModel\n",
    "from sklearn.metrics import classification_report\n",
    "\n",
    "\n",
    "plt.style.use('bmh')\n",
    "from scipy.stats import iqr\n",
    "import warnings\n",
    "warnings.filterwarnings('ignore')"
   ]
  },
  {
   "cell_type": "code",
   "execution_count": 4,
   "metadata": {},
   "outputs": [],
   "source": [
    "cs=pd.read_csv('~/Projet_ML/BreastCancers.csv').T\n"
   ]
  },
  {
   "cell_type": "markdown",
   "metadata": {},
   "source": [
    "## Data Pre Processing"
   ]
  },
  {
   "cell_type": "code",
   "execution_count": 5,
   "metadata": {},
   "outputs": [
    {
     "data": {
      "text/html": [
       "<div>\n",
       "<style scoped>\n",
       "    .dataframe tbody tr th:only-of-type {\n",
       "        vertical-align: middle;\n",
       "    }\n",
       "\n",
       "    .dataframe tbody tr th {\n",
       "        vertical-align: top;\n",
       "    }\n",
       "\n",
       "    .dataframe thead th {\n",
       "        text-align: right;\n",
       "    }\n",
       "</style>\n",
       "<table border=\"1\" class=\"dataframe\">\n",
       "  <thead>\n",
       "    <tr style=\"text-align: right;\">\n",
       "      <th>Sample_geo_accession</th>\n",
       "      <th>Sample_title</th>\n",
       "      <th>tissue</th>\n",
       "      <th>age</th>\n",
       "      <th>ethnicity</th>\n",
       "      <th>treatment_response</th>\n",
       "      <th>T (tumor)</th>\n",
       "      <th>N (Node)</th>\n",
       "      <th>bmn_grade</th>\n",
       "      <th>PR_status:</th>\n",
       "      <th>ER_status:</th>\n",
       "      <th>...</th>\n",
       "      <th>AFFX-r2-Hs28SrRNA-5_at</th>\n",
       "      <th>AFFX-r2-Hs28SrRNA-M_at</th>\n",
       "      <th>AFFX-r2-P1-cre-3_at</th>\n",
       "      <th>AFFX-r2-P1-cre-5_at</th>\n",
       "      <th>AFFX-ThrX-3_at</th>\n",
       "      <th>AFFX-ThrX-5_at</th>\n",
       "      <th>AFFX-ThrX-M_at</th>\n",
       "      <th>AFFX-TrpnX-3_at</th>\n",
       "      <th>AFFX-TrpnX-5_at</th>\n",
       "      <th>AFFX-TrpnX-M_at</th>\n",
       "    </tr>\n",
       "  </thead>\n",
       "  <tbody>\n",
       "    <tr>\n",
       "      <th>GSM505327</th>\n",
       "      <td>BR_FNA_M157</td>\n",
       "      <td>breast cancer cells</td>\n",
       "      <td>57</td>\n",
       "      <td>white</td>\n",
       "      <td>RD</td>\n",
       "      <td>2</td>\n",
       "      <td>0</td>\n",
       "      <td>2</td>\n",
       "      <td>P</td>\n",
       "      <td>P</td>\n",
       "      <td>...</td>\n",
       "      <td>7.4678</td>\n",
       "      <td>9.3738</td>\n",
       "      <td>15.6236</td>\n",
       "      <td>15.2785</td>\n",
       "      <td>3.2915</td>\n",
       "      <td>3.6526</td>\n",
       "      <td>2.6412</td>\n",
       "      <td>1.2652</td>\n",
       "      <td>3.069</td>\n",
       "      <td>2.0271</td>\n",
       "    </tr>\n",
       "    <tr>\n",
       "      <th>GSM505328</th>\n",
       "      <td>BR_FNA_M196</td>\n",
       "      <td>breast cancer cells</td>\n",
       "      <td>69</td>\n",
       "      <td>asian</td>\n",
       "      <td>RD</td>\n",
       "      <td>2</td>\n",
       "      <td>1</td>\n",
       "      <td>2</td>\n",
       "      <td>P</td>\n",
       "      <td>P</td>\n",
       "      <td>...</td>\n",
       "      <td>9.6656</td>\n",
       "      <td>8.85</td>\n",
       "      <td>15.3234</td>\n",
       "      <td>15.1286</td>\n",
       "      <td>3.3811</td>\n",
       "      <td>2.588</td>\n",
       "      <td>4.4798</td>\n",
       "      <td>4.8098</td>\n",
       "      <td>3.1637</td>\n",
       "      <td>2.4758</td>\n",
       "    </tr>\n",
       "    <tr>\n",
       "      <th>GSM505329</th>\n",
       "      <td>BR_FNA_M176</td>\n",
       "      <td>breast cancer cells</td>\n",
       "      <td>77</td>\n",
       "      <td>mixed</td>\n",
       "      <td>RD</td>\n",
       "      <td>4</td>\n",
       "      <td>1</td>\n",
       "      <td>2</td>\n",
       "      <td>N</td>\n",
       "      <td>P</td>\n",
       "      <td>...</td>\n",
       "      <td>7.6012</td>\n",
       "      <td>8.2567</td>\n",
       "      <td>15.4604</td>\n",
       "      <td>15.2674</td>\n",
       "      <td>3.1665</td>\n",
       "      <td>3.9743</td>\n",
       "      <td>5.2597</td>\n",
       "      <td>4.3815</td>\n",
       "      <td>2.8034</td>\n",
       "      <td>2.4669</td>\n",
       "    </tr>\n",
       "    <tr>\n",
       "      <th>GSM505330</th>\n",
       "      <td>BR_FNA_M214</td>\n",
       "      <td>breast cancer cells</td>\n",
       "      <td>54</td>\n",
       "      <td>white</td>\n",
       "      <td>RD</td>\n",
       "      <td>2</td>\n",
       "      <td>1</td>\n",
       "      <td>2</td>\n",
       "      <td>N</td>\n",
       "      <td>P</td>\n",
       "      <td>...</td>\n",
       "      <td>7.6331</td>\n",
       "      <td>9.0089</td>\n",
       "      <td>15.5185</td>\n",
       "      <td>15.1655</td>\n",
       "      <td>4.0045</td>\n",
       "      <td>3.8503</td>\n",
       "      <td>5.9114</td>\n",
       "      <td>0.7882</td>\n",
       "      <td>3.1831</td>\n",
       "      <td>3.482</td>\n",
       "    </tr>\n",
       "    <tr>\n",
       "      <th>GSM505331</th>\n",
       "      <td>BR_FNA_M113</td>\n",
       "      <td>breast cancer cells</td>\n",
       "      <td>75</td>\n",
       "      <td>black</td>\n",
       "      <td>RD</td>\n",
       "      <td>2</td>\n",
       "      <td>0</td>\n",
       "      <td>3</td>\n",
       "      <td>N</td>\n",
       "      <td>N</td>\n",
       "      <td>...</td>\n",
       "      <td>8.0249</td>\n",
       "      <td>9.2004</td>\n",
       "      <td>15.3143</td>\n",
       "      <td>14.9506</td>\n",
       "      <td>3.0514</td>\n",
       "      <td>3.2946</td>\n",
       "      <td>5.1537</td>\n",
       "      <td>3.9179</td>\n",
       "      <td>3.1881</td>\n",
       "      <td>2.9769</td>\n",
       "    </tr>\n",
       "  </tbody>\n",
       "</table>\n",
       "<p>5 rows × 22298 columns</p>\n",
       "</div>"
      ],
      "text/plain": [
       "Sample_geo_accession Sample_title               tissue age ethnicity  \\\n",
       "GSM505327             BR_FNA_M157  breast cancer cells  57     white   \n",
       "GSM505328             BR_FNA_M196  breast cancer cells  69     asian   \n",
       "GSM505329             BR_FNA_M176  breast cancer cells  77     mixed   \n",
       "GSM505330             BR_FNA_M214  breast cancer cells  54     white   \n",
       "GSM505331             BR_FNA_M113  breast cancer cells  75     black   \n",
       "\n",
       "Sample_geo_accession treatment_response T (tumor) N (Node) bmn_grade  \\\n",
       "GSM505327                            RD         2        0         2   \n",
       "GSM505328                            RD         2        1         2   \n",
       "GSM505329                            RD         4        1         2   \n",
       "GSM505330                            RD         2        1         2   \n",
       "GSM505331                            RD         2        0         3   \n",
       "\n",
       "Sample_geo_accession PR_status:  ER_status:   ... AFFX-r2-Hs28SrRNA-5_at  \\\n",
       "GSM505327                      P           P  ...                 7.4678   \n",
       "GSM505328                      P           P  ...                 9.6656   \n",
       "GSM505329                      N           P  ...                 7.6012   \n",
       "GSM505330                      N           P  ...                 7.6331   \n",
       "GSM505331                      N           N  ...                 8.0249   \n",
       "\n",
       "Sample_geo_accession AFFX-r2-Hs28SrRNA-M_at AFFX-r2-P1-cre-3_at  \\\n",
       "GSM505327                            9.3738             15.6236   \n",
       "GSM505328                              8.85             15.3234   \n",
       "GSM505329                            8.2567             15.4604   \n",
       "GSM505330                            9.0089             15.5185   \n",
       "GSM505331                            9.2004             15.3143   \n",
       "\n",
       "Sample_geo_accession AFFX-r2-P1-cre-5_at AFFX-ThrX-3_at AFFX-ThrX-5_at  \\\n",
       "GSM505327                        15.2785         3.2915         3.6526   \n",
       "GSM505328                        15.1286         3.3811          2.588   \n",
       "GSM505329                        15.2674         3.1665         3.9743   \n",
       "GSM505330                        15.1655         4.0045         3.8503   \n",
       "GSM505331                        14.9506         3.0514         3.2946   \n",
       "\n",
       "Sample_geo_accession AFFX-ThrX-M_at AFFX-TrpnX-3_at AFFX-TrpnX-5_at  \\\n",
       "GSM505327                    2.6412          1.2652           3.069   \n",
       "GSM505328                    4.4798          4.8098          3.1637   \n",
       "GSM505329                    5.2597          4.3815          2.8034   \n",
       "GSM505330                    5.9114          0.7882          3.1831   \n",
       "GSM505331                    5.1537          3.9179          3.1881   \n",
       "\n",
       "Sample_geo_accession AFFX-TrpnX-M_at  \n",
       "GSM505327                     2.0271  \n",
       "GSM505328                     2.4758  \n",
       "GSM505329                     2.4669  \n",
       "GSM505330                      3.482  \n",
       "GSM505331                     2.9769  \n",
       "\n",
       "[5 rows x 22298 columns]"
      ]
     },
     "execution_count": 5,
     "metadata": {},
     "output_type": "execute_result"
    }
   ],
   "source": [
    "new_header = cs.iloc[0]\n",
    "cs = cs[1:] # data sans header\n",
    "cs.columns = new_header\n",
    "cs.head(5)"
   ]
  },
  {
   "cell_type": "markdown",
   "metadata": {},
   "source": [
    "#### Il y a 279 observations et 22298 variables\n",
    "#### Nous sommes dans un cas où le nombre de variables > que le nombre d'observations"
   ]
  },
  {
   "cell_type": "markdown",
   "metadata": {},
   "source": [
    "### Analyse des données"
   ]
  },
  {
   "cell_type": "markdown",
   "metadata": {},
   "source": [
    "#### Analyse de la variable réponse"
   ]
  },
  {
   "cell_type": "markdown",
   "metadata": {},
   "source": [
    "La variable treatment_response est notre variable Y: Elle est de type binaire: RD ou pCR"
   ]
  },
  {
   "cell_type": "code",
   "execution_count": 6,
   "metadata": {},
   "outputs": [
    {
     "data": {
      "text/plain": [
       "{'RD', 'her2 status: N', 'pCR', 'pr_status: N', 'pr_status: P'}"
      ]
     },
     "execution_count": 6,
     "metadata": {},
     "output_type": "execute_result"
    }
   ],
   "source": [
    "set(cs['treatment_response'])"
   ]
  },
  {
   "cell_type": "markdown",
   "metadata": {},
   "source": [
    "La variable réponse a 5 catégories, dont 3 :\n",
    " - 'her2 status: N'\n",
    " - 'pr_status: N'\n",
    " - 'pr_status: P'\n",
    "    \n",
    "semblent être des erreurs. Je vais les enlever de la base de données.\n",
    "Enfin, la variable treatment response n'aura que les 2 modalités: pCR et RD."
   ]
  },
  {
   "cell_type": "code",
   "execution_count": 7,
   "metadata": {},
   "outputs": [],
   "source": [
    "cs=cs[(cs.treatment_response != 'her2 status: N') & (cs.treatment_response != 'pr_status: N')& (cs.treatment_response != 'pr_status: P')]"
   ]
  },
  {
   "cell_type": "code",
   "execution_count": 8,
   "metadata": {},
   "outputs": [
    {
     "data": {
      "text/plain": [
       "{'RD', 'pCR'}"
      ]
     },
     "execution_count": 8,
     "metadata": {},
     "output_type": "execute_result"
    }
   ],
   "source": [
    "set(cs['treatment_response'])"
   ]
  },
  {
   "cell_type": "markdown",
   "metadata": {},
   "source": [
    "La variable réponse, treatment_response a bien 2 modalités"
   ]
  },
  {
   "cell_type": "markdown",
   "metadata": {},
   "source": [
    "#### Analyse de quelques variables explicatives non génétique"
   ]
  },
  {
   "cell_type": "markdown",
   "metadata": {},
   "source": [
    "Répartition de des ethnicités"
   ]
  },
  {
   "cell_type": "code",
   "execution_count": 25,
   "metadata": {},
   "outputs": [
    {
     "data": {
      "text/plain": [
       "Text(0.5, 1.0, \"Répartition de l'éthinicité des individus de l'étude\")"
      ]
     },
     "execution_count": 25,
     "metadata": {},
     "output_type": "execute_result"
    },
    {
     "data": {
      "image/png": "[encoded data removed]",
      "text/plain": [
       "<Figure size 432x288 with 1 Axes>"
      ]
     },
     "metadata": {
      "needs_background": "light"
     },
     "output_type": "display_data"
    }
   ],
   "source": [
    "plt.hist(cs['ethnicity'],rwidth=2,alpha=0.3,color='blue',bins=20,edgecolor='red') \n",
    "\n",
    "#x and y-axis labels \n",
    "plt.xlabel('Ethnicity') \n",
    "plt.ylabel('Répartition') \n",
    "\n",
    "#plot title \n",
    "plt.title(\"Répartition de l'éthinicité des individus de l'étude\") "
   ]
  },
  {
   "cell_type": "markdown",
   "metadata": {},
   "source": [
    "### Analyse des valeurs manquantes"
   ]
  },
  {
   "cell_type": "code",
   "execution_count": 9,
   "metadata": {},
   "outputs": [
    {
     "data": {
      "text/html": [
       "<div>\n",
       "<style scoped>\n",
       "    .dataframe tbody tr th:only-of-type {\n",
       "        vertical-align: middle;\n",
       "    }\n",
       "\n",
       "    .dataframe tbody tr th {\n",
       "        vertical-align: top;\n",
       "    }\n",
       "\n",
       "    .dataframe thead th {\n",
       "        text-align: right;\n",
       "    }\n",
       "</style>\n",
       "<table border=\"1\" class=\"dataframe\">\n",
       "  <thead>\n",
       "    <tr style=\"text-align: right;\">\n",
       "      <th></th>\n",
       "      <th>total_missing</th>\n",
       "      <th>perc_missing</th>\n",
       "    </tr>\n",
       "    <tr>\n",
       "      <th>Sample_geo_accession</th>\n",
       "      <th></th>\n",
       "      <th></th>\n",
       "    </tr>\n",
       "  </thead>\n",
       "  <tbody>\n",
       "    <tr>\n",
       "      <th>Sample_title</th>\n",
       "      <td>0</td>\n",
       "      <td>0.0</td>\n",
       "    </tr>\n",
       "    <tr>\n",
       "      <th>tissue</th>\n",
       "      <td>0</td>\n",
       "      <td>0.0</td>\n",
       "    </tr>\n",
       "    <tr>\n",
       "      <th>age</th>\n",
       "      <td>0</td>\n",
       "      <td>0.0</td>\n",
       "    </tr>\n",
       "    <tr>\n",
       "      <th>ethnicity</th>\n",
       "      <td>0</td>\n",
       "      <td>0.0</td>\n",
       "    </tr>\n",
       "    <tr>\n",
       "      <th>treatment_response</th>\n",
       "      <td>0</td>\n",
       "      <td>0.0</td>\n",
       "    </tr>\n",
       "    <tr>\n",
       "      <th>...</th>\n",
       "      <td>...</td>\n",
       "      <td>...</td>\n",
       "    </tr>\n",
       "    <tr>\n",
       "      <th>AFFX-ThrX-5_at</th>\n",
       "      <td>0</td>\n",
       "      <td>0.0</td>\n",
       "    </tr>\n",
       "    <tr>\n",
       "      <th>AFFX-ThrX-M_at</th>\n",
       "      <td>0</td>\n",
       "      <td>0.0</td>\n",
       "    </tr>\n",
       "    <tr>\n",
       "      <th>AFFX-TrpnX-3_at</th>\n",
       "      <td>0</td>\n",
       "      <td>0.0</td>\n",
       "    </tr>\n",
       "    <tr>\n",
       "      <th>AFFX-TrpnX-5_at</th>\n",
       "      <td>0</td>\n",
       "      <td>0.0</td>\n",
       "    </tr>\n",
       "    <tr>\n",
       "      <th>AFFX-TrpnX-M_at</th>\n",
       "      <td>0</td>\n",
       "      <td>0.0</td>\n",
       "    </tr>\n",
       "  </tbody>\n",
       "</table>\n",
       "<p>22298 rows × 2 columns</p>\n",
       "</div>"
      ],
      "text/plain": [
       "                      total_missing  perc_missing\n",
       "Sample_geo_accession                             \n",
       "Sample_title                      0           0.0\n",
       "tissue                            0           0.0\n",
       "age                               0           0.0\n",
       "ethnicity                         0           0.0\n",
       "treatment_response                0           0.0\n",
       "...                             ...           ...\n",
       "AFFX-ThrX-5_at                    0           0.0\n",
       "AFFX-ThrX-M_at                    0           0.0\n",
       "AFFX-TrpnX-3_at                   0           0.0\n",
       "AFFX-TrpnX-5_at                   0           0.0\n",
       "AFFX-TrpnX-M_at                   0           0.0\n",
       "\n",
       "[22298 rows x 2 columns]"
      ]
     },
     "execution_count": 9,
     "metadata": {},
     "output_type": "execute_result"
    }
   ],
   "source": [
    "missing_data = pd.DataFrame({'total_missing': cs.isnull().sum(axis = 0), 'perc_missing': (cs.isnull().sum()/len(cs))*100})   \n",
    "\n",
    "missing_data"
   ]
  },
  {
   "cell_type": "code",
   "execution_count": 10,
   "metadata": {},
   "outputs": [
    {
     "data": {
      "text/html": [
       "<div>\n",
       "<style scoped>\n",
       "    .dataframe tbody tr th:only-of-type {\n",
       "        vertical-align: middle;\n",
       "    }\n",
       "\n",
       "    .dataframe tbody tr th {\n",
       "        vertical-align: top;\n",
       "    }\n",
       "\n",
       "    .dataframe thead th {\n",
       "        text-align: right;\n",
       "    }\n",
       "</style>\n",
       "<table border=\"1\" class=\"dataframe\">\n",
       "  <thead>\n",
       "    <tr style=\"text-align: right;\">\n",
       "      <th></th>\n",
       "      <th>total_missing</th>\n",
       "      <th>perc_missing</th>\n",
       "    </tr>\n",
       "    <tr>\n",
       "      <th>Sample_geo_accession</th>\n",
       "      <th></th>\n",
       "      <th></th>\n",
       "    </tr>\n",
       "  </thead>\n",
       "  <tbody>\n",
       "    <tr>\n",
       "      <th>treatment code</th>\n",
       "      <td>11</td>\n",
       "      <td>4.104478</td>\n",
       "    </tr>\n",
       "  </tbody>\n",
       "</table>\n",
       "</div>"
      ],
      "text/plain": [
       "                      total_missing  perc_missing\n",
       "Sample_geo_accession                             \n",
       "treatment code                   11      4.104478"
      ]
     },
     "execution_count": 10,
     "metadata": {},
     "output_type": "execute_result"
    }
   ],
   "source": [
    "columns_with_missing_values = missing_data.loc[missing_data['perc_missing']>0]\n",
    "columns_with_missing_values"
   ]
  },
  {
   "cell_type": "markdown",
   "metadata": {},
   "source": [
    "Les 10 observations manquantes dans la variable 11, her2_status, sont également manquantes dans la variable 12,histology. Cette dernière \n",
    "Comme nous n'avons pas beaucoup d'observations comparés aux variables nous n'allons pas enlever les observations de notre base de données.\n",
    "De plus, comme il y a beaucoup de valeurs manquantes surtout pour les variables 11 et 12, nous allons utiliser une technique d'imputation, soit nous allons assigner à chacune des valeurs manquantes, une valeur calculée.\n",
    "Il existe différentes techniques d'imputation ou d'assignation des valeurs manquantes. Voici les plus communes:\n",
    "- l'utilisation de la valeur moyenne d'une variable, aussi appelé 'mean imputation'.\n",
    "- l'utilisation de la valeur moyenne des k plus proches voisins associés à des données entrainés, aussi appelé knn imputation\n",
    "- l'utilisation de la fréquence, une technique généralement utilisée lorsque les variables sont qualitatives.\n",
    "\n",
    "Comme la variable 11, her2_status et la variable histology sont de type qualitatives, nous utiliserons la fréquence comme technique d'assignation. \n"
   ]
  },
  {
   "cell_type": "code",
   "execution_count": 11,
   "metadata": {},
   "outputs": [
    {
     "data": {
      "text/plain": [
       "['treatment code']"
      ]
     },
     "execution_count": 11,
     "metadata": {},
     "output_type": "execute_result"
    }
   ],
   "source": [
    "# Je crée une liste des variables ayant des données manquantes\n",
    "missing_variables=(columns_with_missing_values.index).tolist()\n",
    "missing_variables"
   ]
  },
  {
   "cell_type": "code",
   "execution_count": 12,
   "metadata": {},
   "outputs": [],
   "source": [
    "# Je remplace les valeurs manquantes par les valeurs les plus communes des variables.\n",
    "quali = cs.loc[:,missing_variables].apply(lambda x: x.fillna(x.value_counts().index[0]))\n",
    "# Je crée un dataframe SANS les variables de la liste missing_variables\n",
    "cs_without_quali = cs.drop(missing_variables, axis=1) # ok, il manque bien les 5 colonnes manquantes"
   ]
  },
  {
   "cell_type": "code",
   "execution_count": 13,
   "metadata": {},
   "outputs": [
    {
     "data": {
      "text/html": [
       "<div>\n",
       "<style scoped>\n",
       "    .dataframe tbody tr th:only-of-type {\n",
       "        vertical-align: middle;\n",
       "    }\n",
       "\n",
       "    .dataframe tbody tr th {\n",
       "        vertical-align: top;\n",
       "    }\n",
       "\n",
       "    .dataframe thead th {\n",
       "        text-align: right;\n",
       "    }\n",
       "</style>\n",
       "<table border=\"1\" class=\"dataframe\">\n",
       "  <thead>\n",
       "    <tr style=\"text-align: right;\">\n",
       "      <th>Sample_geo_accession</th>\n",
       "      <th>treatment code</th>\n",
       "      <th>Sample_title</th>\n",
       "      <th>tissue</th>\n",
       "      <th>age</th>\n",
       "      <th>ethnicity</th>\n",
       "      <th>treatment_response</th>\n",
       "      <th>T (tumor)</th>\n",
       "      <th>N (Node)</th>\n",
       "      <th>bmn_grade</th>\n",
       "      <th>PR_status:</th>\n",
       "      <th>...</th>\n",
       "      <th>AFFX-r2-Hs28SrRNA-5_at</th>\n",
       "      <th>AFFX-r2-Hs28SrRNA-M_at</th>\n",
       "      <th>AFFX-r2-P1-cre-3_at</th>\n",
       "      <th>AFFX-r2-P1-cre-5_at</th>\n",
       "      <th>AFFX-ThrX-3_at</th>\n",
       "      <th>AFFX-ThrX-5_at</th>\n",
       "      <th>AFFX-ThrX-M_at</th>\n",
       "      <th>AFFX-TrpnX-3_at</th>\n",
       "      <th>AFFX-TrpnX-5_at</th>\n",
       "      <th>AFFX-TrpnX-M_at</th>\n",
       "    </tr>\n",
       "  </thead>\n",
       "  <tbody>\n",
       "    <tr>\n",
       "      <th>GSM505327</th>\n",
       "      <td>TFAC</td>\n",
       "      <td>BR_FNA_M157</td>\n",
       "      <td>breast cancer cells</td>\n",
       "      <td>57</td>\n",
       "      <td>white</td>\n",
       "      <td>RD</td>\n",
       "      <td>2</td>\n",
       "      <td>0</td>\n",
       "      <td>2</td>\n",
       "      <td>P</td>\n",
       "      <td>...</td>\n",
       "      <td>7.4678</td>\n",
       "      <td>9.3738</td>\n",
       "      <td>15.6236</td>\n",
       "      <td>15.2785</td>\n",
       "      <td>3.2915</td>\n",
       "      <td>3.6526</td>\n",
       "      <td>2.6412</td>\n",
       "      <td>1.2652</td>\n",
       "      <td>3.069</td>\n",
       "      <td>2.0271</td>\n",
       "    </tr>\n",
       "    <tr>\n",
       "      <th>GSM505328</th>\n",
       "      <td>TFAC</td>\n",
       "      <td>BR_FNA_M196</td>\n",
       "      <td>breast cancer cells</td>\n",
       "      <td>69</td>\n",
       "      <td>asian</td>\n",
       "      <td>RD</td>\n",
       "      <td>2</td>\n",
       "      <td>1</td>\n",
       "      <td>2</td>\n",
       "      <td>P</td>\n",
       "      <td>...</td>\n",
       "      <td>9.6656</td>\n",
       "      <td>8.85</td>\n",
       "      <td>15.3234</td>\n",
       "      <td>15.1286</td>\n",
       "      <td>3.3811</td>\n",
       "      <td>2.588</td>\n",
       "      <td>4.4798</td>\n",
       "      <td>4.8098</td>\n",
       "      <td>3.1637</td>\n",
       "      <td>2.4758</td>\n",
       "    </tr>\n",
       "    <tr>\n",
       "      <th>GSM505329</th>\n",
       "      <td>TFAC</td>\n",
       "      <td>BR_FNA_M176</td>\n",
       "      <td>breast cancer cells</td>\n",
       "      <td>77</td>\n",
       "      <td>mixed</td>\n",
       "      <td>RD</td>\n",
       "      <td>4</td>\n",
       "      <td>1</td>\n",
       "      <td>2</td>\n",
       "      <td>N</td>\n",
       "      <td>...</td>\n",
       "      <td>7.6012</td>\n",
       "      <td>8.2567</td>\n",
       "      <td>15.4604</td>\n",
       "      <td>15.2674</td>\n",
       "      <td>3.1665</td>\n",
       "      <td>3.9743</td>\n",
       "      <td>5.2597</td>\n",
       "      <td>4.3815</td>\n",
       "      <td>2.8034</td>\n",
       "      <td>2.4669</td>\n",
       "    </tr>\n",
       "    <tr>\n",
       "      <th>GSM505330</th>\n",
       "      <td>TFAC</td>\n",
       "      <td>BR_FNA_M214</td>\n",
       "      <td>breast cancer cells</td>\n",
       "      <td>54</td>\n",
       "      <td>white</td>\n",
       "      <td>RD</td>\n",
       "      <td>2</td>\n",
       "      <td>1</td>\n",
       "      <td>2</td>\n",
       "      <td>N</td>\n",
       "      <td>...</td>\n",
       "      <td>7.6331</td>\n",
       "      <td>9.0089</td>\n",
       "      <td>15.5185</td>\n",
       "      <td>15.1655</td>\n",
       "      <td>4.0045</td>\n",
       "      <td>3.8503</td>\n",
       "      <td>5.9114</td>\n",
       "      <td>0.7882</td>\n",
       "      <td>3.1831</td>\n",
       "      <td>3.482</td>\n",
       "    </tr>\n",
       "    <tr>\n",
       "      <th>GSM505331</th>\n",
       "      <td>TFAC</td>\n",
       "      <td>BR_FNA_M113</td>\n",
       "      <td>breast cancer cells</td>\n",
       "      <td>75</td>\n",
       "      <td>black</td>\n",
       "      <td>RD</td>\n",
       "      <td>2</td>\n",
       "      <td>0</td>\n",
       "      <td>3</td>\n",
       "      <td>N</td>\n",
       "      <td>...</td>\n",
       "      <td>8.0249</td>\n",
       "      <td>9.2004</td>\n",
       "      <td>15.3143</td>\n",
       "      <td>14.9506</td>\n",
       "      <td>3.0514</td>\n",
       "      <td>3.2946</td>\n",
       "      <td>5.1537</td>\n",
       "      <td>3.9179</td>\n",
       "      <td>3.1881</td>\n",
       "      <td>2.9769</td>\n",
       "    </tr>\n",
       "  </tbody>\n",
       "</table>\n",
       "<p>5 rows × 22298 columns</p>\n",
       "</div>"
      ],
      "text/plain": [
       "Sample_geo_accession treatment code Sample_title               tissue age  \\\n",
       "GSM505327                      TFAC  BR_FNA_M157  breast cancer cells  57   \n",
       "GSM505328                      TFAC  BR_FNA_M196  breast cancer cells  69   \n",
       "GSM505329                      TFAC  BR_FNA_M176  breast cancer cells  77   \n",
       "GSM505330                      TFAC  BR_FNA_M214  breast cancer cells  54   \n",
       "GSM505331                      TFAC  BR_FNA_M113  breast cancer cells  75   \n",
       "\n",
       "Sample_geo_accession ethnicity treatment_response T (tumor) N (Node)  \\\n",
       "GSM505327                white                 RD         2        0   \n",
       "GSM505328                asian                 RD         2        1   \n",
       "GSM505329                mixed                 RD         4        1   \n",
       "GSM505330                white                 RD         2        1   \n",
       "GSM505331                black                 RD         2        0   \n",
       "\n",
       "Sample_geo_accession bmn_grade PR_status:   ... AFFX-r2-Hs28SrRNA-5_at  \\\n",
       "GSM505327                    2           P  ...                 7.4678   \n",
       "GSM505328                    2           P  ...                 9.6656   \n",
       "GSM505329                    2           N  ...                 7.6012   \n",
       "GSM505330                    2           N  ...                 7.6331   \n",
       "GSM505331                    3           N  ...                 8.0249   \n",
       "\n",
       "Sample_geo_accession AFFX-r2-Hs28SrRNA-M_at AFFX-r2-P1-cre-3_at  \\\n",
       "GSM505327                            9.3738             15.6236   \n",
       "GSM505328                              8.85             15.3234   \n",
       "GSM505329                            8.2567             15.4604   \n",
       "GSM505330                            9.0089             15.5185   \n",
       "GSM505331                            9.2004             15.3143   \n",
       "\n",
       "Sample_geo_accession AFFX-r2-P1-cre-5_at AFFX-ThrX-3_at AFFX-ThrX-5_at  \\\n",
       "GSM505327                        15.2785         3.2915         3.6526   \n",
       "GSM505328                        15.1286         3.3811          2.588   \n",
       "GSM505329                        15.2674         3.1665         3.9743   \n",
       "GSM505330                        15.1655         4.0045         3.8503   \n",
       "GSM505331                        14.9506         3.0514         3.2946   \n",
       "\n",
       "Sample_geo_accession AFFX-ThrX-M_at AFFX-TrpnX-3_at AFFX-TrpnX-5_at  \\\n",
       "GSM505327                    2.6412          1.2652           3.069   \n",
       "GSM505328                    4.4798          4.8098          3.1637   \n",
       "GSM505329                    5.2597          4.3815          2.8034   \n",
       "GSM505330                    5.9114          0.7882          3.1831   \n",
       "GSM505331                    5.1537          3.9179          3.1881   \n",
       "\n",
       "Sample_geo_accession AFFX-TrpnX-M_at  \n",
       "GSM505327                     2.0271  \n",
       "GSM505328                     2.4758  \n",
       "GSM505329                     2.4669  \n",
       "GSM505330                      3.482  \n",
       "GSM505331                     2.9769  \n",
       "\n",
       "[5 rows x 22298 columns]"
      ]
     },
     "execution_count": 13,
     "metadata": {},
     "output_type": "execute_result"
    }
   ],
   "source": [
    "# Je crée un nouveau dataframe joignant toutes les variables.\n",
    "cs_imputed=pd.concat([quali,cs_without_quali],axis=1)\n",
    "cs_imputed.head(5) # il y a bien toutes les colonnes et lignes (278 x 22298)"
   ]
  },
  {
   "cell_type": "markdown",
   "metadata": {},
   "source": [
    "#### Nous procédons maintenant au encoding\n",
    "\n",
    "Il existe plusieurs méthodes pour le faire:\n",
    "- Label Encoding: On choisi un nombre arbitraire pour chaque catégorie\n",
    "- OneHotEncoding: On crée une colonne binaire pour chaque catégorie (on peut utiliser la méthode pd.dummies pour nous aider à implémenter le OneHotEncoding).\n",
    "- Vecteur representation a.k.a word2vec où on trouve un sous espace de plus petite dimension qui 'fit' les données\n",
    "- Optimal binning où on utilise des méthodes de LightGBM ou CatBoost\n",
    "- Target encoding: On fait la moyenne de la variable réponse par catégorie.\n"
   ]
  },
  {
   "cell_type": "markdown",
   "metadata": {},
   "source": [
    "Je choisi d'utiliser LabelEncoding"
   ]
  },
  {
   "cell_type": "code",
   "execution_count": 578,
   "metadata": {},
   "outputs": [
    {
     "data": {
      "text/html": [
       "<div>\n",
       "<style scoped>\n",
       "    .dataframe tbody tr th:only-of-type {\n",
       "        vertical-align: middle;\n",
       "    }\n",
       "\n",
       "    .dataframe tbody tr th {\n",
       "        vertical-align: top;\n",
       "    }\n",
       "\n",
       "    .dataframe thead th {\n",
       "        text-align: right;\n",
       "    }\n",
       "</style>\n",
       "<table border=\"1\" class=\"dataframe\">\n",
       "  <thead>\n",
       "    <tr style=\"text-align: right;\">\n",
       "      <th>Sample_geo_accession</th>\n",
       "      <th>treatment code</th>\n",
       "      <th>Sample_title</th>\n",
       "      <th>tissue</th>\n",
       "      <th>age</th>\n",
       "      <th>ethnicity</th>\n",
       "      <th>treatment_response</th>\n",
       "      <th>T (tumor)</th>\n",
       "      <th>N (Node)</th>\n",
       "      <th>bmn_grade</th>\n",
       "      <th>PR_status:</th>\n",
       "      <th>...</th>\n",
       "      <th>AFFX-r2-Hs28SrRNA-5_at</th>\n",
       "      <th>AFFX-r2-Hs28SrRNA-M_at</th>\n",
       "      <th>AFFX-r2-P1-cre-3_at</th>\n",
       "      <th>AFFX-r2-P1-cre-5_at</th>\n",
       "      <th>AFFX-ThrX-3_at</th>\n",
       "      <th>AFFX-ThrX-5_at</th>\n",
       "      <th>AFFX-ThrX-M_at</th>\n",
       "      <th>AFFX-TrpnX-3_at</th>\n",
       "      <th>AFFX-TrpnX-5_at</th>\n",
       "      <th>AFFX-TrpnX-M_at</th>\n",
       "    </tr>\n",
       "  </thead>\n",
       "  <tbody>\n",
       "    <tr>\n",
       "      <th>GSM505327</th>\n",
       "      <td>TFAC</td>\n",
       "      <td>BR_FNA_M157</td>\n",
       "      <td>breast cancer cells</td>\n",
       "      <td>57</td>\n",
       "      <td>white</td>\n",
       "      <td>RD</td>\n",
       "      <td>2</td>\n",
       "      <td>0</td>\n",
       "      <td>2</td>\n",
       "      <td>P</td>\n",
       "      <td>...</td>\n",
       "      <td>7.4678</td>\n",
       "      <td>9.3738</td>\n",
       "      <td>15.6236</td>\n",
       "      <td>15.2785</td>\n",
       "      <td>3.2915</td>\n",
       "      <td>3.6526</td>\n",
       "      <td>2.6412</td>\n",
       "      <td>1.2652</td>\n",
       "      <td>3.069</td>\n",
       "      <td>2.0271</td>\n",
       "    </tr>\n",
       "    <tr>\n",
       "      <th>GSM505328</th>\n",
       "      <td>TFAC</td>\n",
       "      <td>BR_FNA_M196</td>\n",
       "      <td>breast cancer cells</td>\n",
       "      <td>69</td>\n",
       "      <td>asian</td>\n",
       "      <td>RD</td>\n",
       "      <td>2</td>\n",
       "      <td>1</td>\n",
       "      <td>2</td>\n",
       "      <td>P</td>\n",
       "      <td>...</td>\n",
       "      <td>9.6656</td>\n",
       "      <td>8.85</td>\n",
       "      <td>15.3234</td>\n",
       "      <td>15.1286</td>\n",
       "      <td>3.3811</td>\n",
       "      <td>2.588</td>\n",
       "      <td>4.4798</td>\n",
       "      <td>4.8098</td>\n",
       "      <td>3.1637</td>\n",
       "      <td>2.4758</td>\n",
       "    </tr>\n",
       "    <tr>\n",
       "      <th>GSM505329</th>\n",
       "      <td>TFAC</td>\n",
       "      <td>BR_FNA_M176</td>\n",
       "      <td>breast cancer cells</td>\n",
       "      <td>77</td>\n",
       "      <td>mixed</td>\n",
       "      <td>RD</td>\n",
       "      <td>4</td>\n",
       "      <td>1</td>\n",
       "      <td>2</td>\n",
       "      <td>N</td>\n",
       "      <td>...</td>\n",
       "      <td>7.6012</td>\n",
       "      <td>8.2567</td>\n",
       "      <td>15.4604</td>\n",
       "      <td>15.2674</td>\n",
       "      <td>3.1665</td>\n",
       "      <td>3.9743</td>\n",
       "      <td>5.2597</td>\n",
       "      <td>4.3815</td>\n",
       "      <td>2.8034</td>\n",
       "      <td>2.4669</td>\n",
       "    </tr>\n",
       "    <tr>\n",
       "      <th>GSM505330</th>\n",
       "      <td>TFAC</td>\n",
       "      <td>BR_FNA_M214</td>\n",
       "      <td>breast cancer cells</td>\n",
       "      <td>54</td>\n",
       "      <td>white</td>\n",
       "      <td>RD</td>\n",
       "      <td>2</td>\n",
       "      <td>1</td>\n",
       "      <td>2</td>\n",
       "      <td>N</td>\n",
       "      <td>...</td>\n",
       "      <td>7.6331</td>\n",
       "      <td>9.0089</td>\n",
       "      <td>15.5185</td>\n",
       "      <td>15.1655</td>\n",
       "      <td>4.0045</td>\n",
       "      <td>3.8503</td>\n",
       "      <td>5.9114</td>\n",
       "      <td>0.7882</td>\n",
       "      <td>3.1831</td>\n",
       "      <td>3.482</td>\n",
       "    </tr>\n",
       "    <tr>\n",
       "      <th>GSM505331</th>\n",
       "      <td>TFAC</td>\n",
       "      <td>BR_FNA_M113</td>\n",
       "      <td>breast cancer cells</td>\n",
       "      <td>75</td>\n",
       "      <td>black</td>\n",
       "      <td>RD</td>\n",
       "      <td>2</td>\n",
       "      <td>0</td>\n",
       "      <td>3</td>\n",
       "      <td>N</td>\n",
       "      <td>...</td>\n",
       "      <td>8.0249</td>\n",
       "      <td>9.2004</td>\n",
       "      <td>15.3143</td>\n",
       "      <td>14.9506</td>\n",
       "      <td>3.0514</td>\n",
       "      <td>3.2946</td>\n",
       "      <td>5.1537</td>\n",
       "      <td>3.9179</td>\n",
       "      <td>3.1881</td>\n",
       "      <td>2.9769</td>\n",
       "    </tr>\n",
       "  </tbody>\n",
       "</table>\n",
       "<p>5 rows × 22297 columns</p>\n",
       "</div>"
      ],
      "text/plain": [
       "Sample_geo_accession treatment code Sample_title               tissue age  \\\n",
       "GSM505327                      TFAC  BR_FNA_M157  breast cancer cells  57   \n",
       "GSM505328                      TFAC  BR_FNA_M196  breast cancer cells  69   \n",
       "GSM505329                      TFAC  BR_FNA_M176  breast cancer cells  77   \n",
       "GSM505330                      TFAC  BR_FNA_M214  breast cancer cells  54   \n",
       "GSM505331                      TFAC  BR_FNA_M113  breast cancer cells  75   \n",
       "\n",
       "Sample_geo_accession ethnicity treatment_response T (tumor) N (Node)  \\\n",
       "GSM505327                white                 RD         2        0   \n",
       "GSM505328                asian                 RD         2        1   \n",
       "GSM505329                mixed                 RD         4        1   \n",
       "GSM505330                white                 RD         2        1   \n",
       "GSM505331                black                 RD         2        0   \n",
       "\n",
       "Sample_geo_accession bmn_grade PR_status:   ... AFFX-r2-Hs28SrRNA-5_at  \\\n",
       "GSM505327                    2           P  ...                 7.4678   \n",
       "GSM505328                    2           P  ...                 9.6656   \n",
       "GSM505329                    2           N  ...                 7.6012   \n",
       "GSM505330                    2           N  ...                 7.6331   \n",
       "GSM505331                    3           N  ...                 8.0249   \n",
       "\n",
       "Sample_geo_accession AFFX-r2-Hs28SrRNA-M_at AFFX-r2-P1-cre-3_at  \\\n",
       "GSM505327                            9.3738             15.6236   \n",
       "GSM505328                              8.85             15.3234   \n",
       "GSM505329                            8.2567             15.4604   \n",
       "GSM505330                            9.0089             15.5185   \n",
       "GSM505331                            9.2004             15.3143   \n",
       "\n",
       "Sample_geo_accession AFFX-r2-P1-cre-5_at AFFX-ThrX-3_at AFFX-ThrX-5_at  \\\n",
       "GSM505327                        15.2785         3.2915         3.6526   \n",
       "GSM505328                        15.1286         3.3811          2.588   \n",
       "GSM505329                        15.2674         3.1665         3.9743   \n",
       "GSM505330                        15.1655         4.0045         3.8503   \n",
       "GSM505331                        14.9506         3.0514         3.2946   \n",
       "\n",
       "Sample_geo_accession AFFX-ThrX-M_at AFFX-TrpnX-3_at AFFX-TrpnX-5_at  \\\n",
       "GSM505327                    2.6412          1.2652           3.069   \n",
       "GSM505328                    4.4798          4.8098          3.1637   \n",
       "GSM505329                    5.2597          4.3815          2.8034   \n",
       "GSM505330                    5.9114          0.7882          3.1831   \n",
       "GSM505331                    5.1537          3.9179          3.1881   \n",
       "\n",
       "Sample_geo_accession AFFX-TrpnX-M_at  \n",
       "GSM505327                     2.0271  \n",
       "GSM505328                     2.4758  \n",
       "GSM505329                     2.4669  \n",
       "GSM505330                      3.482  \n",
       "GSM505331                     2.9769  \n",
       "\n",
       "[5 rows x 22297 columns]"
      ]
     },
     "execution_count": 578,
     "metadata": {},
     "output_type": "execute_result"
    }
   ],
   "source": [
    "# Je commence par enlever la colonne ID_Ref qui est une répétition de l'indice\n",
    "cs_imputed=cs_imputed.drop('ID_REF', 1)\n",
    "cs_imputed.head(5)"
   ]
  },
  {
   "cell_type": "code",
   "execution_count": 579,
   "metadata": {},
   "outputs": [
    {
     "data": {
      "text/plain": [
       "GSM505327    RD\n",
       "GSM505328    RD\n",
       "GSM505329    RD\n",
       "GSM505330    RD\n",
       "GSM505331    RD\n",
       "             ..\n",
       "GSM505601    RD\n",
       "GSM505602    RD\n",
       "GSM505603    RD\n",
       "GSM505604    RD\n",
       "GSM505605    RD\n",
       "Name: treatment_response, Length: 268, dtype: object"
      ]
     },
     "execution_count": 579,
     "metadata": {},
     "output_type": "execute_result"
    }
   ],
   "source": [
    "Y=cs_imputed['treatment_response']\n",
    "X=cs_imputed.drop('treatment_response',1)\n",
    "Y"
   ]
  },
  {
   "cell_type": "code",
   "execution_count": 580,
   "metadata": {},
   "outputs": [
    {
     "data": {
      "text/plain": [
       "['treatment code',\n",
       " 'Sample_title',\n",
       " 'tissue',\n",
       " 'age',\n",
       " 'ethnicity',\n",
       " 'treatment_response',\n",
       " 'T (tumor)',\n",
       " 'N (Node)',\n",
       " 'bmn_grade',\n",
       " 'PR_status: ',\n",
       " 'ER_status: ',\n",
       " 'her2_status',\n",
       " 'histology',\n",
       " 'MAQC_Distribution_Status']"
      ]
     },
     "execution_count": 580,
     "metadata": {},
     "output_type": "execute_result"
    }
   ],
   "source": [
    "# Listes des variables qualitatives et quantititaves\n",
    "categorical_columns = list(cs_imputed.columns[:14]) # colonnes catégorielles\n",
    "categorical_columns"
   ]
  },
  {
   "cell_type": "markdown",
   "metadata": {},
   "source": [
    "#### Nous standardisons les données quantitatives"
   ]
  },
  {
   "cell_type": "markdown",
   "metadata": {},
   "source": [
    "StandardScaler normalise les données (moyenne = 0, variance unitaire). Il marche moins bien lorsqu'il y a des valeurs abérantes.\n",
    "MinMaxScaler met les valeurs de chaque variable dans certains range: [0 ,1] ou [-1,1]. En gros, il recadrage les données.\n",
    "RobustScaler permet d'enlever les valeurs abérantes avant d'utiliser StandardScaler ou MinMaxScaler.\n",
    "\n"
   ]
  },
  {
   "cell_type": "markdown",
   "metadata": {},
   "source": [
    "Afin de choisir la bonne technique de normalisation, je commence par regarder s'il y a présence de valeurs abérrantes potentielles. J'utilise ici des intervalles de confiance. Les valeurs se retrouvant en dehors de l'intervalle de confiance sera considérée comme abérrante et possiblement enlever du jeu de données (cela dépendra à quel point elle est abérrante et s'il en y a beaucoup). Il est important de noter que l'objectif reste de minimiser les pertes de données ainsi on ne supprimera que dans les cas les plus atypiques."
   ]
  },
  {
   "cell_type": "code",
   "execution_count": 581,
   "metadata": {},
   "outputs": [
    {
     "name": "stdout",
     "output_type": "stream",
     "text": [
      "Series([], dtype: float64)\n"
     ]
    },
    {
     "data": {
      "text/plain": [
       "(268, 22297)"
      ]
     },
     "execution_count": 581,
     "metadata": {},
     "output_type": "execute_result"
    }
   ],
   "source": [
    "# Traitement des valeurs abérantes (outliers)\n",
    "Q1 = cs_imputed.iloc[:,14:].quantile(0.25)\n",
    "Q3 = cs_imputed.iloc[:,14:].quantile(0.75)\n",
    "IQR = Q3 - Q1\n",
    "print(IQR)\n",
    "cs_imputed.iloc[:,14:] = cs_imputed[~((cs_imputed.iloc[:,14:] < (Q1 - 1.5 * IQR)) |(cs_imputed.iloc[:,14:] > (Q3 + 1.5 * IQR))).any(axis=1)]\n",
    "cs_imputed.shape\n"
   ]
  },
  {
   "cell_type": "markdown",
   "metadata": {},
   "source": [
    "Je n'ai pas détecté d'outliers flagrant: Je choisi Standard Scaler"
   ]
  },
  {
   "cell_type": "code",
   "execution_count": 582,
   "metadata": {
    "scrolled": false
   },
   "outputs": [],
   "source": [
    "numerical_columns = list(cs.columns[15:]) # colonnes génétiques"
   ]
  },
  {
   "cell_type": "code",
   "execution_count": 583,
   "metadata": {},
   "outputs": [
    {
     "data": {
      "text/plain": [
       "array([[ 0.93465939,  0.3463953 , -1.14600441, ..., -1.43328322,\n",
       "        -1.03473567, -1.05792573],\n",
       "       [ 0.56078945, -0.32232983,  0.30009164, ...,  1.02318208,\n",
       "        -0.96192125, -0.55005759],\n",
       "       [ 1.28304169,  0.73198979, -0.3790667 , ...,  0.72636323,\n",
       "        -1.23895437, -0.56013119],\n",
       "       ...,\n",
       "       [ 0.12719244, -0.92911206,  0.52114106, ...,  0.76579586,\n",
       "        -1.60994655, -0.40540515],\n",
       "       [-0.20583586, -0.47938087,  0.85481307, ..., -0.43208269,\n",
       "         0.30383488,  0.6476827 ],\n",
       "       [ 0.22146601, -0.15289021, -0.43427385, ...,  1.3998364 ,\n",
       "         0.43377826,  0.97909297]])"
      ]
     },
     "execution_count": 583,
     "metadata": {},
     "output_type": "execute_result"
    }
   ],
   "source": [
    "scaler = StandardScaler()\n",
    "scaler.fit_transform(cs_imputed.iloc[:,14:].values)\n",
    "#scaler.fit_transform(numerical_columns)"
   ]
  },
  {
   "cell_type": "markdown",
   "metadata": {},
   "source": [
    "#### LabelEncoding"
   ]
  },
  {
   "cell_type": "markdown",
   "metadata": {},
   "source": [
    "On passe maintenant au Encoding des variables qualitatives (incluant la variable réponse).\n",
    "Mon choix du 'encoding' demande à ce que je divise en 2 sous-étapes:\n",
    "\n",
    "    - 1. J'applique le LabelEncoder qui converti les strings en nombres\n",
    "    - 2. J'utilise pd.get_dummies qui agit comme OneHotEncoding."
   ]
  },
  {
   "cell_type": "code",
   "execution_count": 584,
   "metadata": {},
   "outputs": [],
   "source": [
    "# On converti les strings en nombres - on commence donc par faire le label encoding\n",
    "le = LabelEncoder() \n",
    "for catvar in categorical_columns: \n",
    "    cs_imputed[catvar]= le.fit_transform(cs_imputed[catvar]) \n"
   ]
  },
  {
   "cell_type": "code",
   "execution_count": 585,
   "metadata": {},
   "outputs": [],
   "source": [
    "# OneHotEncoding\n",
    "cs_imputed_encoded = pd.get_dummies(cs_imputed, columns=categorical_columns, drop_first=True)"
   ]
  },
  {
   "cell_type": "code",
   "execution_count": 586,
   "metadata": {},
   "outputs": [
    {
     "data": {
      "text/html": [
       "<div>\n",
       "<style scoped>\n",
       "    .dataframe tbody tr th:only-of-type {\n",
       "        vertical-align: middle;\n",
       "    }\n",
       "\n",
       "    .dataframe tbody tr th {\n",
       "        vertical-align: top;\n",
       "    }\n",
       "\n",
       "    .dataframe thead th {\n",
       "        text-align: right;\n",
       "    }\n",
       "</style>\n",
       "<table border=\"1\" class=\"dataframe\">\n",
       "  <thead>\n",
       "    <tr style=\"text-align: right;\">\n",
       "      <th></th>\n",
       "      <th>treatment_response_1</th>\n",
       "    </tr>\n",
       "  </thead>\n",
       "  <tbody>\n",
       "    <tr>\n",
       "      <th>GSM505327</th>\n",
       "      <td>0</td>\n",
       "    </tr>\n",
       "    <tr>\n",
       "      <th>GSM505328</th>\n",
       "      <td>0</td>\n",
       "    </tr>\n",
       "    <tr>\n",
       "      <th>GSM505329</th>\n",
       "      <td>0</td>\n",
       "    </tr>\n",
       "    <tr>\n",
       "      <th>GSM505330</th>\n",
       "      <td>0</td>\n",
       "    </tr>\n",
       "    <tr>\n",
       "      <th>GSM505331</th>\n",
       "      <td>0</td>\n",
       "    </tr>\n",
       "    <tr>\n",
       "      <th>...</th>\n",
       "      <td>...</td>\n",
       "    </tr>\n",
       "    <tr>\n",
       "      <th>GSM505601</th>\n",
       "      <td>0</td>\n",
       "    </tr>\n",
       "    <tr>\n",
       "      <th>GSM505602</th>\n",
       "      <td>0</td>\n",
       "    </tr>\n",
       "    <tr>\n",
       "      <th>GSM505603</th>\n",
       "      <td>0</td>\n",
       "    </tr>\n",
       "    <tr>\n",
       "      <th>GSM505604</th>\n",
       "      <td>0</td>\n",
       "    </tr>\n",
       "    <tr>\n",
       "      <th>GSM505605</th>\n",
       "      <td>0</td>\n",
       "    </tr>\n",
       "  </tbody>\n",
       "</table>\n",
       "<p>268 rows × 1 columns</p>\n",
       "</div>"
      ],
      "text/plain": [
       "           treatment_response_1\n",
       "GSM505327                     0\n",
       "GSM505328                     0\n",
       "GSM505329                     0\n",
       "GSM505330                     0\n",
       "GSM505331                     0\n",
       "...                         ...\n",
       "GSM505601                     0\n",
       "GSM505602                     0\n",
       "GSM505603                     0\n",
       "GSM505604                     0\n",
       "GSM505605                     0\n",
       "\n",
       "[268 rows x 1 columns]"
      ]
     },
     "execution_count": 586,
     "metadata": {},
     "output_type": "execute_result"
    }
   ],
   "source": [
    "# Je retrouve la variable réponse\n",
    "cs_imputed_encoded.filter(regex='treatment_response')"
   ]
  },
  {
   "cell_type": "markdown",
   "metadata": {},
   "source": [
    "## Model selection"
   ]
  },
  {
   "cell_type": "code",
   "execution_count": 587,
   "metadata": {},
   "outputs": [],
   "source": [
    "X=cs_imputed_encoded.iloc[:, cs_imputed_encoded.columns != 'treatment_response_1']\n",
    "y=cs_imputed_encoded.treatment_response_1\n"
   ]
  },
  {
   "cell_type": "markdown",
   "metadata": {},
   "source": [
    "Je commence par 'split' les données, ici je choisi un split de 35% (un choix aléatoire qui fait parti à améliorer dans la méthodologie)."
   ]
  },
  {
   "cell_type": "code",
   "execution_count": 588,
   "metadata": {},
   "outputs": [
    {
     "name": "stdout",
     "output_type": "stream",
     "text": [
      "Xf_train:  (174, 22701)\n",
      "Xf_test:  (94, 22701)\n"
     ]
    }
   ],
   "source": [
    "Xf_train, Xf_test, yf_train, yf_test = train_test_split(X, y, test_size=0.35,random_state=42)\n",
    "print('Xf_train: ', Xf_train.shape)\n",
    "print('Xf_test: ',Xf_test.shape)"
   ]
  },
  {
   "cell_type": "markdown",
   "metadata": {},
   "source": [
    "#### Reduction de dimension"
   ]
  },
  {
   "cell_type": "markdown",
   "metadata": {},
   "source": [
    "Nous cherchons maintenant à réduire le nombre de dimensions. Tel que vu précédemment nous avons plus de 22000 variables.\n",
    "Il existe plusieurs techniques de réduction de dimension, tel que l'utilisation du Lasso (qui élimine les variables moins significatives) ou le Ridge (qui réduit ces dites variables), ou encore l'Elastic-Net qui lui combine à la fois le Lasso et le Ridge.\n",
    "\n",
    "Nous choisissons ici d'utiliser une autre technique, soit l'ACP, afin de réduire les dimensions. \n",
    "\n"
   ]
  },
  {
   "cell_type": "markdown",
   "metadata": {},
   "source": [
    "Je commence d'abords par regarder le nombre de variables sélectionnées lorsque je choisi une variance expliquée de 98% (un pourcentage que je considère élevé). Ce pourcentage sera réduit si cela demande trop de dimensions."
   ]
  },
  {
   "cell_type": "code",
   "execution_count": 589,
   "metadata": {},
   "outputs": [],
   "source": [
    "pca1=PCA()\n",
    "pca1.fit(Xf_train)\n",
    "cum_sum=np.cumsum(pca1.explained_variance_ratio_)\n",
    "d=np.argmax(cum_sum>=0.98)+1 # ici nous calcuons la valeur d qui maximise la variance expliquée à 95%."
   ]
  },
  {
   "cell_type": "code",
   "execution_count": 590,
   "metadata": {},
   "outputs": [
    {
     "name": "stdout",
     "output_type": "stream",
     "text": [
      "Le nombre de variables initiales :  22701\n",
      "Le nombre de variables après l'ACP en choisissant 98% d'inertie :  163\n"
     ]
    }
   ],
   "source": [
    "print('Le nombre de variables initiales : ', Xf_train.shape[1])\n",
    "print(\"Le nombre de variables après l'ACP en choisissant 98% d'inertie : \", d)"
   ]
  },
  {
   "cell_type": "markdown",
   "metadata": {},
   "source": [
    "On remarque qu'avec 98% de variance expliquée on passe de 22701 dimensions à 163 dimensions ce qui représente une nette réduction de dimension.\n",
    "Une ACP à 98% sera ainsi utilisé plus tard dans les pipelines."
   ]
  },
  {
   "cell_type": "markdown",
   "metadata": {},
   "source": [
    "En ce qui concerne le Lasso, les mêmes critères de modélisation seront utilisés que dans le cas des données génétiques uniquement. "
   ]
  },
  {
   "cell_type": "markdown",
   "metadata": {},
   "source": [
    "#### Creation de Pipelines"
   ]
  },
  {
   "cell_type": "markdown",
   "metadata": {},
   "source": [
    "Dans cette section je vais construire plusieurs pipelines. La meilleure approche est de créer un seul pipeline qui nous sortirait le meilleur modèle, la meilleur démarche automatiquement. Toutefois, afin de mieux analyser les différents résultats, j'ai opté d'utiliser des pipelines séparés. \n",
    "\n",
    "\n",
    "Il aurait été également possible d'incorporer le StandardScaler des variables quantitatives et le OneHotEncoding(ou LabelEncoding) des variables qualitatives directement dans les pipelines mais comme cela a déjà été fait au début lors du prétraitement de données, je n'utiliserai pas ces options ici. Toutefois, cela fait partie des améliorations qui pourraient être fait dans le future afin d'uniformiser la structure et rendre le programme plus performant.\n"
   ]
  },
  {
   "cell_type": "markdown",
   "metadata": {},
   "source": [
    "On construit les pipelines"
   ]
  },
  {
   "cell_type": "code",
   "execution_count": 591,
   "metadata": {},
   "outputs": [],
   "source": [
    "########################## SANS Réduction de dimension ##########################################\n",
    "\n",
    "# SVM sans ACP\n",
    "pipe_svm = Pipeline([('clf', SVC(random_state=42))])\n",
    "\n",
    "\n",
    "########################## AVEC Réduction de dimension (ACP) #####################################\n",
    "\n",
    "# SVM avec ACP\n",
    "pipe_svm_pca = Pipeline([('pca', PCA(0.98)),\n",
    "                         ('clf', SVC(random_state=42))])\n",
    "\n",
    "# XGBoost avec ACP\n",
    "pipe_xgb_pca = Pipeline([('pca', PCA(0.98)),\n",
    "                         ('clf', XGBClassifier(learning_rate=0.02, n_estimators=600, objective='binary:logistic', nthread=1))])\n",
    "\n",
    "# Random Forest avec ACP\n",
    "pipe_rf_pca = Pipeline([('pca', PCA(0.98)),\n",
    "                         ('clf', RandomForestClassifier())])\n",
    "\n",
    "########################## AVEC Réduction de dimension (LASSO) ####################################\n",
    "\n",
    "# SVM avec Lasso\n",
    "pipe_svm_lasso = Pipeline([('feature_selection', SelectFromModel(LogisticRegression(C=3.3,penalty='l1',solver='liblinear'))),\n",
    "                         ('clf', SVC())])\n",
    "\n",
    "# XGBoost avec Lasso\n",
    "pipe_xgb_lasso = Pipeline([('feature_selection', SelectFromModel(LogisticRegression(C=3.3,penalty='l1',solver='liblinear'))),\n",
    "                         ('clf', XGBClassifier(learning_rate=0.02, n_estimators=600, objective='binary:logistic', nthread=1))])\n",
    "\n",
    "# Random Forest avec Lasso\n",
    "pipe_rf_lasso = Pipeline([('feature_selection', SelectFromModel(LogisticRegression(C=3.3,penalty='l1',solver='liblinear'))),\n",
    "                         ('clf', RandomForestClassifier())])\n",
    "\n",
    "########################## Régression Logistique pénalisée ####################################\n",
    "\n",
    "# Régression Logistique pénalisée \n",
    "pipe_lr = Pipeline([('clf', LogisticRegression(random_state=42))])"
   ]
  },
  {
   "cell_type": "markdown",
   "metadata": {},
   "source": [
    "On crée le grid des paramètres"
   ]
  },
  {
   "cell_type": "code",
   "execution_count": 592,
   "metadata": {},
   "outputs": [],
   "source": [
    "# grid_params_lr_initial = '{'clf__penalty': ['l1', 'l2','elasticnet'],'clf__C': [1.0, 0.5, 0.1], 'clf__solver': ['liblinear','saga']}]\n",
    "# 'penalty' compare le lasso (l1), le ridge(l2) et l'elasticnet\n",
    "# 'solver' est l'algorithme pour l'optimisation, saga est le seul utilisé pour l'elastic net.\n",
    "\n",
    "grid_params_lr = [{'clf__penalty': ['l1','l2','elasticnet'], \n",
    "'clf__C': [0.05,0.1,0.15], # le degré de pénalisation\n",
    "'clf__solver': ['liblinear','saga']}]\n",
    "\n",
    "# grid_params_svm_initial = ''clf__C': [1, 2, 3, 4, 5, 6, 7, 8, 9, 10], clf__gamma':[0.00005,0.0001,0.001]}]. \n",
    "# Après avoir utilisé grid_params_svm_initial, je réduit les choix des paramètres afin de raccourcir le temps de calcul\n",
    "grid_params_svm = [{'clf__kernel': ['linear', 'rbf'], \n",
    "'clf__C': [1,2],                 \n",
    "'clf__gamma':[0.00005]}]\n",
    "\n",
    "# ATTENTION TRÈS LONG\n",
    "# grid_params_xgb_initial = [ { 'clf__min_child_weight': [1, 5, 10], 'clf__gamma': [0.5, 1, 1.5, 2, 5], 'clf__subsample': [0.6, 0.8, 1.0],'clf__colsample_bytree': [0.6, 0.8, 1.0],'clf__max_depth': [3, 4, 5]}]\n",
    "# Après avoir utilisé grid_params_xgb_initial, je réduit les choix des paramètres afin de raccourcir le temps de calcul:\n",
    "grid_params_xgb=[{'clf__colsample_bytree': [0.8,1.0], \n",
    "                  'clf__gamma': [2,2.5], \n",
    "                  'clf__max_depth': [2,3]}]\n",
    "\n",
    "# grid_params_rf_initial = '\n",
    "    # bootstrap': [True,False],\n",
    "    #'max_depth': [300,400,500,550,600,650,670],\n",
    "    #'max_features': [10,12,14,16,18,20,30,40],\n",
    "    #'min_samples_leaf': [5,6,8,10,15],\n",
    "    #'min_samples_split': [2,3,4,5,8,9,10],\n",
    "    #'n_estimators': [10,15,18,20,22,23,25,30]'\n",
    "# Après avoir utilisé grid_params_rf_initial, je réduit les choix des paramètres afin de raccourcir le temps de calcul\n",
    "grid_params_rf = [{\n",
    "    'clf__bootstrap': [False],\n",
    "    'clf__max_depth': [600],\n",
    "    'clf__max_features': [40],\n",
    "    'clf__min_samples_leaf': [5,6,8,10,15],\n",
    "    'clf__min_samples_split': [5],\n",
    "    'clf__n_estimators': [22]}]\n",
    "#RandomForestClassifier(bootstrap=False, max_depth=600, max_features=40,min_samples_leaf=5, n_estimators=22)"
   ]
  },
  {
   "cell_type": "markdown",
   "metadata": {},
   "source": [
    "On crée les gridSearchCV"
   ]
  },
  {
   "cell_type": "code",
   "execution_count": 593,
   "metadata": {},
   "outputs": [],
   "source": [
    "# Sans réduction de dimension\n",
    "jobs = -1\n",
    "cv = KFold(n_splits=4, shuffle=True, random_state=42) \n",
    "# je choisi de divisé en 3 et pas plus car la taille des données est petite.\n",
    "\n",
    "gs_svm = GridSearchCV(estimator=pipe_svm,\n",
    "param_grid=grid_params_svm,\n",
    "scoring='accuracy',\n",
    "cv=cv,\n",
    "n_jobs=jobs)\n",
    "\n",
    "\n",
    "# Avec Réduction de dimension\n",
    "\n",
    "gs_lr = GridSearchCV(estimator=pipe_lr,\n",
    "param_grid=grid_params_lr,\n",
    "scoring='accuracy',\n",
    "cv=cv,n_jobs=jobs)\n",
    "\n",
    "gs_svm_pca = GridSearchCV(estimator=pipe_svm_pca,\n",
    "param_grid=grid_params_svm,\n",
    "scoring='accuracy',\n",
    "cv=cv,\n",
    "n_jobs=jobs)\n",
    "\n",
    "gs_xgb_pca=GridSearchCV(estimator=pipe_xgb_pca,\n",
    "param_grid=grid_params_xgb,\n",
    "scoring='accuracy',cv=cv, n_jobs=jobs)\n",
    "\n",
    "gs_rf_pca=GridSearchCV(estimator=pipe_rf_pca,\n",
    "param_grid=grid_params_rf,                        \n",
    "scoring='accuracy',\n",
    "cv=cv,n_jobs=jobs)\n",
    "\n",
    "gs_svm_lasso = GridSearchCV(estimator=pipe_svm_lasso,\n",
    "param_grid=grid_params_svm,\n",
    "scoring='accuracy',\n",
    "cv=cv,\n",
    "n_jobs=jobs)\n",
    "\n",
    "gs_xgb_lasso=GridSearchCV(estimator=pipe_xgb_lasso,\n",
    "param_grid=grid_params_xgb,\n",
    "scoring='accuracy',cv=cv, n_jobs=jobs)\n",
    "\n",
    "gs_rf_lasso=GridSearchCV(estimator=pipe_rf_lasso,\n",
    "param_grid=grid_params_rf,                        \n",
    "scoring='accuracy',\n",
    "cv=cv,n_jobs=jobs)"
   ]
  },
  {
   "cell_type": "code",
   "execution_count": 594,
   "metadata": {},
   "outputs": [],
   "source": [
    "grids = [gs_svm, gs_lr, gs_svm_pca,gs_xgb_pca,gs_rf_pca,gs_svm_lasso,gs_xgb_lasso,gs_rf_lasso]\n"
   ]
  },
  {
   "cell_type": "code",
   "execution_count": 595,
   "metadata": {},
   "outputs": [],
   "source": [
    "# Dictionary of pipelines and classifier types for ease of reference\n",
    "grid_dict = {0: 'Support Vector Machine sans réduction de dimensions',\n",
    "             1: 'Logistic Regression pénalisé',\n",
    "             2: 'Support Vector Machine avec Réduction: PCA',\n",
    "             3: 'XGBoost avec Réduction: PCA',\n",
    "             4: 'Random Forest avec Réduction: PCA',\n",
    "             5: 'Support Vector Machine avec Réduction: Lasso Logistique',\n",
    "             6: 'XGBoost avec Réduction: Lasso Logistique',\n",
    "             7: 'Random Forest avec Réduction: Lasso Logistique'\n",
    "             }\n"
   ]
  },
  {
   "cell_type": "code",
   "execution_count": 596,
   "metadata": {},
   "outputs": [],
   "source": [
    "#Plotting the confusion matrix\n",
    "class_names=['RD','pCR']\n",
    "\n",
    "def plot_confusion_matrix(cm, classes,\n",
    "                          normalize=False,\n",
    "                          title='Confusion matrix',\n",
    "                          cmap=plt.cm.Blues):\n",
    "    \n",
    "   \n",
    "    plt.imshow(cm, interpolation='nearest', cmap=cmap)\n",
    "    plt.title(title)\n",
    "    plt.colorbar()\n",
    "    tick_marks = np.arange(len(classes))\n",
    "    plt.xticks(tick_marks, classes, rotation=45)\n",
    "    plt.yticks(tick_marks, classes)\n",
    "    \n",
    "\n",
    "\n",
    "    thresh = cm.max() / 2.\n",
    "    for i, j in itertools.product(range(cm.shape[0]), range(cm.shape[1])):\n",
    "        plt.text(j, i, cm[i, j],\n",
    "                 horizontalalignment=\"center\",\n",
    "                 color=\"white\" if cm[i, j] > thresh else \"black\")\n",
    "        \n",
    "        \n",
    "    plt.tight_layout()\n",
    "    plt.ylabel('True label')\n",
    "    plt.xlabel('Predicted label')"
   ]
  },
  {
   "cell_type": "code",
   "execution_count": 597,
   "metadata": {},
   "outputs": [],
   "source": [
    "# ATTENTION LONG À ROULER CAR IL ROULE TOUS LES CLASSIFIEURS ET PARAMÈTRES"
   ]
  },
  {
   "cell_type": "code",
   "execution_count": 604,
   "metadata": {},
   "outputs": [
    {
     "name": "stdout",
     "output_type": "stream",
     "text": [
      "On débute ...\n",
      "\n",
      "Estimateur: Support Vector Machine sans réduction de dimensions\n",
      "Les meilleurs paramètres sont : {'clf__C': 1, 'clf__gamma': 5e-05, 'clf__kernel': 'linear'}\n",
      "Le meilleur accuracy score sur données train: 0.828\n",
      "Recall(moyen) sur données test pour les meilleurs paramètres: 0.883 \n",
      "[[75  3]\n",
      " [ 8  8]]\n",
      "              precision    recall  f1-score   support\n",
      "\n",
      "           0       0.90      0.96      0.93        78\n",
      "           1       0.73      0.50      0.59        16\n",
      "\n",
      "    accuracy                           0.88        94\n",
      "   macro avg       0.82      0.73      0.76        94\n",
      "weighted avg       0.87      0.88      0.87        94\n",
      "\n",
      "\n",
      "Estimateur: Logistic Regression pénalisé\n",
      "Les meilleurs paramètres sont : {'clf__C': 0.15, 'clf__penalty': 'l2', 'clf__solver': 'liblinear'}\n",
      "Le meilleur accuracy score sur données train: 0.822\n",
      "Recall(moyen) sur données test pour les meilleurs paramètres: 0.862 \n",
      "[[75  3]\n",
      " [10  6]]\n",
      "              precision    recall  f1-score   support\n",
      "\n",
      "           0       0.88      0.96      0.92        78\n",
      "           1       0.67      0.38      0.48        16\n",
      "\n",
      "    accuracy                           0.86        94\n",
      "   macro avg       0.77      0.67      0.70        94\n",
      "weighted avg       0.85      0.86      0.85        94\n",
      "\n",
      "\n",
      "Estimateur: Support Vector Machine avec Réduction: PCA\n",
      "Les meilleurs paramètres sont : {'clf__C': 1, 'clf__gamma': 5e-05, 'clf__kernel': 'linear'}\n",
      "Le meilleur accuracy score sur données train: 0.828\n",
      "Recall(moyen) sur données test pour les meilleurs paramètres: 0.883 \n",
      "[[75  3]\n",
      " [ 8  8]]\n",
      "              precision    recall  f1-score   support\n",
      "\n",
      "           0       0.90      0.96      0.93        78\n",
      "           1       0.73      0.50      0.59        16\n",
      "\n",
      "    accuracy                           0.88        94\n",
      "   macro avg       0.82      0.73      0.76        94\n",
      "weighted avg       0.87      0.88      0.87        94\n",
      "\n",
      "\n",
      "Estimateur: XGBoost avec Réduction: PCA\n",
      "Les meilleurs paramètres sont : {'clf__colsample_bytree': 0.8, 'clf__gamma': 2, 'clf__max_depth': 3}\n",
      "Le meilleur accuracy score sur données train: 0.793\n",
      "Recall(moyen) sur données test pour les meilleurs paramètres: 0.840 \n",
      "[[78  0]\n",
      " [15  1]]\n",
      "              precision    recall  f1-score   support\n",
      "\n",
      "           0       0.84      1.00      0.91        78\n",
      "           1       1.00      0.06      0.12        16\n",
      "\n",
      "    accuracy                           0.84        94\n",
      "   macro avg       0.92      0.53      0.51        94\n",
      "weighted avg       0.87      0.84      0.78        94\n",
      "\n",
      "\n",
      "Estimateur: Random Forest avec Réduction: PCA\n",
      "Les meilleurs paramètres sont : {'clf__bootstrap': False, 'clf__max_depth': 600, 'clf__max_features': 40, 'clf__min_samples_leaf': 5, 'clf__min_samples_split': 5, 'clf__n_estimators': 22}\n",
      "Le meilleur accuracy score sur données train: 0.799\n",
      "Recall(moyen) sur données test pour les meilleurs paramètres: 0.840 \n",
      "[[78  0]\n",
      " [15  1]]\n",
      "              precision    recall  f1-score   support\n",
      "\n",
      "           0       0.84      1.00      0.91        78\n",
      "           1       1.00      0.06      0.12        16\n",
      "\n",
      "    accuracy                           0.84        94\n",
      "   macro avg       0.92      0.53      0.51        94\n",
      "weighted avg       0.87      0.84      0.78        94\n",
      "\n",
      "\n",
      "Estimateur: Support Vector Machine avec Réduction: Lasso Logistique\n",
      "Les meilleurs paramètres sont : {'clf__C': 1, 'clf__gamma': 5e-05, 'clf__kernel': 'linear'}\n",
      "Le meilleur accuracy score sur données train: 0.816\n",
      "Recall(moyen) sur données test pour les meilleurs paramètres: 0.851 \n",
      "[[73  5]\n",
      " [ 9  7]]\n",
      "              precision    recall  f1-score   support\n",
      "\n",
      "           0       0.89      0.94      0.91        78\n",
      "           1       0.58      0.44      0.50        16\n",
      "\n",
      "    accuracy                           0.85        94\n",
      "   macro avg       0.74      0.69      0.71        94\n",
      "weighted avg       0.84      0.85      0.84        94\n",
      "\n",
      "\n",
      "Estimateur: XGBoost avec Réduction: Lasso Logistique\n",
      "Les meilleurs paramètres sont : {'clf__colsample_bytree': 1.0, 'clf__gamma': 2.5, 'clf__max_depth': 2}\n",
      "Le meilleur accuracy score sur données train: 0.776\n",
      "Recall(moyen) sur données test pour les meilleurs paramètres: 0.809 \n",
      "[[73  5]\n",
      " [13  3]]\n",
      "              precision    recall  f1-score   support\n",
      "\n",
      "           0       0.85      0.94      0.89        78\n",
      "           1       0.38      0.19      0.25        16\n",
      "\n",
      "    accuracy                           0.81        94\n",
      "   macro avg       0.61      0.56      0.57        94\n",
      "weighted avg       0.77      0.81      0.78        94\n",
      "\n",
      "\n",
      "Estimateur: Random Forest avec Réduction: Lasso Logistique\n",
      "Les meilleurs paramètres sont : {'clf__bootstrap': False, 'clf__max_depth': 600, 'clf__max_features': 40, 'clf__min_samples_leaf': 5, 'clf__min_samples_split': 5, 'clf__n_estimators': 22}\n",
      "Le meilleur accuracy score sur données train: 0.799\n",
      "Recall(moyen) sur données test pour les meilleurs paramètres: 0.840 \n",
      "[[73  5]\n",
      " [10  6]]\n",
      "              precision    recall  f1-score   support\n",
      "\n",
      "           0       0.88      0.94      0.91        78\n",
      "           1       0.55      0.38      0.44        16\n",
      "\n",
      "    accuracy                           0.84        94\n",
      "   macro avg       0.71      0.66      0.68        94\n",
      "weighted avg       0.82      0.84      0.83        94\n",
      "\n"
     ]
    }
   ],
   "source": [
    "# Fit the grid search objects\n",
    "print('On débute ...')\n",
    "print('Nous utilisons les mesures de performances suivantes: ')\n",
    "print(\"/n - Accuracy score, calculé sur les données test.\")\n",
    "print(\"/n - Le cross validation score, calculé à partir des données d'entraînement.\")\n",
    "print(\"/n - Les matrices de confusion qui affichent les scores de précision et scores de recall - calculés sur données d'entraînement.\")\n",
    "\n",
    "\n",
    "best_acc = 0.0\n",
    "best_clf = 0\n",
    "best_gs = ''\n",
    "\n",
    "for idx, gs in enumerate(grids):\n",
    "    print('\\nEstimateur: %s' % grid_dict[idx])\n",
    "    #Fit sur les données train, permet de trouver l'estimateur (le classifieur estimé)\n",
    "    gs.fit(Xf_train, yf_train)\n",
    "    print('Les meilleurs paramètres sont : %s' % gs.best_params_)\n",
    "    print('Le cross validation score sur données train: %.3f' % gs.best_score_)\n",
    "    \n",
    "    # Predict sur les données test\n",
    "    y_pred = gs.predict(Xf_test)\n",
    "    # Test data accuracy of model with best params\n",
    "    print('Accuracy score sur données test pour les meilleurs paramètres: %.3f ' % accuracy_score(yf_test, y_pred))\n",
    "    print(confusion_matrix(yf_test,y_pred))\n",
    "    \n",
    "    cm=confusion_matrix(yf_test,y_pred)\n",
    "    print(classification_report(yf_test, y_pred))\n",
    "    # On veut sortir le classifieur ayant le meilleur accuracy score (1-erreur de classification minimum)\n",
    "    if accuracy_score(yf_test, y_pred) > best_acc:\n",
    "        best_acc = accuracy_score(yf_test, y_pred)\n",
    "        best_gs = gs\n",
    "        best_clf = idx\n",
    "        best_yf=y_pred\n",
    "        \n",
    "\n"
   ]
  },
  {
   "cell_type": "code",
   "execution_count": 565,
   "metadata": {},
   "outputs": [
    {
     "name": "stdout",
     "output_type": "stream",
     "text": [
      "Meilleur classifieur :  Support Vector Machine sans réduction de dimensions\n",
      "Meilleur accuracy score :  0.883\n",
      "Erreur de validation croisée :  0.117\n"
     ]
    }
   ],
   "source": [
    "print('Meilleur classifieur : ',grid_dict[best_clf])\n",
    "print('Meilleur Recall : ',round(best_acc,3))\n",
    "print('Erreur de classification : ',round(1-best_acc,3))"
   ]
  },
  {
   "cell_type": "code",
   "execution_count": 601,
   "metadata": {},
   "outputs": [
    {
     "data": {
      "image/png": "[encoded data removed]",
      "text/plain": [
       "<Figure size 432x288 with 2 Axes>"
      ]
     },
     "metadata": {
      "needs_background": "light"
     },
     "output_type": "display_data"
    }
   ],
   "source": [
    "cm=confusion_matrix(yf_test,best_yf)\n",
    "plot_confusion_matrix(cm, classes=class_names, title='Confusion matrix')"
   ]
  },
  {
   "cell_type": "markdown",
   "metadata": {},
   "source": [
    "Nous faisons les mêmes interprétations que dans les cas où uniquement les variables génétiques sont prises en compte.\n",
    "Veuillez vous référer à l'autre fichier Projet_Exo2_GeneticOnly_Final."
   ]
  },
  {
   "cell_type": "raw",
   "metadata": {},
   "source": []
  },
  {
   "cell_type": "markdown",
   "metadata": {},
   "source": [
    "# svp voir données génétiques pour la suite."
   ]
  },
  {
   "cell_type": "code",
   "execution_count": null,
   "metadata": {},
   "outputs": [],
   "source": []
  }
 ],
 "metadata": {
  "kernelspec": {
   "display_name": "Python 3",
   "language": "python",
   "name": "python3"
  },
  "language_info": {
   "codemirror_mode": {
    "name": "ipython",
    "version": 3
   },
   "file_extension": ".py",
   "mimetype": "text/x-python",
   "name": "python",
   "nbconvert_exporter": "python",
   "pygments_lexer": "ipython3",
   "version": "3.7.9"
  }
 },
 "nbformat": 4,
 "nbformat_minor": 4
}
